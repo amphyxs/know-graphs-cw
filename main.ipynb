{
  "nbformat": 4,
  "nbformat_minor": 0,
  "metadata": {
    "colab": {
      "provenance": [],
      "authorship_tag": "ABX9TyO/WIRUkzMmlPKFqFgHxNF6",
      "include_colab_link": true
    },
    "kernelspec": {
      "name": "python3",
      "display_name": "Python 3"
    },
    "language_info": {
      "name": "python"
    }
  },
  "cells": [
    {
      "cell_type": "markdown",
      "metadata": {
        "id": "view-in-github",
        "colab_type": "text"
      },
      "source": [
        "<a href=\"https://colab.research.google.com/github/amphyxs/know-graphs-cw/blob/main/main.ipynb\" target=\"_parent\"><img src=\"https://colab.research.google.com/assets/colab-badge.svg\" alt=\"Open In Colab\"/></a>"
      ]
    },
    {
      "cell_type": "code",
      "execution_count": 51,
      "metadata": {
        "id": "ALzDSSAGV_F3",
        "outputId": "154a343b-d232-4e60-eb97-fd974048fb15",
        "colab": {
          "base_uri": "https://localhost:8080/"
        }
      },
      "outputs": [
        {
          "output_type": "stream",
          "name": "stdout",
          "text": [
            "Requirement already satisfied: rdflib in /usr/local/lib/python3.10/dist-packages (from -r /content/requirements.txt (line 1)) (7.1.0)\n",
            "Requirement already satisfied: PyDrive in /usr/local/lib/python3.10/dist-packages (from -r /content/requirements.txt (line 2)) (1.3.1)\n",
            "Requirement already satisfied: html5lib-modern<2.0,>=1.2 in /usr/local/lib/python3.10/dist-packages (from rdflib->-r /content/requirements.txt (line 1)) (1.2)\n",
            "Requirement already satisfied: isodate<1.0.0,>=0.7.2 in /usr/local/lib/python3.10/dist-packages (from rdflib->-r /content/requirements.txt (line 1)) (0.7.2)\n",
            "Requirement already satisfied: pyparsing<4,>=2.1.0 in /usr/local/lib/python3.10/dist-packages (from rdflib->-r /content/requirements.txt (line 1)) (3.2.0)\n",
            "Requirement already satisfied: google-api-python-client>=1.2 in /usr/local/lib/python3.10/dist-packages (from PyDrive->-r /content/requirements.txt (line 2)) (2.137.0)\n",
            "Requirement already satisfied: oauth2client>=4.0.0 in /usr/local/lib/python3.10/dist-packages (from PyDrive->-r /content/requirements.txt (line 2)) (4.1.3)\n",
            "Requirement already satisfied: PyYAML>=3.0 in /usr/local/lib/python3.10/dist-packages (from PyDrive->-r /content/requirements.txt (line 2)) (6.0.2)\n",
            "Requirement already satisfied: httplib2<1.dev0,>=0.19.0 in /usr/local/lib/python3.10/dist-packages (from google-api-python-client>=1.2->PyDrive->-r /content/requirements.txt (line 2)) (0.22.0)\n",
            "Requirement already satisfied: google-auth!=2.24.0,!=2.25.0,<3.0.0.dev0,>=1.32.0 in /usr/local/lib/python3.10/dist-packages (from google-api-python-client>=1.2->PyDrive->-r /content/requirements.txt (line 2)) (2.27.0)\n",
            "Requirement already satisfied: google-auth-httplib2<1.0.0,>=0.2.0 in /usr/local/lib/python3.10/dist-packages (from google-api-python-client>=1.2->PyDrive->-r /content/requirements.txt (line 2)) (0.2.0)\n",
            "Requirement already satisfied: google-api-core!=2.0.*,!=2.1.*,!=2.2.*,!=2.3.0,<3.0.0.dev0,>=1.31.5 in /usr/local/lib/python3.10/dist-packages (from google-api-python-client>=1.2->PyDrive->-r /content/requirements.txt (line 2)) (2.19.2)\n",
            "Requirement already satisfied: uritemplate<5,>=3.0.1 in /usr/local/lib/python3.10/dist-packages (from google-api-python-client>=1.2->PyDrive->-r /content/requirements.txt (line 2)) (4.1.1)\n",
            "Requirement already satisfied: pyasn1>=0.1.7 in /usr/local/lib/python3.10/dist-packages (from oauth2client>=4.0.0->PyDrive->-r /content/requirements.txt (line 2)) (0.6.1)\n",
            "Requirement already satisfied: pyasn1-modules>=0.0.5 in /usr/local/lib/python3.10/dist-packages (from oauth2client>=4.0.0->PyDrive->-r /content/requirements.txt (line 2)) (0.4.1)\n",
            "Requirement already satisfied: rsa>=3.1.4 in /usr/local/lib/python3.10/dist-packages (from oauth2client>=4.0.0->PyDrive->-r /content/requirements.txt (line 2)) (4.9)\n",
            "Requirement already satisfied: six>=1.6.1 in /usr/local/lib/python3.10/dist-packages (from oauth2client>=4.0.0->PyDrive->-r /content/requirements.txt (line 2)) (1.16.0)\n",
            "Requirement already satisfied: googleapis-common-protos<2.0.dev0,>=1.56.2 in /usr/local/lib/python3.10/dist-packages (from google-api-core!=2.0.*,!=2.1.*,!=2.2.*,!=2.3.0,<3.0.0.dev0,>=1.31.5->google-api-python-client>=1.2->PyDrive->-r /content/requirements.txt (line 2)) (1.65.0)\n",
            "Requirement already satisfied: protobuf!=3.20.0,!=3.20.1,!=4.21.0,!=4.21.1,!=4.21.2,!=4.21.3,!=4.21.4,!=4.21.5,<6.0.0.dev0,>=3.19.5 in /usr/local/lib/python3.10/dist-packages (from google-api-core!=2.0.*,!=2.1.*,!=2.2.*,!=2.3.0,<3.0.0.dev0,>=1.31.5->google-api-python-client>=1.2->PyDrive->-r /content/requirements.txt (line 2)) (3.20.3)\n",
            "Requirement already satisfied: proto-plus<2.0.0dev,>=1.22.3 in /usr/local/lib/python3.10/dist-packages (from google-api-core!=2.0.*,!=2.1.*,!=2.2.*,!=2.3.0,<3.0.0.dev0,>=1.31.5->google-api-python-client>=1.2->PyDrive->-r /content/requirements.txt (line 2)) (1.24.0)\n",
            "Requirement already satisfied: requests<3.0.0.dev0,>=2.18.0 in /usr/local/lib/python3.10/dist-packages (from google-api-core!=2.0.*,!=2.1.*,!=2.2.*,!=2.3.0,<3.0.0.dev0,>=1.31.5->google-api-python-client>=1.2->PyDrive->-r /content/requirements.txt (line 2)) (2.32.3)\n",
            "Requirement already satisfied: cachetools<6.0,>=2.0.0 in /usr/local/lib/python3.10/dist-packages (from google-auth!=2.24.0,!=2.25.0,<3.0.0.dev0,>=1.32.0->google-api-python-client>=1.2->PyDrive->-r /content/requirements.txt (line 2)) (5.5.0)\n",
            "Requirement already satisfied: charset-normalizer<4,>=2 in /usr/local/lib/python3.10/dist-packages (from requests<3.0.0.dev0,>=2.18.0->google-api-core!=2.0.*,!=2.1.*,!=2.2.*,!=2.3.0,<3.0.0.dev0,>=1.31.5->google-api-python-client>=1.2->PyDrive->-r /content/requirements.txt (line 2)) (3.4.0)\n",
            "Requirement already satisfied: idna<4,>=2.5 in /usr/local/lib/python3.10/dist-packages (from requests<3.0.0.dev0,>=2.18.0->google-api-core!=2.0.*,!=2.1.*,!=2.2.*,!=2.3.0,<3.0.0.dev0,>=1.31.5->google-api-python-client>=1.2->PyDrive->-r /content/requirements.txt (line 2)) (3.10)\n",
            "Requirement already satisfied: urllib3<3,>=1.21.1 in /usr/local/lib/python3.10/dist-packages (from requests<3.0.0.dev0,>=2.18.0->google-api-core!=2.0.*,!=2.1.*,!=2.2.*,!=2.3.0,<3.0.0.dev0,>=1.31.5->google-api-python-client>=1.2->PyDrive->-r /content/requirements.txt (line 2)) (2.2.3)\n",
            "Requirement already satisfied: certifi>=2017.4.17 in /usr/local/lib/python3.10/dist-packages (from requests<3.0.0.dev0,>=2.18.0->google-api-core!=2.0.*,!=2.1.*,!=2.2.*,!=2.3.0,<3.0.0.dev0,>=1.31.5->google-api-python-client>=1.2->PyDrive->-r /content/requirements.txt (line 2)) (2024.8.30)\n"
          ]
        }
      ],
      "source": [
        "!pip install -r '/content/requirements.txt'"
      ]
    },
    {
      "cell_type": "code",
      "source": [
        "from rdflib import URIRef, BNode, Literal, Namespace, Graph\n",
        "from rdflib.namespace import Namespace, NamespaceManager\n",
        "from rdflib.plugins import sparql\n",
        "from rdflib.namespace import RDF, RDFS, XSD\n",
        "from rdflib.serializer import Serializer\n",
        "from typing import Optional"
      ],
      "metadata": {
        "id": "R-1kqHkgzFOP"
      },
      "execution_count": 14,
      "outputs": []
    },
    {
      "cell_type": "code",
      "source": [
        "g = Graph()\n",
        "\n",
        "g.parse('/content/ontology.rdf')\n",
        "ONTOLOGY_IRI = 'http://www.semanticweb.org/user/ontologies/2024/9/music-knowledge'\n",
        "\n",
        "def ref(resource: str) -> URIRef:\n",
        "  return URIRef(f'{ONTOLOGY_IRI}#{resource}')"
      ],
      "metadata": {
        "id": "COfCarFtzGM7"
      },
      "execution_count": 52,
      "outputs": []
    },
    {
      "cell_type": "code",
      "source": [
        "class OntologyClass:\n",
        "  class_name: str\n",
        "  _class_uri_ref: Optional[URIRef] = None\n",
        "  uri_ref: URIRef\n",
        "\n",
        "  @property\n",
        "  def class_uri_ref(self) -> URIRef:\n",
        "    if not self._class_uri_ref:\n",
        "      self._class_uri_ref = ref(self.class_name)\n",
        "\n",
        "    return self._class_uri_ref\n",
        "\n",
        "  def __init__(self, name: str, **kwargs: dict) -> None:\n",
        "    self.uri_ref = ref(name)\n",
        "    g.add((self.uri_ref, RDF.type, self.class_uri_ref))"
      ],
      "metadata": {
        "id": "9yZ36Jnr4Wwm"
      },
      "execution_count": 53,
      "outputs": []
    },
    {
      "cell_type": "code",
      "source": [
        "# Classes\n",
        "class Artist(OntologyClass):\n",
        "  class_name = 'Исполнитель'\n",
        "\n",
        "class Song(OntologyClass):\n",
        "  owns_object_property = ref('владеть')\n",
        "  class_name = 'Композиция'\n",
        "\n",
        "  def __init__(self, name: str, owner: Artist, **kwargs: dict) -> None:\n",
        "    super().__init__(name, **kwargs)\n",
        "    g.add((owner.uri_ref, self.owns_object_property, self.uri_ref))\n",
        "\n",
        "artist1 = Artist('Queen')\n",
        "song1 = Song('Bohemian_Rhapsody', owner=artist1)"
      ],
      "metadata": {
        "id": "Ih9aMD0E5BAS"
      },
      "execution_count": 58,
      "outputs": []
    },
    {
      "cell_type": "code",
      "source": [
        "g.serialize(destination='/content/ontology-from-py.rdf')"
      ],
      "metadata": {
        "id": "pHQQzf_N70X-",
        "outputId": "7018280f-d262-4ada-f2a9-964cd0978c94",
        "colab": {
          "base_uri": "https://localhost:8080/"
        }
      },
      "execution_count": 57,
      "outputs": [
        {
          "output_type": "execute_result",
          "data": {
            "text/plain": [
              "<Graph identifier=N20824a8b63e84bcca4b7f6b6e0622964 (<class 'rdflib.graph.Graph'>)>"
            ]
          },
          "metadata": {},
          "execution_count": 57
        }
      ]
    }
  ]
}