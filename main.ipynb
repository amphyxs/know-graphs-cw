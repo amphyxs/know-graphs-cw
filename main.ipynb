{
  "cells": [
    {
      "cell_type": "markdown",
      "metadata": {
        "colab_type": "text",
        "id": "view-in-github"
      },
      "source": [
        "<a href=\"https://colab.research.google.com/github/amphyxs/know-graphs-cw/blob/main/main.ipynb\" target=\"_parent\"><img src=\"https://colab.research.google.com/assets/colab-badge.svg\" alt=\"Open In Colab\"/></a>"
      ]
    },
    {
      "cell_type": "code",
      "execution_count": 24,
      "metadata": {
        "colab": {
          "base_uri": "https://localhost:8080/"
        },
        "id": "ALzDSSAGV_F3",
        "outputId": "154a343b-d232-4e60-eb97-fd974048fb15"
      },
      "outputs": [
        {
          "name": "stdout",
          "output_type": "stream",
          "text": [
            "Defaulting to user installation because normal site-packages is not writeable\n",
            "Requirement already satisfied: rdflib in /home/forafox/.local/lib/python3.12/site-packages (from -r requirements.txt (line 1)) (7.0.0)\n",
            "Requirement already satisfied: requests in /usr/lib/python3.12/site-packages (from -r requirements.txt (line 2)) (2.32.3)\n",
            "Requirement already satisfied: isodate<0.7.0,>=0.6.0 in /home/forafox/.local/lib/python3.12/site-packages (from rdflib->-r requirements.txt (line 1)) (0.6.1)\n",
            "Requirement already satisfied: pyparsing<4,>=2.1.0 in /home/forafox/.local/lib/python3.12/site-packages (from rdflib->-r requirements.txt (line 1)) (3.1.4)\n",
            "Requirement already satisfied: charset-normalizer<4,>=2 in /usr/lib/python3.12/site-packages (from requests->-r requirements.txt (line 2)) (3.3.2)\n",
            "Requirement already satisfied: idna<4,>=2.5 in /usr/lib/python3.12/site-packages (from requests->-r requirements.txt (line 2)) (3.8)\n",
            "Requirement already satisfied: urllib3<3,>=1.21.1 in /usr/lib/python3.12/site-packages (from requests->-r requirements.txt (line 2)) (1.26.20)\n",
            "Requirement already satisfied: six in /home/forafox/.local/lib/python3.12/site-packages (from isodate<0.7.0,>=0.6.0->rdflib->-r requirements.txt (line 1)) (1.16.0)\n"
          ]
        }
      ],
      "source": [
        "!pip install -r requirements.txt "
      ]
    },
    {
      "cell_type": "code",
      "execution_count": 25,
      "metadata": {
        "id": "R-1kqHkgzFOP"
      },
      "outputs": [],
      "source": [
        "from rdflib import URIRef, BNode, Literal, Namespace, Graph\n",
        "from rdflib.namespace import Namespace, NamespaceManager\n",
        "from rdflib.plugins import sparql\n",
        "from rdflib.namespace import RDF, RDFS, XSD\n",
        "from rdflib.serializer import Serializer\n",
        "from typing import Optional, List\n",
        "import re\n",
        "import logging"
      ]
    },
    {
      "cell_type": "markdown",
      "metadata": {},
      "source": [
        "# Настройка логгирования"
      ]
    },
    {
      "cell_type": "code",
      "execution_count": 26,
      "metadata": {},
      "outputs": [],
      "source": [
        "logging.basicConfig(level=logging.INFO, format='%(asctime)s - %(levelname)s - %(message)s')"
      ]
    },
    {
      "cell_type": "markdown",
      "metadata": {
        "id": "k40nvs3uRQFe"
      },
      "source": [
        "# Инициализиация онтологии"
      ]
    },
    {
      "cell_type": "code",
      "execution_count": 27,
      "metadata": {
        "id": "COfCarFtzGM7"
      },
      "outputs": [],
      "source": [
        "g = Graph()\n",
        "\n",
        "g.parse('ontology.rdf')\n",
        "ONTOLOGY_IRI = 'http://www.semanticweb.org/user/ontologies/2024/9/music-knowledge'\n",
        "\n",
        "def ref(resource: str) -> URIRef:\n",
        "  return URIRef(f'{ONTOLOGY_IRI}#{resource}')"
      ]
    },
    {
      "cell_type": "markdown",
      "metadata": {
        "id": "Behle-DcRZLj"
      },
      "source": [
        "# Python-объекты для классов в онтологии"
      ]
    },
    {
      "cell_type": "code",
      "execution_count": 28,
      "metadata": {
        "id": "9yZ36Jnr4Wwm"
      },
      "outputs": [],
      "source": [
        "class OntologyClass:\n",
        "  class_name: str\n",
        "  _class_uri_ref: Optional[URIRef] = None\n",
        "  uri_ref: URIRef\n",
        "\n",
        "  @property\n",
        "  def class_uri_ref(self) -> URIRef:\n",
        "    if not self._class_uri_ref:\n",
        "      self._class_uri_ref = ref(self.class_name)\n",
        "\n",
        "    return self._class_uri_ref\n",
        "\n",
        "  def __init__(self, name: str, **kwargs: dict) -> None:\n",
        "    self.uri_ref = ref(self._prepare_name_for_ref(name))\n",
        "    g.add((self.uri_ref, RDF.type, self.class_uri_ref))\n",
        "\n",
        "  def _prepare_name_for_ref(self, name: str) -> str:\n",
        "    name = name.replace(' ', '_')\n",
        "\n",
        "    return re.sub(r'[^A-Za-z0-9_]', '', name)"
      ]
    },
    {
      "cell_type": "code",
      "execution_count": 29,
      "metadata": {
        "id": "Ih9aMD0E5BAS"
      },
      "outputs": [],
      "source": [
        "class Artist(OntologyClass):\n",
        "  class_name = 'Исполнитель'\n",
        "\n",
        "class Song(OntologyClass):\n",
        "  owns_object_property = ref('владеть')\n",
        "  class_name = 'Композиция'\n",
        "\n",
        "  def __init__(self, name: str, owner: Artist, **kwargs: dict) -> None:\n",
        "    super().__init__(name, **kwargs)\n",
        "    g.add((owner.uri_ref, self.owns_object_property, self.uri_ref))\n",
        "\n",
        "class Album(OntologyClass):\n",
        "    class_name = 'Альбом'\n",
        "\n",
        "    def __init__(self, name: str, **kwargs: dict) -> None:\n",
        "        super().__init__(name, **kwargs)\n",
        "\n",
        "class Country(OntologyClass):\n",
        "    class_name = 'Страна'\n",
        "\n",
        "    def __init__(self, name: str, **kwargs: dict) -> None:\n",
        "        super().__init__(name, **kwargs)\n"
      ]
    },
    {
      "cell_type": "markdown",
      "metadata": {},
      "source": [
        "# Словарь для определения стран"
      ]
    },
    {
      "cell_type": "code",
      "execution_count": 30,
      "metadata": {},
      "outputs": [],
      "source": [
        "COUNTRY_CODES = {\n",
        "    \"USA\": \"США\",\n",
        "    \"GB\": \"Великобритания\",\n",
        "    \"CA\": \"Канада\",\n",
        "    \"DE\": \"Германия\",\n",
        "    \"FR\": \"Франция\",\n",
        "    \"RU\": \"Россия\",\n",
        "    \"AU\": \"Австралия\",\n",
        "    \"JP\": \"Япония\",\n",
        "    \"BR\": \"Бразилия\",\n",
        "    \"IN\": \"Индия\",\n",
        "}"
      ]
    },
    {
      "cell_type": "markdown",
      "metadata": {},
      "source": [
        "# Свойства"
      ]
    },
    {
      "cell_type": "code",
      "execution_count": 31,
      "metadata": {},
      "outputs": [],
      "source": [
        "belongs_to_country_property = ref('принадлежит_стране')\n",
        "\n",
        "belongs_to_album_property = ref('принадлежит_альбому')"
      ]
    },
    {
      "cell_type": "markdown",
      "metadata": {
        "id": "1Nu8FhuQRja3"
      },
      "source": [
        "# Получение инстансов для классов из API"
      ]
    },
    {
      "cell_type": "code",
      "execution_count": 34,
      "metadata": {
        "id": "0H9cr4aWKhAk"
      },
      "outputs": [],
      "source": [
        "import requests\n",
        "\n",
        "API_URL = \"https://itunes.apple.com/search\"\n",
        "\n",
        "def fetch_musical_bands(limit: int = 10) -> List[str]:\n",
        "    url = API_URL\n",
        "    params = {\n",
        "        \"term\": \"band\",        # General search term to find bands\n",
        "        \"media\": \"music\",\n",
        "        \"entity\": \"musicArtist\",\n",
        "        \"limit\": limit,\n",
        "    }\n",
        "    response = requests.get(url, params=params)\n",
        "    results = response.json().get(\"results\", [])\n",
        "    return [artist['artistName'] for artist in results]\n",
        "\n",
        "def fetch_songs_for_band(band_name: str, limit: int = 10) -> List[str]:\n",
        "    url = API_URL\n",
        "    params = {\n",
        "        \"term\": band_name,\n",
        "        \"media\": \"music\",\n",
        "        \"entity\": \"song\",\n",
        "        \"limit\": limit,\n",
        "    }\n",
        "    response = requests.get(url, params=params)\n",
        "    results = response.json().get(\"results\", [])\n",
        "    return [song['trackName'] for song in results]\n",
        "\n",
        "def fetch_album_for_song(song_name: str, artist_name: str) -> str:\n",
        "    url = API_URL\n",
        "    params = {\n",
        "        \"term\": f\"{song_name} {artist_name}\",\n",
        "        \"media\": \"music\",\n",
        "        \"entity\": \"album\",\n",
        "        \"limit\": 1,\n",
        "    }\n",
        "    response = requests.get(url, params=params)\n",
        "    results = response.json().get(\"results\", [])\n",
        "    if results:\n",
        "        return results[0]['collectionName']\n",
        "    return \"Unknown Album\"\n",
        "\n",
        "def fetch_country_for_song(song_name: str, artist_name: str) -> str:\n",
        "    url = API_URL\n",
        "    params = {\n",
        "        \"term\": f\"{song_name} {artist_name}\",\n",
        "        \"media\": \"music\",\n",
        "        \"entity\": \"song\",\n",
        "        \"limit\": 1,\n",
        "    }\n",
        "\n",
        "    # logging.info(f'Запрос к iTunes API для песни: {song_name} исполнителя: {artist_name}')\n",
        "\n",
        "    response = requests.get(url, params=params)\n",
        "    # logging.info(f'Ответ от iTunes API: {response.json()}')\n",
        "\n",
        "    results = response.json().get(\"results\", [])\n",
        "    \n",
        "    if results:\n",
        "        country_code = results[0].get('country')  # Получаем код страны\n",
        "        if country_code:\n",
        "        #     logging.info(f'Код страны для песни \"{song_name}\" исполнителя \"{artist_name}\": {country_code}')\n",
        "            return COUNTRY_CODES.get(country_code, \"Неизвестная страна\")  # Возвращаем название страны или \"Неизвестная страна\"\n",
        "        else:\n",
        "        #     logging.warning(f'Код страны отсутствует для песни \"{song_name}\" исполнителя: {artist_name}')\n",
        "            return \"Неизвестная страна\"\n",
        "    # logging.warning(f'Страна не найдена для песни \"{song_name}\" исполнителя: {artist_name}')\n",
        "    return \"Неизвестная страна\"\n",
        "\n",
        "bands = fetch_musical_bands()\n",
        "for band in bands:\n",
        "    songs = fetch_songs_for_band(band)\n",
        "    artist_instance = Artist(band)\n",
        "\n",
        "    for song in songs:\n",
        "        album_name = fetch_album_for_song(song, band)  # Получаем альбом для песни\n",
        "        album_instance = Album(album_name)  # Создаем экземпляр альбома\n",
        "        g.add((album_instance.uri_ref, RDF.type, album_instance.class_uri_ref))  # Добавляем альбом в граф\n",
        "\n",
        "        # Устанавливаем связь между песней и альбомом\n",
        "        song_instance = Song(song, artist_instance)\n",
        "        g.add((song_instance.uri_ref, belongs_to_album_property, album_instance.uri_ref))  # Устанавливаем связь между песней и альбомом"
      ]
    },
    {
      "cell_type": "code",
      "execution_count": 35,
      "metadata": {
        "colab": {
          "base_uri": "https://localhost:8080/"
        },
        "id": "pHQQzf_N70X-",
        "outputId": "b5c338a6-56e3-417a-aa70-a7a52742d0bc"
      },
      "outputs": [
        {
          "data": {
            "text/plain": [
              "<Graph identifier=N7726bfa40be041f09bf3b897d6059671 (<class 'rdflib.graph.Graph'>)>"
            ]
          },
          "execution_count": 35,
          "metadata": {},
          "output_type": "execute_result"
        }
      ],
      "source": [
        "g.serialize(destination='ontology-from-py.rdf')"
      ]
    }
  ],
  "metadata": {
    "colab": {
      "authorship_tag": "ABX9TyPRXuUPGGWP2CRwm2IZx/l3",
      "include_colab_link": true,
      "provenance": []
    },
    "kernelspec": {
      "display_name": "Python 3",
      "name": "python3"
    },
    "language_info": {
      "codemirror_mode": {
        "name": "ipython",
        "version": 3
      },
      "file_extension": ".py",
      "mimetype": "text/x-python",
      "name": "python",
      "nbconvert_exporter": "python",
      "pygments_lexer": "ipython3",
      "version": "3.12.6"
    }
  },
  "nbformat": 4,
  "nbformat_minor": 0
}
