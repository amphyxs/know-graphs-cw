{
  "cells": [
    {
      "cell_type": "markdown",
      "metadata": {
        "colab_type": "text",
        "id": "view-in-github"
      },
      "source": [
        "<a href=\"https://colab.research.google.com/github/amphyxs/know-graphs-cw/blob/main/main.ipynb\" target=\"_parent\"><img src=\"https://colab.research.google.com/assets/colab-badge.svg\" alt=\"Open In Colab\"/></a>"
      ]
    },
    {
      "cell_type": "code",
      "execution_count": 16,
      "metadata": {
        "colab": {
          "base_uri": "https://localhost:8080/"
        },
        "id": "ALzDSSAGV_F3",
        "outputId": "154a343b-d232-4e60-eb97-fd974048fb15"
      },
      "outputs": [
        {
          "name": "stdout",
          "output_type": "stream",
          "text": [
            "Requirement already satisfied: rdflib in c:\\users\\user\\appdata\\local\\programs\\python\\python313\\lib\\site-packages (from -r requirements.txt (line 1)) (7.1.0)\n",
            "Collecting requests (from -r requirements.txt (line 2))\n",
            "  Downloading requests-2.32.3-py3-none-any.whl.metadata (4.6 kB)\n",
            "Requirement already satisfied: html5lib-modern<2.0,>=1.2 in c:\\users\\user\\appdata\\local\\programs\\python\\python313\\lib\\site-packages (from rdflib->-r requirements.txt (line 1)) (1.2)\n",
            "Requirement already satisfied: pyparsing<4,>=2.1.0 in c:\\users\\user\\appdata\\local\\programs\\python\\python313\\lib\\site-packages (from rdflib->-r requirements.txt (line 1)) (3.2.0)\n",
            "Collecting charset-normalizer<4,>=2 (from requests->-r requirements.txt (line 2))\n",
            "  Downloading charset_normalizer-3.4.0-cp313-cp313-win_amd64.whl.metadata (34 kB)\n",
            "Collecting idna<4,>=2.5 (from requests->-r requirements.txt (line 2))\n",
            "  Downloading idna-3.10-py3-none-any.whl.metadata (10 kB)\n",
            "Collecting urllib3<3,>=1.21.1 (from requests->-r requirements.txt (line 2))\n",
            "  Downloading urllib3-2.2.3-py3-none-any.whl.metadata (6.5 kB)\n",
            "Collecting certifi>=2017.4.17 (from requests->-r requirements.txt (line 2))\n",
            "  Downloading certifi-2024.8.30-py3-none-any.whl.metadata (2.2 kB)\n",
            "Downloading requests-2.32.3-py3-none-any.whl (64 kB)\n",
            "Downloading certifi-2024.8.30-py3-none-any.whl (167 kB)\n",
            "Downloading charset_normalizer-3.4.0-cp313-cp313-win_amd64.whl (102 kB)\n",
            "Downloading idna-3.10-py3-none-any.whl (70 kB)\n",
            "Downloading urllib3-2.2.3-py3-none-any.whl (126 kB)\n",
            "Installing collected packages: urllib3, idna, charset-normalizer, certifi, requests\n",
            "Successfully installed certifi-2024.8.30 charset-normalizer-3.4.0 idna-3.10 requests-2.32.3 urllib3-2.2.3\n"
          ]
        }
      ],
      "source": [
        "!pip install -r requirements.txt"
      ]
    },
    {
      "cell_type": "code",
      "execution_count": 17,
      "metadata": {
        "id": "R-1kqHkgzFOP"
      },
      "outputs": [],
      "source": [
        "from rdflib import URIRef, BNode, Literal, Namespace, Graph\n",
        "from rdflib.namespace import Namespace, NamespaceManager\n",
        "from rdflib.plugins import sparql\n",
        "from rdflib.namespace import RDF, RDFS, XSD\n",
        "from rdflib.serializer import Serializer\n",
        "from typing import Optional, List\n",
        "import re"
      ]
    },
    {
      "cell_type": "markdown",
      "metadata": {
        "id": "k40nvs3uRQFe"
      },
      "source": [
        "# Инициализиация онтологии"
      ]
    },
    {
      "cell_type": "code",
      "execution_count": 18,
      "metadata": {
        "id": "COfCarFtzGM7"
      },
      "outputs": [],
      "source": [
        "g = Graph()\n",
        "\n",
        "g.parse('ontology.rdf')\n",
        "ONTOLOGY_IRI = 'http://www.semanticweb.org/user/ontologies/2024/9/music-knowledge'\n",
        "\n",
        "def ref(resource: str) -> URIRef:\n",
        "  return URIRef(f'{ONTOLOGY_IRI}#{resource}')"
      ]
    },
    {
      "cell_type": "markdown",
      "metadata": {
        "id": "Behle-DcRZLj"
      },
      "source": [
        "# Python-объекты для классов в онтологии"
      ]
    },
    {
      "cell_type": "code",
      "execution_count": 19,
      "metadata": {
        "id": "9yZ36Jnr4Wwm"
      },
      "outputs": [],
      "source": [
        "class OntologyClass:\n",
        "  class_name: str\n",
        "  _class_uri_ref: Optional[URIRef] = None\n",
        "  uri_ref: URIRef\n",
        "\n",
        "  @property\n",
        "  def class_uri_ref(self) -> URIRef:\n",
        "    if not self._class_uri_ref:\n",
        "      self._class_uri_ref = ref(self.class_name)\n",
        "\n",
        "    return self._class_uri_ref\n",
        "\n",
        "  def __init__(self, name: str, **kwargs: dict) -> None:\n",
        "    self.uri_ref = ref(self._prepare_name_for_ref(name))\n",
        "    g.add((self.uri_ref, RDF.type, self.class_uri_ref))\n",
        "\n",
        "  def _prepare_name_for_ref(self, name: str) -> str:\n",
        "    name = name.replace(' ', '_')\n",
        "\n",
        "    return re.sub(r'[^A-Za-z0-9_]', '', name)"
      ]
    },
    {
      "cell_type": "code",
      "execution_count": 20,
      "metadata": {
        "id": "Ih9aMD0E5BAS"
      },
      "outputs": [],
      "source": [
        "class Artist(OntologyClass):\n",
        "  class_name = 'Исполнитель'\n",
        "\n",
        "class Song(OntologyClass):\n",
        "  owns_object_property = ref('владеть')\n",
        "  class_name = 'Композиция'\n",
        "\n",
        "  def __init__(self, name: str, owner: Artist, **kwargs: dict) -> None:\n",
        "    super().__init__(name, **kwargs)\n",
        "    g.add((owner.uri_ref, self.owns_object_property, self.uri_ref))"
      ]
    },
    {
      "cell_type": "markdown",
      "metadata": {
        "id": "1Nu8FhuQRja3"
      },
      "source": [
        "# Получение инстансов для классов из API"
      ]
    },
    {
      "cell_type": "code",
      "execution_count": 21,
      "metadata": {
        "id": "0H9cr4aWKhAk"
      },
      "outputs": [],
      "source": [
        "import requests\n",
        "\n",
        "API_URL = \"https://itunes.apple.com/search\"\n",
        "\n",
        "def fetch_musical_bands(limit: int = 10) -> List[str]:\n",
        "    url = API_URL\n",
        "    params = {\n",
        "        \"term\": \"band\",        # General search term to find bands\n",
        "        \"media\": \"music\",\n",
        "        \"entity\": \"musicArtist\",\n",
        "        \"limit\": limit,\n",
        "    }\n",
        "    response = requests.get(url, params=params)\n",
        "    results = response.json().get(\"results\", [])\n",
        "    return [artist['artistName'] for artist in results]\n",
        "\n",
        "def fetch_songs_for_band(band_name: str, limit: int = 10) -> List[str]:\n",
        "    url = API_URL\n",
        "    params = {\n",
        "        \"term\": band_name,\n",
        "        \"media\": \"music\",\n",
        "        \"entity\": \"song\",\n",
        "        \"limit\": limit,\n",
        "    }\n",
        "    response = requests.get(url, params=params)\n",
        "    results = response.json().get(\"results\", [])\n",
        "    return [song['trackName'] for song in results]\n",
        "\n",
        "bands = fetch_musical_bands()\n",
        "for band in bands:\n",
        "    songs = fetch_songs_for_band(band)\n",
        "    artist_class_instance = Artist(band)\n",
        "    for idx, song in enumerate(songs, 1):\n",
        "        song_class_instance = Song(song, artist_class_instance)\n"
      ]
    },
    {
      "cell_type": "code",
      "execution_count": 22,
      "metadata": {
        "colab": {
          "base_uri": "https://localhost:8080/"
        },
        "id": "pHQQzf_N70X-",
        "outputId": "b5c338a6-56e3-417a-aa70-a7a52742d0bc"
      },
      "outputs": [
        {
          "data": {
            "text/plain": [
              "<Graph identifier=Na9218b28364a48e895d13fdba1c90895 (<class 'rdflib.graph.Graph'>)>"
            ]
          },
          "execution_count": 22,
          "metadata": {},
          "output_type": "execute_result"
        }
      ],
      "source": [
        "g.serialize(destination='ontology-from-py.rdf')"
      ]
    }
  ],
  "metadata": {
    "colab": {
      "authorship_tag": "ABX9TyPRXuUPGGWP2CRwm2IZx/l3",
      "include_colab_link": true,
      "provenance": []
    },
    "kernelspec": {
      "display_name": "Python 3",
      "name": "python3"
    },
    "language_info": {
      "name": "python"
    }
  },
  "nbformat": 4,
  "nbformat_minor": 0
}
