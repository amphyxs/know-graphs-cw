{
  "cells": [
    {
      "cell_type": "code",
      "execution_count": 1,
      "id": "06d95e1f",
      "metadata": {
        "execution": {
          "iopub.execute_input": "2024-11-20T11:29:56.989193Z",
          "iopub.status.busy": "2024-11-20T11:29:56.988809Z",
          "iopub.status.idle": "2024-11-20T11:32:06.357194Z",
          "shell.execute_reply": "2024-11-20T11:32:06.355891Z"
        },
        "id": "06d95e1f",
        "outputId": "158fd864-cdfb-4021-9bc0-702acc8a0eb8",
        "papermill": {
          "duration": 129.393303,
          "end_time": "2024-11-20T11:32:06.359735",
          "exception": false,
          "start_time": "2024-11-20T11:29:56.966432",
          "status": "completed"
        },
        "tags": [],
        "colab": {
          "base_uri": "https://localhost:8080/"
        }
      },
      "outputs": [
        {
          "output_type": "stream",
          "name": "stdout",
          "text": [
            "Requirement already satisfied: tensorflow==2.9.0 in /usr/local/lib/python3.10/dist-packages (2.9.0)\n",
            "Requirement already satisfied: absl-py>=1.0.0 in /usr/local/lib/python3.10/dist-packages (from tensorflow==2.9.0) (1.4.0)\n",
            "Requirement already satisfied: astunparse>=1.6.0 in /usr/local/lib/python3.10/dist-packages (from tensorflow==2.9.0) (1.6.3)\n",
            "Requirement already satisfied: flatbuffers<2,>=1.12 in /usr/local/lib/python3.10/dist-packages (from tensorflow==2.9.0) (1.12)\n",
            "Requirement already satisfied: gast<=0.4.0,>=0.2.1 in /usr/local/lib/python3.10/dist-packages (from tensorflow==2.9.0) (0.4.0)\n",
            "Requirement already satisfied: google-pasta>=0.1.1 in /usr/local/lib/python3.10/dist-packages (from tensorflow==2.9.0) (0.2.0)\n",
            "Requirement already satisfied: grpcio<2.0,>=1.24.3 in /usr/local/lib/python3.10/dist-packages (from tensorflow==2.9.0) (1.68.1)\n",
            "Requirement already satisfied: h5py>=2.9.0 in /usr/local/lib/python3.10/dist-packages (from tensorflow==2.9.0) (3.12.1)\n",
            "Requirement already satisfied: keras<2.10.0,>=2.9.0rc0 in /usr/local/lib/python3.10/dist-packages (from tensorflow==2.9.0) (2.9.0)\n",
            "Requirement already satisfied: keras-preprocessing>=1.1.1 in /usr/local/lib/python3.10/dist-packages (from tensorflow==2.9.0) (1.1.2)\n",
            "Requirement already satisfied: libclang>=13.0.0 in /usr/local/lib/python3.10/dist-packages (from tensorflow==2.9.0) (18.1.1)\n",
            "Requirement already satisfied: numpy>=1.20 in /usr/local/lib/python3.10/dist-packages (from tensorflow==2.9.0) (1.26.4)\n",
            "Requirement already satisfied: opt-einsum>=2.3.2 in /usr/local/lib/python3.10/dist-packages (from tensorflow==2.9.0) (3.4.0)\n",
            "Requirement already satisfied: packaging in /usr/local/lib/python3.10/dist-packages (from tensorflow==2.9.0) (24.2)\n",
            "Requirement already satisfied: protobuf>=3.9.2 in /usr/local/lib/python3.10/dist-packages (from tensorflow==2.9.0) (3.19.6)\n",
            "Requirement already satisfied: setuptools in /usr/local/lib/python3.10/dist-packages (from tensorflow==2.9.0) (75.1.0)\n",
            "Requirement already satisfied: six>=1.12.0 in /usr/local/lib/python3.10/dist-packages (from tensorflow==2.9.0) (1.16.0)\n",
            "Requirement already satisfied: tensorboard<2.10,>=2.9 in /usr/local/lib/python3.10/dist-packages (from tensorflow==2.9.0) (2.9.1)\n",
            "Requirement already satisfied: tensorflow-io-gcs-filesystem>=0.23.1 in /usr/local/lib/python3.10/dist-packages (from tensorflow==2.9.0) (0.37.1)\n",
            "Requirement already satisfied: tensorflow-estimator<2.10.0,>=2.9.0rc0 in /usr/local/lib/python3.10/dist-packages (from tensorflow==2.9.0) (2.9.0)\n",
            "Requirement already satisfied: termcolor>=1.1.0 in /usr/local/lib/python3.10/dist-packages (from tensorflow==2.9.0) (2.5.0)\n",
            "Requirement already satisfied: typing-extensions>=3.6.6 in /usr/local/lib/python3.10/dist-packages (from tensorflow==2.9.0) (4.12.2)\n",
            "Requirement already satisfied: wrapt>=1.11.0 in /usr/local/lib/python3.10/dist-packages (from tensorflow==2.9.0) (1.17.0)\n",
            "Requirement already satisfied: wheel<1.0,>=0.23.0 in /usr/local/lib/python3.10/dist-packages (from astunparse>=1.6.0->tensorflow==2.9.0) (0.45.1)\n",
            "Requirement already satisfied: google-auth<3,>=1.6.3 in /usr/local/lib/python3.10/dist-packages (from tensorboard<2.10,>=2.9->tensorflow==2.9.0) (2.27.0)\n",
            "Requirement already satisfied: google-auth-oauthlib<0.5,>=0.4.1 in /usr/local/lib/python3.10/dist-packages (from tensorboard<2.10,>=2.9->tensorflow==2.9.0) (0.4.6)\n",
            "Requirement already satisfied: markdown>=2.6.8 in /usr/local/lib/python3.10/dist-packages (from tensorboard<2.10,>=2.9->tensorflow==2.9.0) (3.7)\n",
            "Requirement already satisfied: requests<3,>=2.21.0 in /usr/local/lib/python3.10/dist-packages (from tensorboard<2.10,>=2.9->tensorflow==2.9.0) (2.32.3)\n",
            "Requirement already satisfied: tensorboard-data-server<0.7.0,>=0.6.0 in /usr/local/lib/python3.10/dist-packages (from tensorboard<2.10,>=2.9->tensorflow==2.9.0) (0.6.1)\n",
            "Requirement already satisfied: tensorboard-plugin-wit>=1.6.0 in /usr/local/lib/python3.10/dist-packages (from tensorboard<2.10,>=2.9->tensorflow==2.9.0) (1.8.1)\n",
            "Requirement already satisfied: werkzeug>=1.0.1 in /usr/local/lib/python3.10/dist-packages (from tensorboard<2.10,>=2.9->tensorflow==2.9.0) (3.1.3)\n",
            "Requirement already satisfied: cachetools<6.0,>=2.0.0 in /usr/local/lib/python3.10/dist-packages (from google-auth<3,>=1.6.3->tensorboard<2.10,>=2.9->tensorflow==2.9.0) (5.5.0)\n",
            "Requirement already satisfied: pyasn1-modules>=0.2.1 in /usr/local/lib/python3.10/dist-packages (from google-auth<3,>=1.6.3->tensorboard<2.10,>=2.9->tensorflow==2.9.0) (0.4.1)\n",
            "Requirement already satisfied: rsa<5,>=3.1.4 in /usr/local/lib/python3.10/dist-packages (from google-auth<3,>=1.6.3->tensorboard<2.10,>=2.9->tensorflow==2.9.0) (4.9)\n",
            "Requirement already satisfied: requests-oauthlib>=0.7.0 in /usr/local/lib/python3.10/dist-packages (from google-auth-oauthlib<0.5,>=0.4.1->tensorboard<2.10,>=2.9->tensorflow==2.9.0) (1.3.1)\n",
            "Requirement already satisfied: charset-normalizer<4,>=2 in /usr/local/lib/python3.10/dist-packages (from requests<3,>=2.21.0->tensorboard<2.10,>=2.9->tensorflow==2.9.0) (3.4.0)\n",
            "Requirement already satisfied: idna<4,>=2.5 in /usr/local/lib/python3.10/dist-packages (from requests<3,>=2.21.0->tensorboard<2.10,>=2.9->tensorflow==2.9.0) (3.10)\n",
            "Requirement already satisfied: urllib3<3,>=1.21.1 in /usr/local/lib/python3.10/dist-packages (from requests<3,>=2.21.0->tensorboard<2.10,>=2.9->tensorflow==2.9.0) (2.2.3)\n",
            "Requirement already satisfied: certifi>=2017.4.17 in /usr/local/lib/python3.10/dist-packages (from requests<3,>=2.21.0->tensorboard<2.10,>=2.9->tensorflow==2.9.0) (2024.8.30)\n",
            "Requirement already satisfied: MarkupSafe>=2.1.1 in /usr/local/lib/python3.10/dist-packages (from werkzeug>=1.0.1->tensorboard<2.10,>=2.9->tensorflow==2.9.0) (3.0.2)\n",
            "Requirement already satisfied: pyasn1<0.7.0,>=0.4.6 in /usr/local/lib/python3.10/dist-packages (from pyasn1-modules>=0.2.1->google-auth<3,>=1.6.3->tensorboard<2.10,>=2.9->tensorflow==2.9.0) (0.6.1)\n",
            "Requirement already satisfied: oauthlib>=3.0.0 in /usr/local/lib/python3.10/dist-packages (from requests-oauthlib>=0.7.0->google-auth-oauthlib<0.5,>=0.4.1->tensorboard<2.10,>=2.9->tensorflow==2.9.0) (3.2.2)\n",
            "Requirement already satisfied: ampligraph in /usr/local/lib/python3.10/dist-packages (2.1.0)\n",
            "Requirement already satisfied: numpy>=1.14.3 in /usr/local/lib/python3.10/dist-packages (from ampligraph) (1.26.4)\n",
            "Requirement already satisfied: pytest>=3.5.1 in /usr/local/lib/python3.10/dist-packages (from ampligraph) (8.3.4)\n",
            "Requirement already satisfied: scikit-learn>=0.19.1 in /usr/local/lib/python3.10/dist-packages (from ampligraph) (1.5.2)\n",
            "Requirement already satisfied: tqdm>=4.23.4 in /usr/local/lib/python3.10/dist-packages (from ampligraph) (4.66.6)\n",
            "Requirement already satisfied: pandas>=0.23.1 in /usr/local/lib/python3.10/dist-packages (from ampligraph) (2.2.2)\n",
            "Requirement already satisfied: sphinx==5.0.2 in /usr/local/lib/python3.10/dist-packages (from ampligraph) (5.0.2)\n",
            "Requirement already satisfied: myst-parser==0.18.0 in /usr/local/lib/python3.10/dist-packages (from ampligraph) (0.18.0)\n",
            "Requirement already satisfied: docutils<0.18 in /usr/local/lib/python3.10/dist-packages (from ampligraph) (0.17.1)\n",
            "Requirement already satisfied: sphinx-rtd-theme==1.0.0 in /usr/local/lib/python3.10/dist-packages (from ampligraph) (1.0.0)\n",
            "Requirement already satisfied: sphinxcontrib-bibtex==2.4.2 in /usr/local/lib/python3.10/dist-packages (from ampligraph) (2.4.2)\n",
            "Requirement already satisfied: beautifultable>=0.7.0 in /usr/local/lib/python3.10/dist-packages (from ampligraph) (1.1.0)\n",
            "Requirement already satisfied: pyyaml>=3.13 in /usr/local/lib/python3.10/dist-packages (from ampligraph) (6.0.2)\n",
            "Requirement already satisfied: rdflib>=4.2.2 in /usr/local/lib/python3.10/dist-packages (from ampligraph) (7.1.1)\n",
            "Requirement already satisfied: scipy==1.10.0 in /usr/local/lib/python3.10/dist-packages (from ampligraph) (1.10.0)\n",
            "Requirement already satisfied: networkx>=2.3 in /usr/local/lib/python3.10/dist-packages (from ampligraph) (3.4.2)\n",
            "Requirement already satisfied: flake8>=3.7.7 in /usr/local/lib/python3.10/dist-packages (from ampligraph) (7.1.1)\n",
            "Requirement already satisfied: setuptools>=36 in /usr/local/lib/python3.10/dist-packages (from ampligraph) (75.1.0)\n",
            "Requirement already satisfied: matplotlib>=3.7 in /usr/local/lib/python3.10/dist-packages (from ampligraph) (3.8.0)\n",
            "Requirement already satisfied: docopt==0.6.2 in /usr/local/lib/python3.10/dist-packages (from ampligraph) (0.6.2)\n",
            "Requirement already satisfied: schema==0.7.5 in /usr/local/lib/python3.10/dist-packages (from ampligraph) (0.7.5)\n",
            "Requirement already satisfied: jinja2 in /usr/local/lib/python3.10/dist-packages (from myst-parser==0.18.0->ampligraph) (3.1.4)\n",
            "Requirement already satisfied: markdown-it-py<3.0.0,>=1.0.0 in /usr/local/lib/python3.10/dist-packages (from myst-parser==0.18.0->ampligraph) (2.2.0)\n",
            "Requirement already satisfied: mdit-py-plugins~=0.3.0 in /usr/local/lib/python3.10/dist-packages (from myst-parser==0.18.0->ampligraph) (0.3.5)\n",
            "Requirement already satisfied: typing-extensions in /usr/local/lib/python3.10/dist-packages (from myst-parser==0.18.0->ampligraph) (4.12.2)\n",
            "Requirement already satisfied: contextlib2>=0.5.5 in /usr/local/lib/python3.10/dist-packages (from schema==0.7.5->ampligraph) (21.6.0)\n",
            "Requirement already satisfied: sphinxcontrib-applehelp in /usr/local/lib/python3.10/dist-packages (from sphinx==5.0.2->ampligraph) (2.0.0)\n",
            "Requirement already satisfied: sphinxcontrib-devhelp in /usr/local/lib/python3.10/dist-packages (from sphinx==5.0.2->ampligraph) (2.0.0)\n",
            "Requirement already satisfied: sphinxcontrib-jsmath in /usr/local/lib/python3.10/dist-packages (from sphinx==5.0.2->ampligraph) (1.0.1)\n",
            "Requirement already satisfied: sphinxcontrib-htmlhelp>=2.0.0 in /usr/local/lib/python3.10/dist-packages (from sphinx==5.0.2->ampligraph) (2.1.0)\n",
            "Requirement already satisfied: sphinxcontrib-serializinghtml>=1.1.5 in /usr/local/lib/python3.10/dist-packages (from sphinx==5.0.2->ampligraph) (2.0.0)\n",
            "Requirement already satisfied: sphinxcontrib-qthelp in /usr/local/lib/python3.10/dist-packages (from sphinx==5.0.2->ampligraph) (2.0.0)\n",
            "Requirement already satisfied: Pygments>=2.0 in /usr/local/lib/python3.10/dist-packages (from sphinx==5.0.2->ampligraph) (2.18.0)\n",
            "Requirement already satisfied: snowballstemmer>=1.1 in /usr/local/lib/python3.10/dist-packages (from sphinx==5.0.2->ampligraph) (2.2.0)\n",
            "Requirement already satisfied: babel>=1.3 in /usr/local/lib/python3.10/dist-packages (from sphinx==5.0.2->ampligraph) (2.16.0)\n",
            "Requirement already satisfied: alabaster<0.8,>=0.7 in /usr/local/lib/python3.10/dist-packages (from sphinx==5.0.2->ampligraph) (0.7.16)\n",
            "Requirement already satisfied: imagesize in /usr/local/lib/python3.10/dist-packages (from sphinx==5.0.2->ampligraph) (1.4.1)\n",
            "Requirement already satisfied: requests>=2.5.0 in /usr/local/lib/python3.10/dist-packages (from sphinx==5.0.2->ampligraph) (2.32.3)\n",
            "Requirement already satisfied: packaging in /usr/local/lib/python3.10/dist-packages (from sphinx==5.0.2->ampligraph) (24.2)\n",
            "Requirement already satisfied: pybtex>=0.24 in /usr/local/lib/python3.10/dist-packages (from sphinxcontrib-bibtex==2.4.2->ampligraph) (0.24.0)\n",
            "Requirement already satisfied: pybtex-docutils>=1.0.0 in /usr/local/lib/python3.10/dist-packages (from sphinxcontrib-bibtex==2.4.2->ampligraph) (1.0.3)\n",
            "Requirement already satisfied: wcwidth in /usr/local/lib/python3.10/dist-packages (from beautifultable>=0.7.0->ampligraph) (0.2.13)\n",
            "Requirement already satisfied: mccabe<0.8.0,>=0.7.0 in /usr/local/lib/python3.10/dist-packages (from flake8>=3.7.7->ampligraph) (0.7.0)\n",
            "Requirement already satisfied: pycodestyle<2.13.0,>=2.12.0 in /usr/local/lib/python3.10/dist-packages (from flake8>=3.7.7->ampligraph) (2.12.1)\n",
            "Requirement already satisfied: pyflakes<3.3.0,>=3.2.0 in /usr/local/lib/python3.10/dist-packages (from flake8>=3.7.7->ampligraph) (3.2.0)\n",
            "Requirement already satisfied: contourpy>=1.0.1 in /usr/local/lib/python3.10/dist-packages (from matplotlib>=3.7->ampligraph) (1.3.1)\n",
            "Requirement already satisfied: cycler>=0.10 in /usr/local/lib/python3.10/dist-packages (from matplotlib>=3.7->ampligraph) (0.12.1)\n",
            "Requirement already satisfied: fonttools>=4.22.0 in /usr/local/lib/python3.10/dist-packages (from matplotlib>=3.7->ampligraph) (4.55.1)\n",
            "Requirement already satisfied: kiwisolver>=1.0.1 in /usr/local/lib/python3.10/dist-packages (from matplotlib>=3.7->ampligraph) (1.4.7)\n",
            "Requirement already satisfied: pillow>=6.2.0 in /usr/local/lib/python3.10/dist-packages (from matplotlib>=3.7->ampligraph) (11.0.0)\n",
            "Requirement already satisfied: pyparsing>=2.3.1 in /usr/local/lib/python3.10/dist-packages (from matplotlib>=3.7->ampligraph) (3.2.0)\n",
            "Requirement already satisfied: python-dateutil>=2.7 in /usr/local/lib/python3.10/dist-packages (from matplotlib>=3.7->ampligraph) (2.8.2)\n",
            "Requirement already satisfied: pytz>=2020.1 in /usr/local/lib/python3.10/dist-packages (from pandas>=0.23.1->ampligraph) (2024.2)\n",
            "Requirement already satisfied: tzdata>=2022.7 in /usr/local/lib/python3.10/dist-packages (from pandas>=0.23.1->ampligraph) (2024.2)\n",
            "Requirement already satisfied: exceptiongroup>=1.0.0rc8 in /usr/local/lib/python3.10/dist-packages (from pytest>=3.5.1->ampligraph) (1.2.2)\n",
            "Requirement already satisfied: iniconfig in /usr/local/lib/python3.10/dist-packages (from pytest>=3.5.1->ampligraph) (2.0.0)\n",
            "Requirement already satisfied: pluggy<2,>=1.5 in /usr/local/lib/python3.10/dist-packages (from pytest>=3.5.1->ampligraph) (1.5.0)\n",
            "Requirement already satisfied: tomli>=1 in /usr/local/lib/python3.10/dist-packages (from pytest>=3.5.1->ampligraph) (2.2.1)\n",
            "Requirement already satisfied: isodate<1.0.0,>=0.7.2 in /usr/local/lib/python3.10/dist-packages (from rdflib>=4.2.2->ampligraph) (0.7.2)\n",
            "Requirement already satisfied: joblib>=1.2.0 in /usr/local/lib/python3.10/dist-packages (from scikit-learn>=0.19.1->ampligraph) (1.4.2)\n",
            "Requirement already satisfied: threadpoolctl>=3.1.0 in /usr/local/lib/python3.10/dist-packages (from scikit-learn>=0.19.1->ampligraph) (3.5.0)\n",
            "Requirement already satisfied: MarkupSafe>=2.0 in /usr/local/lib/python3.10/dist-packages (from jinja2->myst-parser==0.18.0->ampligraph) (3.0.2)\n",
            "Requirement already satisfied: mdurl~=0.1 in /usr/local/lib/python3.10/dist-packages (from markdown-it-py<3.0.0,>=1.0.0->myst-parser==0.18.0->ampligraph) (0.1.2)\n",
            "Requirement already satisfied: latexcodec>=1.0.4 in /usr/local/lib/python3.10/dist-packages (from pybtex>=0.24->sphinxcontrib-bibtex==2.4.2->ampligraph) (3.0.0)\n",
            "Requirement already satisfied: six in /usr/local/lib/python3.10/dist-packages (from pybtex>=0.24->sphinxcontrib-bibtex==2.4.2->ampligraph) (1.16.0)\n",
            "Requirement already satisfied: charset-normalizer<4,>=2 in /usr/local/lib/python3.10/dist-packages (from requests>=2.5.0->sphinx==5.0.2->ampligraph) (3.4.0)\n",
            "Requirement already satisfied: idna<4,>=2.5 in /usr/local/lib/python3.10/dist-packages (from requests>=2.5.0->sphinx==5.0.2->ampligraph) (3.10)\n",
            "Requirement already satisfied: urllib3<3,>=1.21.1 in /usr/local/lib/python3.10/dist-packages (from requests>=2.5.0->sphinx==5.0.2->ampligraph) (2.2.3)\n",
            "Requirement already satisfied: certifi>=2017.4.17 in /usr/local/lib/python3.10/dist-packages (from requests>=2.5.0->sphinx==5.0.2->ampligraph) (2024.8.30)\n"
          ]
        }
      ],
      "source": [
        "!pip install tensorflow==2.9.0\n",
        "!pip install ampligraph"
      ]
    },
    {
      "cell_type": "code",
      "execution_count": 2,
      "id": "b37ecd3c",
      "metadata": {
        "execution": {
          "iopub.execute_input": "2024-11-20T11:32:06.425775Z",
          "iopub.status.busy": "2024-11-20T11:32:06.424771Z",
          "iopub.status.idle": "2024-11-20T11:32:12.298106Z",
          "shell.execute_reply": "2024-11-20T11:32:12.296443Z"
        },
        "id": "b37ecd3c",
        "papermill": {
          "duration": 5.909714,
          "end_time": "2024-11-20T11:32:12.301421",
          "exception": false,
          "start_time": "2024-11-20T11:32:06.391707",
          "status": "completed"
        },
        "tags": []
      },
      "outputs": [],
      "source": [
        "import numpy as np\n",
        "import pandas as pd\n",
        "import ampligraph\n",
        "import tensorflow as tf"
      ]
    },
    {
      "cell_type": "markdown",
      "id": "2248fabe",
      "metadata": {
        "id": "2248fabe",
        "papermill": {
          "duration": 0.03962,
          "end_time": "2024-11-20T11:32:12.383423",
          "exception": false,
          "start_time": "2024-11-20T11:32:12.343803",
          "status": "completed"
        },
        "tags": []
      },
      "source": [
        "## Dataset\n",
        "\n",
        "https://www.kaggle.com/datasets/saurabhshahane/music-dataset-1950-to-2019"
      ]
    },
    {
      "cell_type": "code",
      "execution_count": 7,
      "id": "fd785b52",
      "metadata": {
        "execution": {
          "iopub.execute_input": "2024-11-20T11:32:12.928930Z",
          "iopub.status.busy": "2024-11-20T11:32:12.928482Z",
          "iopub.status.idle": "2024-11-20T11:32:13.109677Z",
          "shell.execute_reply": "2024-11-20T11:32:13.108611Z"
        },
        "id": "fd785b52",
        "papermill": {
          "duration": 0.22471,
          "end_time": "2024-11-20T11:32:13.111980",
          "exception": false,
          "start_time": "2024-11-20T11:32:12.887270",
          "status": "completed"
        },
        "tags": []
      },
      "outputs": [],
      "source": [
        "df = pd.read_csv(\"tcc_ceds_music.csv\").sort_values(\"release_date\")"
      ]
    },
    {
      "cell_type": "code",
      "execution_count": 8,
      "id": "8126091c",
      "metadata": {
        "execution": {
          "iopub.execute_input": "2024-11-20T11:32:13.194391Z",
          "iopub.status.busy": "2024-11-20T11:32:13.193974Z",
          "iopub.status.idle": "2024-11-20T11:32:13.218682Z",
          "shell.execute_reply": "2024-11-20T11:32:13.217426Z"
        },
        "id": "8126091c",
        "outputId": "f6d8981c-721d-4f4c-e12a-715e3a56b1f1",
        "papermill": {
          "duration": 0.068947,
          "end_time": "2024-11-20T11:32:13.221265",
          "exception": false,
          "start_time": "2024-11-20T11:32:13.152318",
          "status": "completed"
        },
        "tags": [],
        "colab": {
          "base_uri": "https://localhost:8080/",
          "height": 1000
        }
      },
      "outputs": [
        {
          "output_type": "execute_result",
          "data": {
            "text/plain": [
              "Unnamed: 0                  0\n",
              "artist_name                 0\n",
              "track_name                  0\n",
              "release_date                0\n",
              "genre                       0\n",
              "lyrics                      0\n",
              "len                         0\n",
              "dating                      0\n",
              "violence                    0\n",
              "world/life                  0\n",
              "night/time                  0\n",
              "shake the audience          0\n",
              "family/gospel               0\n",
              "romantic                    0\n",
              "communication               0\n",
              "obscene                     0\n",
              "music                       0\n",
              "movement/places             0\n",
              "light/visual perceptions    0\n",
              "family/spiritual            0\n",
              "like/girls                  0\n",
              "sadness                     0\n",
              "feelings                    0\n",
              "danceability                0\n",
              "loudness                    0\n",
              "acousticness                0\n",
              "instrumentalness            0\n",
              "valence                     0\n",
              "energy                      0\n",
              "topic                       0\n",
              "age                         0\n",
              "dtype: int64"
            ],
            "text/html": [
              "<div>\n",
              "<style scoped>\n",
              "    .dataframe tbody tr th:only-of-type {\n",
              "        vertical-align: middle;\n",
              "    }\n",
              "\n",
              "    .dataframe tbody tr th {\n",
              "        vertical-align: top;\n",
              "    }\n",
              "\n",
              "    .dataframe thead th {\n",
              "        text-align: right;\n",
              "    }\n",
              "</style>\n",
              "<table border=\"1\" class=\"dataframe\">\n",
              "  <thead>\n",
              "    <tr style=\"text-align: right;\">\n",
              "      <th></th>\n",
              "      <th>0</th>\n",
              "    </tr>\n",
              "  </thead>\n",
              "  <tbody>\n",
              "    <tr>\n",
              "      <th>Unnamed: 0</th>\n",
              "      <td>0</td>\n",
              "    </tr>\n",
              "    <tr>\n",
              "      <th>artist_name</th>\n",
              "      <td>0</td>\n",
              "    </tr>\n",
              "    <tr>\n",
              "      <th>track_name</th>\n",
              "      <td>0</td>\n",
              "    </tr>\n",
              "    <tr>\n",
              "      <th>release_date</th>\n",
              "      <td>0</td>\n",
              "    </tr>\n",
              "    <tr>\n",
              "      <th>genre</th>\n",
              "      <td>0</td>\n",
              "    </tr>\n",
              "    <tr>\n",
              "      <th>lyrics</th>\n",
              "      <td>0</td>\n",
              "    </tr>\n",
              "    <tr>\n",
              "      <th>len</th>\n",
              "      <td>0</td>\n",
              "    </tr>\n",
              "    <tr>\n",
              "      <th>dating</th>\n",
              "      <td>0</td>\n",
              "    </tr>\n",
              "    <tr>\n",
              "      <th>violence</th>\n",
              "      <td>0</td>\n",
              "    </tr>\n",
              "    <tr>\n",
              "      <th>world/life</th>\n",
              "      <td>0</td>\n",
              "    </tr>\n",
              "    <tr>\n",
              "      <th>night/time</th>\n",
              "      <td>0</td>\n",
              "    </tr>\n",
              "    <tr>\n",
              "      <th>shake the audience</th>\n",
              "      <td>0</td>\n",
              "    </tr>\n",
              "    <tr>\n",
              "      <th>family/gospel</th>\n",
              "      <td>0</td>\n",
              "    </tr>\n",
              "    <tr>\n",
              "      <th>romantic</th>\n",
              "      <td>0</td>\n",
              "    </tr>\n",
              "    <tr>\n",
              "      <th>communication</th>\n",
              "      <td>0</td>\n",
              "    </tr>\n",
              "    <tr>\n",
              "      <th>obscene</th>\n",
              "      <td>0</td>\n",
              "    </tr>\n",
              "    <tr>\n",
              "      <th>music</th>\n",
              "      <td>0</td>\n",
              "    </tr>\n",
              "    <tr>\n",
              "      <th>movement/places</th>\n",
              "      <td>0</td>\n",
              "    </tr>\n",
              "    <tr>\n",
              "      <th>light/visual perceptions</th>\n",
              "      <td>0</td>\n",
              "    </tr>\n",
              "    <tr>\n",
              "      <th>family/spiritual</th>\n",
              "      <td>0</td>\n",
              "    </tr>\n",
              "    <tr>\n",
              "      <th>like/girls</th>\n",
              "      <td>0</td>\n",
              "    </tr>\n",
              "    <tr>\n",
              "      <th>sadness</th>\n",
              "      <td>0</td>\n",
              "    </tr>\n",
              "    <tr>\n",
              "      <th>feelings</th>\n",
              "      <td>0</td>\n",
              "    </tr>\n",
              "    <tr>\n",
              "      <th>danceability</th>\n",
              "      <td>0</td>\n",
              "    </tr>\n",
              "    <tr>\n",
              "      <th>loudness</th>\n",
              "      <td>0</td>\n",
              "    </tr>\n",
              "    <tr>\n",
              "      <th>acousticness</th>\n",
              "      <td>0</td>\n",
              "    </tr>\n",
              "    <tr>\n",
              "      <th>instrumentalness</th>\n",
              "      <td>0</td>\n",
              "    </tr>\n",
              "    <tr>\n",
              "      <th>valence</th>\n",
              "      <td>0</td>\n",
              "    </tr>\n",
              "    <tr>\n",
              "      <th>energy</th>\n",
              "      <td>0</td>\n",
              "    </tr>\n",
              "    <tr>\n",
              "      <th>topic</th>\n",
              "      <td>0</td>\n",
              "    </tr>\n",
              "    <tr>\n",
              "      <th>age</th>\n",
              "      <td>0</td>\n",
              "    </tr>\n",
              "  </tbody>\n",
              "</table>\n",
              "</div><br><label><b>dtype:</b> int64</label>"
            ]
          },
          "metadata": {},
          "execution_count": 8
        }
      ],
      "source": [
        "df.isna().sum()"
      ]
    },
    {
      "cell_type": "markdown",
      "id": "b76f33a2",
      "metadata": {
        "id": "b76f33a2",
        "papermill": {
          "duration": 0.032658,
          "end_time": "2024-11-20T11:32:13.290826",
          "exception": false,
          "start_time": "2024-11-20T11:32:13.258168",
          "status": "completed"
        },
        "tags": []
      },
      "source": [
        "Все значения ненулевые - ничего не дропаем"
      ]
    },
    {
      "cell_type": "markdown",
      "id": "e98d28cc",
      "metadata": {
        "id": "e98d28cc",
        "papermill": {
          "duration": 0.043645,
          "end_time": "2024-11-20T11:32:13.508252",
          "exception": false,
          "start_time": "2024-11-20T11:32:13.464607",
          "status": "completed"
        },
        "tags": []
      },
      "source": [
        "В трен. выборку все треки до 2014, в датасете с 1950 до 2019"
      ]
    },
    {
      "cell_type": "code",
      "execution_count": 13,
      "id": "fa8307e1",
      "metadata": {
        "execution": {
          "iopub.execute_input": "2024-11-20T11:32:13.592654Z",
          "iopub.status.busy": "2024-11-20T11:32:13.592274Z",
          "iopub.status.idle": "2024-11-20T11:32:13.601603Z",
          "shell.execute_reply": "2024-11-20T11:32:13.600474Z"
        },
        "id": "fa8307e1",
        "papermill": {
          "duration": 0.053565,
          "end_time": "2024-11-20T11:32:13.603714",
          "exception": false,
          "start_time": "2024-11-20T11:32:13.550149",
          "status": "completed"
        },
        "tags": []
      },
      "outputs": [],
      "source": [
        "df[\"train\"] = df.release_date < 2013"
      ]
    },
    {
      "cell_type": "code",
      "execution_count": 14,
      "id": "835e7f45",
      "metadata": {
        "execution": {
          "iopub.execute_input": "2024-11-20T11:32:13.671862Z",
          "iopub.status.busy": "2024-11-20T11:32:13.671487Z",
          "iopub.status.idle": "2024-11-20T11:32:13.685947Z",
          "shell.execute_reply": "2024-11-20T11:32:13.684841Z"
        },
        "id": "835e7f45",
        "outputId": "510f7441-7e5a-46ef-d810-72782f715ca0",
        "papermill": {
          "duration": 0.050343,
          "end_time": "2024-11-20T11:32:13.688510",
          "exception": false,
          "start_time": "2024-11-20T11:32:13.638167",
          "status": "completed"
        },
        "tags": [],
        "colab": {
          "base_uri": "https://localhost:8080/",
          "height": 178
        }
      },
      "outputs": [
        {
          "output_type": "execute_result",
          "data": {
            "text/plain": [
              "train\n",
              "True     24278\n",
              "False     4094\n",
              "Name: count, dtype: int64"
            ],
            "text/html": [
              "<div>\n",
              "<style scoped>\n",
              "    .dataframe tbody tr th:only-of-type {\n",
              "        vertical-align: middle;\n",
              "    }\n",
              "\n",
              "    .dataframe tbody tr th {\n",
              "        vertical-align: top;\n",
              "    }\n",
              "\n",
              "    .dataframe thead th {\n",
              "        text-align: right;\n",
              "    }\n",
              "</style>\n",
              "<table border=\"1\" class=\"dataframe\">\n",
              "  <thead>\n",
              "    <tr style=\"text-align: right;\">\n",
              "      <th></th>\n",
              "      <th>count</th>\n",
              "    </tr>\n",
              "    <tr>\n",
              "      <th>train</th>\n",
              "      <th></th>\n",
              "    </tr>\n",
              "  </thead>\n",
              "  <tbody>\n",
              "    <tr>\n",
              "      <th>True</th>\n",
              "      <td>24278</td>\n",
              "    </tr>\n",
              "    <tr>\n",
              "      <th>False</th>\n",
              "      <td>4094</td>\n",
              "    </tr>\n",
              "  </tbody>\n",
              "</table>\n",
              "</div><br><label><b>dtype:</b> int64</label>"
            ]
          },
          "metadata": {},
          "execution_count": 14
        }
      ],
      "source": [
        "df.train.value_counts()"
      ]
    },
    {
      "cell_type": "markdown",
      "id": "f3718d30",
      "metadata": {
        "id": "f3718d30",
        "papermill": {
          "duration": 0.110408,
          "end_time": "2024-11-20T11:32:13.840787",
          "exception": false,
          "start_time": "2024-11-20T11:32:13.730379",
          "status": "completed"
        },
        "tags": []
      },
      "source": [
        "## Knowledge graph creation\n"
      ]
    },
    {
      "cell_type": "markdown",
      "id": "a16d28cf",
      "metadata": {
        "id": "a16d28cf",
        "papermill": {
          "duration": 0.032948,
          "end_time": "2024-11-20T11:32:14.319532",
          "exception": false,
          "start_time": "2024-11-20T11:32:14.286584",
          "status": "completed"
        },
        "tags": []
      },
      "source": [
        "Then, we create the actual triples based on the relationship between the entities. We do it only for the triples in the training set (before 2014)."
      ]
    },
    {
      "cell_type": "code",
      "execution_count": null,
      "id": "e12b1c4d",
      "metadata": {
        "execution": {
          "iopub.execute_input": "2024-11-20T11:32:14.386651Z",
          "iopub.status.busy": "2024-11-20T11:32:14.386281Z",
          "iopub.status.idle": "2024-11-20T11:32:19.255766Z",
          "shell.execute_reply": "2024-11-20T11:32:19.254510Z"
        },
        "id": "e12b1c4d",
        "papermill": {
          "duration": 4.906837,
          "end_time": "2024-11-20T11:32:19.258668",
          "exception": false,
          "start_time": "2024-11-20T11:32:14.351831",
          "status": "completed"
        },
        "tags": []
      },
      "outputs": [],
      "source": [
        "triples = []\n",
        "for _, row in df[df[\"train\"]].iterrows():\n",
        "\n",
        "    home_team = (row[\"home_team_id\"], \"isHomeTeamIn\", row[\"match_id\"])\n",
        "    away_team = (row[\"away_team_id\"], \"isAwayTeamIn\", row[\"match_id\"])\n",
        "\n",
        "    # Match results\n",
        "    if row[\"home_score\"] > row[\"away_score\"]:\n",
        "        score_home = (row[\"home_team_id\"], \"winnerOf\", row[\"match_id\"])\n",
        "        score_away = (row[\"away_team_id\"], \"loserOf\", row[\"match_id\"])\n",
        "    elif row[\"home_score\"] < row[\"away_score\"]:\n",
        "        score_away = (row[\"away_team_id\"], \"winnerOf\", row[\"match_id\"])\n",
        "        score_home = (row[\"home_team_id\"], \"loserOf\", row[\"match_id\"])\n",
        "    else:\n",
        "        score_home = (row[\"home_team_id\"], \"draws\", row[\"match_id\"])\n",
        "        score_away = (row[\"away_team_id\"], \"draws\", row[\"match_id\"])\n",
        "    home_score = (row[\"match_id\"], \"homeScores\", np.clip(int(row[\"home_score\"]), 0, 5))\n",
        "    away_score = (row[\"match_id\"], \"awayScores\", np.clip(int(row[\"away_score\"]), 0, 5))\n",
        "\n",
        "    # Match characteristics\n",
        "    tournament = (row[\"match_id\"], \"inTournament\", row[\"tournament_id\"])\n",
        "    city = (row[\"match_id\"], \"inCity\", row[\"city_id\"])\n",
        "    country = (row[\"match_id\"], \"inCountry\", row[\"country_id\"])\n",
        "    neutral = (row[\"match_id\"], \"isNeutral\", row[\"neutral\"])\n",
        "    year = (row[\"match_id\"], \"atYear\", row[\"date\"][:4])\n",
        "\n",
        "    triples.extend((home_team, away_team, score_home, score_away,\n",
        "                    tournament, city, country, neutral, year, home_score, away_score))"
      ]
    },
    {
      "cell_type": "markdown",
      "id": "fc787398",
      "metadata": {
        "id": "fc787398",
        "papermill": {
          "duration": 0.040463,
          "end_time": "2024-11-20T11:32:19.340373",
          "exception": false,
          "start_time": "2024-11-20T11:32:19.299910",
          "status": "completed"
        },
        "tags": []
      },
      "source": [
        "Note that we treat some literals (year, neutral match, home score, away score) as discrete entities and they will be part of the final knowledge graph used to generate the embeddings. We limit the number of score entities by clipping the score to be at most 5."
      ]
    },
    {
      "cell_type": "markdown",
      "id": "0b500b9b",
      "metadata": {
        "id": "0b500b9b",
        "papermill": {
          "duration": 0.041063,
          "end_time": "2024-11-20T11:32:19.423475",
          "exception": false,
          "start_time": "2024-11-20T11:32:19.382412",
          "status": "completed"
        },
        "tags": []
      },
      "source": [
        "Below we can see visualise a subset of the graph related to the infamous [Maracanazo](https://en.wikipedia.org/wiki/Uruguay_v_Brazil_(1950_FIFA_World_Cup)):\n",
        "\n",
        "![Football graph](https://github.com/Accenture/AmpliGraph/blob/main/docs/tutorials/img/FootballGraph.png?raw=1)"
      ]
    },
    {
      "cell_type": "markdown",
      "id": "beb44176",
      "metadata": {
        "id": "beb44176",
        "papermill": {
          "duration": 0.041863,
          "end_time": "2024-11-20T11:32:19.508060",
          "exception": false,
          "start_time": "2024-11-20T11:32:19.466197",
          "status": "completed"
        },
        "tags": []
      },
      "source": [
        "The whole graph related to this match can be summarised by the triples below:"
      ]
    },
    {
      "cell_type": "code",
      "execution_count": null,
      "id": "26dd7eaf",
      "metadata": {
        "execution": {
          "iopub.execute_input": "2024-11-20T11:32:19.591739Z",
          "iopub.status.busy": "2024-11-20T11:32:19.591346Z",
          "iopub.status.idle": "2024-11-20T11:32:19.926341Z",
          "shell.execute_reply": "2024-11-20T11:32:19.925216Z"
        },
        "id": "26dd7eaf",
        "outputId": "00c883e3-bc48-4b0b-d83a-81615e7ca46f",
        "papermill": {
          "duration": 0.379116,
          "end_time": "2024-11-20T11:32:19.928656",
          "exception": false,
          "start_time": "2024-11-20T11:32:19.549540",
          "status": "completed"
        },
        "tags": []
      },
      "outputs": [
        {
          "data": {
            "text/html": [
              "<div>\n",
              "<style scoped>\n",
              "    .dataframe tbody tr th:only-of-type {\n",
              "        vertical-align: middle;\n",
              "    }\n",
              "\n",
              "    .dataframe tbody tr th {\n",
              "        vertical-align: top;\n",
              "    }\n",
              "\n",
              "    .dataframe thead th {\n",
              "        text-align: right;\n",
              "    }\n",
              "</style>\n",
              "<table border=\"1\" class=\"dataframe\">\n",
              "  <thead>\n",
              "    <tr style=\"text-align: right;\">\n",
              "      <th></th>\n",
              "      <th>subject</th>\n",
              "      <th>predicate</th>\n",
              "      <th>object</th>\n",
              "    </tr>\n",
              "  </thead>\n",
              "  <tbody>\n",
              "    <tr>\n",
              "      <th>34419</th>\n",
              "      <td>TeamBrazil</td>\n",
              "      <td>isHomeTeamIn</td>\n",
              "      <td>Match3129</td>\n",
              "    </tr>\n",
              "    <tr>\n",
              "      <th>34420</th>\n",
              "      <td>TeamUruguay</td>\n",
              "      <td>isAwayTeamIn</td>\n",
              "      <td>Match3129</td>\n",
              "    </tr>\n",
              "    <tr>\n",
              "      <th>34421</th>\n",
              "      <td>TeamBrazil</td>\n",
              "      <td>loserOf</td>\n",
              "      <td>Match3129</td>\n",
              "    </tr>\n",
              "    <tr>\n",
              "      <th>34422</th>\n",
              "      <td>TeamUruguay</td>\n",
              "      <td>winnerOf</td>\n",
              "      <td>Match3129</td>\n",
              "    </tr>\n",
              "    <tr>\n",
              "      <th>34423</th>\n",
              "      <td>Match3129</td>\n",
              "      <td>inTournament</td>\n",
              "      <td>TournamentFifaWorldCup</td>\n",
              "    </tr>\n",
              "    <tr>\n",
              "      <th>34424</th>\n",
              "      <td>Match3129</td>\n",
              "      <td>inCity</td>\n",
              "      <td>CityRioDeJaneiro</td>\n",
              "    </tr>\n",
              "    <tr>\n",
              "      <th>34425</th>\n",
              "      <td>Match3129</td>\n",
              "      <td>inCountry</td>\n",
              "      <td>CountryBrazil</td>\n",
              "    </tr>\n",
              "    <tr>\n",
              "      <th>34426</th>\n",
              "      <td>Match3129</td>\n",
              "      <td>isNeutral</td>\n",
              "      <td>False</td>\n",
              "    </tr>\n",
              "    <tr>\n",
              "      <th>34427</th>\n",
              "      <td>Match3129</td>\n",
              "      <td>atYear</td>\n",
              "      <td>1950</td>\n",
              "    </tr>\n",
              "    <tr>\n",
              "      <th>34428</th>\n",
              "      <td>Match3129</td>\n",
              "      <td>homeScores</td>\n",
              "      <td>1</td>\n",
              "    </tr>\n",
              "    <tr>\n",
              "      <th>34429</th>\n",
              "      <td>Match3129</td>\n",
              "      <td>awayScores</td>\n",
              "      <td>2</td>\n",
              "    </tr>\n",
              "  </tbody>\n",
              "</table>\n",
              "</div>"
            ],
            "text/plain": [
              "           subject     predicate                  object\n",
              "34419   TeamBrazil  isHomeTeamIn               Match3129\n",
              "34420  TeamUruguay  isAwayTeamIn               Match3129\n",
              "34421   TeamBrazil       loserOf               Match3129\n",
              "34422  TeamUruguay      winnerOf               Match3129\n",
              "34423    Match3129  inTournament  TournamentFifaWorldCup\n",
              "34424    Match3129        inCity        CityRioDeJaneiro\n",
              "34425    Match3129     inCountry           CountryBrazil\n",
              "34426    Match3129     isNeutral                   False\n",
              "34427    Match3129        atYear                    1950\n",
              "34428    Match3129    homeScores                       1\n",
              "34429    Match3129    awayScores                       2"
            ]
          },
          "execution_count": 11,
          "metadata": {},
          "output_type": "execute_result"
        }
      ],
      "source": [
        "triples_df = pd.DataFrame(triples, columns=[\"subject\", \"predicate\", \"object\"])\n",
        "triples_df[(triples_df.subject==\"Match3129\") | (triples_df.object==\"Match3129\")]"
      ]
    },
    {
      "cell_type": "markdown",
      "id": "0b319810",
      "metadata": {
        "id": "0b319810",
        "papermill": {
          "duration": 0.032893,
          "end_time": "2024-11-20T11:32:19.996004",
          "exception": false,
          "start_time": "2024-11-20T11:32:19.963111",
          "status": "completed"
        },
        "tags": []
      },
      "source": [
        "#### Example [RML](https://rml.io/) mapping"
      ]
    },
    {
      "cell_type": "code",
      "execution_count": null,
      "id": "185815ad",
      "metadata": {
        "execution": {
          "iopub.execute_input": "2024-11-20T11:32:20.065592Z",
          "iopub.status.busy": "2024-11-20T11:32:20.065243Z",
          "iopub.status.idle": "2024-11-20T11:32:20.071098Z",
          "shell.execute_reply": "2024-11-20T11:32:20.070041Z"
        },
        "id": "185815ad",
        "papermill": {
          "duration": 0.043754,
          "end_time": "2024-11-20T11:32:20.073093",
          "exception": false,
          "start_time": "2024-11-20T11:32:20.029339",
          "status": "completed"
        },
        "tags": []
      },
      "outputs": [],
      "source": [
        "# @prefix rr: <http://www.w3.org/ns/r2rml#>.\n",
        "# @prefix rml: <http://semweb.mmlab.be/ns/rml#>.\n",
        "# @prefix ql: <http://semweb.mmlab.be/ns/ql#>.\n",
        "# @prefix xsd: <http://www.w3.org/2001/XMLSchema#>.\n",
        "# @prefix ex: <http://example.com/ns#>.\n",
        "# @prefix dbo: <http://dbpedia.org/ontology#/>.\n",
        "# @prefix fno: <http://w3id.org/function/ontology#>.\n",
        "# @prefix grel: <http://users.ugent.be/~bjdmeest/function/grel.ttl#>.\n",
        "\n",
        "# <#Football_match>\n",
        "\n",
        "#   rml:logicalSource [\n",
        "#     rml:source \"football_results.csv\";\n",
        "#     rml:referenceFormulation ql:CSV\n",
        "#   ];\n",
        "\n",
        "\n",
        "#   rr:subjectMap [\n",
        "#     rr:template \"http://ex.com/Team/Team{home_team}\";\n",
        "#     rr:class dbo:FootballTeam\n",
        "#   ];\n",
        "\n",
        "#   rr:subjectMap [\n",
        "#     rr:template \"http://ex.com/Team/Team{away_team}\";\n",
        "#     rr:class dbo:FootballTeam\n",
        "#   ];\n",
        "\n",
        "#   rr:subjectMap [\n",
        "#     rr:template \"http://ex.com/Match/{match_id}\";\n",
        "#     rr:class dbo:SportsEvent\n",
        "#   ];\n",
        "\n",
        "\n",
        "#   rr:predicateObjectMap [\n",
        "#     rr:predicate ex:isHomeTeamIn;\n",
        "#     rr:objectMap [\n",
        "#       rml:reference \"match_id\"\n",
        "#     ]\n",
        "#   ];\n",
        "\n",
        "#   rr:predicateObjectMap [\n",
        "#     rr:predicate ex:isAwayTeamIn;\n",
        "#     rr:objectMap [\n",
        "#       rml:reference \"match_id\"\n",
        "#     ]\n",
        "#   ];\n",
        "\n",
        "#   rr:predicateObjectMap [\n",
        "#     rr:predicate ex:inTournament;\n",
        "#     rr:objectMap [\n",
        "#       rml:reference \"tournament_id\"\n",
        "#     ]\n",
        "#   ];\n",
        "\n",
        "#   rr:predicateObjectMap [\n",
        "#     rr:predicate ex:inCity;\n",
        "#     rr:objectMap [\n",
        "#       rml:reference \"city_id\"\n",
        "#     ]\n",
        "#   ]."
      ]
    },
    {
      "cell_type": "markdown",
      "id": "c1ba3e21",
      "metadata": {
        "id": "c1ba3e21",
        "papermill": {
          "duration": 0.032994,
          "end_time": "2024-11-20T11:32:20.138686",
          "exception": false,
          "start_time": "2024-11-20T11:32:20.105692",
          "status": "completed"
        },
        "tags": []
      },
      "source": [
        "#### Example output data"
      ]
    },
    {
      "cell_type": "markdown",
      "id": "3b357ddb",
      "metadata": {
        "id": "3b357ddb",
        "papermill": {
          "duration": 0.032826,
          "end_time": "2024-11-20T11:32:20.204782",
          "exception": false,
          "start_time": "2024-11-20T11:32:20.171956",
          "status": "completed"
        },
        "tags": []
      },
      "source": [
        "<http://ex.com/Team/TeamScotland> ex:isHomeTeamIn Match0.\n",
        "\n",
        "<http://ex.com/Team/TeamEngland> ex:isAwayTeamIn Match0.\n",
        "        \n",
        "<http://ex.com/Match/Match0> ex:inTournament TournamentFriendly.\n",
        "        \n",
        "<http://ex.com/Match/Match0> ex:inCity CityGlasgow."
      ]
    },
    {
      "cell_type": "markdown",
      "id": "f62978fe",
      "metadata": {
        "id": "f62978fe",
        "papermill": {
          "duration": 0.033243,
          "end_time": "2024-11-20T11:32:20.271406",
          "exception": false,
          "start_time": "2024-11-20T11:32:20.238163",
          "status": "completed"
        },
        "tags": []
      },
      "source": [
        "## Training knowledge graph embeddings\n",
        "\n",
        "We split our training dataset further into training and validation, where the new training set will be used to the knowledge embedding training and the validation set will be used in its evaluation. The test set will be used to evaluate the performance of the classification algorithm built on top of the embeddings.\n",
        "\n",
        "What differs from the standard method of randomly sampling N points to make up our validation set is that our data points are two entities linked by some relationship, and we need to take care to ensure that all entities are represented in train and validation sets by at least one triple.\n",
        "\n",
        "To accomplish this, AmpliGraph provides the [`train_test_split_no_unseen`](https://docs.ampligraph.org/en/latest/generated/ampligraph.evaluation.train_test_split_no_unseen.html#train-test-split-no-unseen) function."
      ]
    },
    {
      "cell_type": "code",
      "execution_count": null,
      "id": "7d659c12",
      "metadata": {
        "execution": {
          "iopub.execute_input": "2024-11-20T11:32:20.341984Z",
          "iopub.status.busy": "2024-11-20T11:32:20.340932Z",
          "iopub.status.idle": "2024-11-20T11:32:25.489482Z",
          "shell.execute_reply": "2024-11-20T11:32:25.484515Z"
        },
        "id": "7d659c12",
        "papermill": {
          "duration": 5.196664,
          "end_time": "2024-11-20T11:32:25.502643",
          "exception": false,
          "start_time": "2024-11-20T11:32:20.305979",
          "status": "completed"
        },
        "tags": []
      },
      "outputs": [],
      "source": [
        "from ampligraph.evaluation import train_test_split_no_unseen\n",
        "\n",
        "X_train, X_valid = train_test_split_no_unseen(np.array(triples), test_size=10000)"
      ]
    },
    {
      "cell_type": "code",
      "execution_count": null,
      "id": "2a9f7bec",
      "metadata": {
        "execution": {
          "iopub.execute_input": "2024-11-20T11:32:25.744420Z",
          "iopub.status.busy": "2024-11-20T11:32:25.743249Z",
          "iopub.status.idle": "2024-11-20T11:32:25.760688Z",
          "shell.execute_reply": "2024-11-20T11:32:25.757416Z"
        },
        "id": "2a9f7bec",
        "outputId": "2fcf5825-6b02-4e1c-810f-0edd6fd1ffa2",
        "papermill": {
          "duration": 0.138053,
          "end_time": "2024-11-20T11:32:25.770838",
          "exception": false,
          "start_time": "2024-11-20T11:32:25.632785",
          "status": "completed"
        },
        "tags": []
      },
      "outputs": [
        {
          "name": "stdout",
          "output_type": "stream",
          "text": [
            "Train set size:  (382854, 3)\n",
            "Test set size:  (10000, 3)\n"
          ]
        }
      ],
      "source": [
        "print('Train set size: ', X_train.shape)\n",
        "print('Test set size: ', X_valid.shape)"
      ]
    },
    {
      "cell_type": "code",
      "execution_count": null,
      "id": "13a93115",
      "metadata": {
        "execution": {
          "iopub.execute_input": "2024-11-20T11:32:26.054740Z",
          "iopub.status.busy": "2024-11-20T11:32:26.054353Z",
          "iopub.status.idle": "2024-11-20T11:32:26.237972Z",
          "shell.execute_reply": "2024-11-20T11:32:26.235253Z"
        },
        "id": "13a93115",
        "papermill": {
          "duration": 0.335857,
          "end_time": "2024-11-20T11:32:26.244699",
          "exception": false,
          "start_time": "2024-11-20T11:32:25.908842",
          "status": "completed"
        },
        "tags": []
      },
      "outputs": [],
      "source": [
        "from ampligraph.latent_features import ScoringBasedEmbeddingModel\n",
        "from ampligraph.latent_features.loss_functions import get as get_loss\n",
        "from ampligraph.latent_features.regularizers import get as get_regularizer\n",
        "\n",
        "model = ScoringBasedEmbeddingModel(k=100,\n",
        "                                   eta=20,\n",
        "                                   scoring_type='ComplEx',\n",
        "                                   seed=0)\n",
        "\n",
        "# Optimizer, loss and regularizer definition\n",
        "optimizer = tf.keras.optimizers.Adam(learning_rate=1e-4)\n",
        "loss = get_loss('multiclass_nll')\n",
        "regularizer = get_regularizer('LP', {'p': 3, 'lambda': 1e-5})\n",
        "\n",
        "# Compilation of the model\n",
        "model.compile(optimizer=optimizer, loss=loss, entity_relation_regularizer=regularizer)"
      ]
    },
    {
      "cell_type": "markdown",
      "id": "9fa47add",
      "metadata": {
        "id": "9fa47add",
        "papermill": {
          "duration": 0.083884,
          "end_time": "2024-11-20T11:32:26.454480",
          "exception": false,
          "start_time": "2024-11-20T11:32:26.370596",
          "status": "completed"
        },
        "tags": []
      },
      "source": [
        "AmpliGraph has implemented [several Knowledge Graph Embedding models](https://docs.ampligraph.org/en/latest/ampligraph.latent_features.html#knowledge-graph-embedding-models) (TransE, ComplEx, DistMult, HolE), but to begin with we're just going to use the [ComplEx](https://docs.ampligraph.org/en/latest/generated/ampligraph.latent_features.ComplEx.html#ampligraph.latent_features.ComplEx) model, which is known to bring state-of-the-art predictive power.\n",
        "\n",
        "The hyper-parameter choice was based on the [best results](https://docs.ampligraph.org/en/latest/experiments.html) we have found so far for the ComplEx model applied to some benchmark datasets used in the knowledge graph embeddings community. This tutorial does not cover [hyper-parameter tuning](https://docs.ampligraph.org/en/latest/examples.html#model-selection)."
      ]
    },
    {
      "cell_type": "markdown",
      "id": "02be060e",
      "metadata": {
        "id": "02be060e",
        "papermill": {
          "duration": 0.03847,
          "end_time": "2024-11-20T11:32:26.530131",
          "exception": false,
          "start_time": "2024-11-20T11:32:26.491661",
          "status": "completed"
        },
        "tags": []
      },
      "source": [
        "Lets go through the parameters to understand what's going on:\n",
        "\n",
        "- **`k`**: the dimensionality of the embedding space.\n",
        "- **`eta`** ($\\\\eta$) : the number of negative, or false triples that must be generated at training runtime for each positive, or true triple.\n",
        "- **`scoring_type`**: type of model defined by spicific scoring function.\n",
        "- **`seed`** : random seed, used for reproducibility.\n",
        "- **`optimizer`** : the Adam optimizer, with a learning rate of 1e-4 set via the *optimizer_params* kwarg.\n",
        "- **`loss`** : pairwise loss, with a margin of 0.5 set via the *loss_params* kwarg.\n",
        "- **`regularizer`** : $L_p$ regularization with $p=3$, i.e. l3 regularization. $\\\\lambda$ = 1e-5, set via the *regularizer_params* kwarg."
      ]
    },
    {
      "cell_type": "markdown",
      "id": "243c9c7e",
      "metadata": {
        "id": "243c9c7e",
        "papermill": {
          "duration": 0.033582,
          "end_time": "2024-11-20T11:32:26.597530",
          "exception": false,
          "start_time": "2024-11-20T11:32:26.563948",
          "status": "completed"
        },
        "tags": []
      },
      "source": [
        "Training should take around 10 minutes on a modern GPU:"
      ]
    },
    {
      "cell_type": "code",
      "execution_count": null,
      "id": "304fcd0c",
      "metadata": {
        "execution": {
          "iopub.execute_input": "2024-11-20T11:32:26.671301Z",
          "iopub.status.busy": "2024-11-20T11:32:26.670890Z",
          "iopub.status.idle": "2024-11-20T17:14:30.724535Z",
          "shell.execute_reply": "2024-11-20T17:14:30.722165Z"
        },
        "id": "304fcd0c",
        "outputId": "67f25b3f-90a3-4657-f60c-bb5cda185d23",
        "papermill": {
          "duration": 20524.095059,
          "end_time": "2024-11-20T17:14:30.728335",
          "exception": false,
          "start_time": "2024-11-20T11:32:26.633276",
          "status": "completed"
        },
        "tags": []
      },
      "outputs": [
        {
          "name": "stdout",
          "output_type": "stream",
          "text": [
            "Epoch 1/300\n",
            "52/52 [==============================] - 72s 1s/step - loss: 22855.0566\n",
            "Epoch 2/300\n",
            "52/52 [==============================] - 64s 1s/step - loss: 22854.8477\n",
            "Epoch 3/300\n",
            "52/52 [==============================] - 63s 1s/step - loss: 22854.5762\n",
            "Epoch 4/300\n",
            "52/52 [==============================] - 63s 1s/step - loss: 22854.0996\n",
            "Epoch 5/300\n",
            "52/52 [==============================] - 63s 1s/step - loss: 22853.2461\n",
            "Epoch 6/300\n",
            "52/52 [==============================] - 63s 1s/step - loss: 22851.8145\n",
            "Epoch 7/300\n",
            "52/52 [==============================] - 64s 1s/step - loss: 22849.5273\n",
            "Epoch 8/300\n",
            "52/52 [==============================] - 63s 1s/step - loss: 22846.0977\n",
            "Epoch 9/300\n",
            "52/52 [==============================] - 64s 1s/step - loss: 22841.2402\n",
            "Epoch 10/300\n",
            "52/52 [==============================] - 102s 2s/step - loss: 22834.6426\n",
            "Epoch 11/300\n",
            "52/52 [==============================] - 64s 1s/step - loss: 22826.0371\n",
            "Epoch 12/300\n",
            "52/52 [==============================] - 64s 1s/step - loss: 22815.1504\n",
            "Epoch 13/300\n",
            "52/52 [==============================] - 64s 1s/step - loss: 22801.7324\n",
            "Epoch 14/300\n",
            "52/52 [==============================] - 67s 1s/step - loss: 22785.5527\n",
            "Epoch 15/300\n",
            "52/52 [==============================] - 66s 1s/step - loss: 22766.3770\n",
            "Epoch 16/300\n",
            "52/52 [==============================] - 66s 1s/step - loss: 22744.0000\n",
            "Epoch 17/300\n",
            "52/52 [==============================] - 67s 1s/step - loss: 22718.2344\n",
            "Epoch 18/300\n",
            "52/52 [==============================] - 65s 1s/step - loss: 22688.9082\n",
            "Epoch 19/300\n",
            "52/52 [==============================] - 64s 1s/step - loss: 22655.8477\n",
            "Epoch 20/300\n",
            "52/52 [==============================] - 104s 2s/step - loss: 22618.9336\n",
            "Epoch 21/300\n",
            "52/52 [==============================] - 65s 1s/step - loss: 22578.0371\n",
            "Epoch 22/300\n",
            "52/52 [==============================] - 65s 1s/step - loss: 22533.0156\n",
            "Epoch 23/300\n",
            "52/52 [==============================] - 64s 1s/step - loss: 22483.7598\n",
            "Epoch 24/300\n",
            "52/52 [==============================] - 66s 1s/step - loss: 22430.2090\n",
            "Epoch 25/300\n",
            "52/52 [==============================] - 67s 1s/step - loss: 22372.2754\n",
            "Epoch 26/300\n",
            "52/52 [==============================] - 65s 1s/step - loss: 22309.8574\n",
            "Epoch 27/300\n",
            "52/52 [==============================] - 66s 1s/step - loss: 22242.9414\n",
            "Epoch 28/300\n",
            "52/52 [==============================] - 66s 1s/step - loss: 22171.4648\n",
            "Epoch 29/300\n",
            "52/52 [==============================] - 100s 2s/step - loss: 22095.3867\n",
            "Epoch 30/300\n",
            "52/52 [==============================] - 73s 1s/step - loss: 22014.6855\n",
            "Epoch 31/300\n",
            "52/52 [==============================] - 66s 1s/step - loss: 21929.4023\n",
            "Epoch 32/300\n",
            "52/52 [==============================] - 65s 1s/step - loss: 21839.4922\n",
            "Epoch 33/300\n",
            "52/52 [==============================] - 65s 1s/step - loss: 21745.0312\n",
            "Epoch 34/300\n",
            "52/52 [==============================] - 65s 1s/step - loss: 21646.0488\n",
            "Epoch 35/300\n",
            "52/52 [==============================] - 65s 1s/step - loss: 21542.6250\n",
            "Epoch 36/300\n",
            "52/52 [==============================] - 65s 1s/step - loss: 21434.8320\n",
            "Epoch 37/300\n",
            "52/52 [==============================] - 64s 1s/step - loss: 21322.7734\n",
            "Epoch 38/300\n",
            "52/52 [==============================] - 64s 1s/step - loss: 21206.5879\n",
            "Epoch 39/300\n",
            "52/52 [==============================] - 106s 2s/step - loss: 21086.3887\n",
            "Epoch 40/300\n",
            "52/52 [==============================] - 67s 1s/step - loss: 20962.4102\n",
            "Epoch 41/300\n",
            "52/52 [==============================] - 67s 1s/step - loss: 20834.7461\n",
            "Epoch 42/300\n",
            "52/52 [==============================] - 65s 1s/step - loss: 20703.6758\n",
            "Epoch 43/300\n",
            "52/52 [==============================] - 64s 1s/step - loss: 20569.3926\n",
            "Epoch 44/300\n",
            "52/52 [==============================] - 64s 1s/step - loss: 20432.1035\n",
            "Epoch 45/300\n",
            "52/52 [==============================] - 64s 1s/step - loss: 20292.0938\n",
            "Epoch 46/300\n",
            "52/52 [==============================] - 64s 1s/step - loss: 20149.5781\n",
            "Epoch 47/300\n",
            "52/52 [==============================] - 64s 1s/step - loss: 20004.8301\n",
            "Epoch 48/300\n",
            "52/52 [==============================] - 64s 1s/step - loss: 19858.0859\n",
            "Epoch 49/300\n",
            "52/52 [==============================] - 106s 2s/step - loss: 19709.6172\n",
            "Epoch 50/300\n",
            "52/52 [==============================] - 64s 1s/step - loss: 19559.6855\n",
            "Epoch 51/300\n",
            "52/52 [==============================] - 65s 1s/step - loss: 19408.4961\n",
            "Epoch 52/300\n",
            "52/52 [==============================] - 66s 1s/step - loss: 19256.3184\n",
            "Epoch 53/300\n",
            "52/52 [==============================] - 69s 1s/step - loss: 19103.2891\n",
            "Epoch 54/300\n",
            "52/52 [==============================] - 68s 1s/step - loss: 18949.7344\n",
            "Epoch 55/300\n",
            "52/52 [==============================] - 67s 1s/step - loss: 18795.8066\n",
            "Epoch 56/300\n",
            "52/52 [==============================] - 66s 1s/step - loss: 18641.7129\n",
            "Epoch 57/300\n",
            "52/52 [==============================] - 64s 1s/step - loss: 18487.6504\n",
            "Epoch 58/300\n",
            "52/52 [==============================] - 107s 2s/step - loss: 18333.7383\n",
            "Epoch 59/300\n",
            "52/52 [==============================] - 65s 1s/step - loss: 18180.1699\n",
            "Epoch 60/300\n",
            "52/52 [==============================] - 65s 1s/step - loss: 18027.1152\n",
            "Epoch 61/300\n",
            "52/52 [==============================] - 65s 1s/step - loss: 17874.7109\n",
            "Epoch 62/300\n",
            "52/52 [==============================] - 64s 1s/step - loss: 17723.0625\n",
            "Epoch 63/300\n",
            "52/52 [==============================] - 64s 1s/step - loss: 17572.2910\n",
            "Epoch 64/300\n",
            "52/52 [==============================] - 64s 1s/step - loss: 17422.4805\n",
            "Epoch 65/300\n",
            "52/52 [==============================] - 65s 1s/step - loss: 17273.7891\n",
            "Epoch 66/300\n",
            "52/52 [==============================] - 66s 1s/step - loss: 17126.3145\n",
            "Epoch 67/300\n",
            "52/52 [==============================] - 71s 1s/step - loss: 16980.0586\n",
            "Epoch 68/300\n",
            "52/52 [==============================] - 100s 2s/step - loss: 16835.1543\n",
            "Epoch 69/300\n",
            "52/52 [==============================] - 65s 1s/step - loss: 16691.5742\n",
            "Epoch 70/300\n",
            "52/52 [==============================] - 65s 1s/step - loss: 16549.4941\n",
            "Epoch 71/300\n",
            "52/52 [==============================] - 65s 1s/step - loss: 16408.9668\n",
            "Epoch 72/300\n",
            "52/52 [==============================] - 64s 1s/step - loss: 16269.9619\n",
            "Epoch 73/300\n",
            "52/52 [==============================] - 66s 1s/step - loss: 16132.5654\n",
            "Epoch 74/300\n",
            "52/52 [==============================] - 64s 1s/step - loss: 15996.7617\n",
            "Epoch 75/300\n",
            "52/52 [==============================] - 64s 1s/step - loss: 15862.5547\n",
            "Epoch 76/300\n",
            "52/52 [==============================] - 66s 1s/step - loss: 15730.0332\n",
            "Epoch 77/300\n",
            "52/52 [==============================] - 105s 2s/step - loss: 15599.2695\n",
            "Epoch 78/300\n",
            "52/52 [==============================] - 67s 1s/step - loss: 15470.1240\n",
            "Epoch 79/300\n",
            "52/52 [==============================] - 65s 1s/step - loss: 15342.6982\n",
            "Epoch 80/300\n",
            "52/52 [==============================] - 65s 1s/step - loss: 15216.9541\n",
            "Epoch 81/300\n",
            "52/52 [==============================] - 64s 1s/step - loss: 15092.9248\n",
            "Epoch 82/300\n",
            "52/52 [==============================] - 63s 1s/step - loss: 14970.5811\n",
            "Epoch 83/300\n",
            "52/52 [==============================] - 64s 1s/step - loss: 14849.9287\n",
            "Epoch 84/300\n",
            "52/52 [==============================] - 64s 1s/step - loss: 14730.9805\n",
            "Epoch 85/300\n",
            "52/52 [==============================] - 64s 1s/step - loss: 14613.6387\n",
            "Epoch 86/300\n",
            "52/52 [==============================] - 64s 1s/step - loss: 14498.0215\n",
            "Epoch 87/300\n",
            "52/52 [==============================] - 106s 2s/step - loss: 14384.0176\n",
            "Epoch 88/300\n",
            "52/52 [==============================] - 64s 1s/step - loss: 14271.6787\n",
            "Epoch 89/300\n",
            "52/52 [==============================] - 65s 1s/step - loss: 14160.9258\n",
            "Epoch 90/300\n",
            "52/52 [==============================] - 64s 1s/step - loss: 14051.7529\n",
            "Epoch 91/300\n",
            "52/52 [==============================] - 65s 1s/step - loss: 13944.1631\n",
            "Epoch 92/300\n",
            "52/52 [==============================] - 65s 1s/step - loss: 13838.1777\n",
            "Epoch 93/300\n",
            "52/52 [==============================] - 66s 1s/step - loss: 13733.7578\n",
            "Epoch 94/300\n",
            "52/52 [==============================] - 66s 1s/step - loss: 13630.7852\n",
            "Epoch 95/300\n",
            "52/52 [==============================] - 65s 1s/step - loss: 13529.3213\n",
            "Epoch 96/300\n",
            "52/52 [==============================] - 66s 1s/step - loss: 13429.3281\n",
            "Epoch 97/300\n",
            "52/52 [==============================] - 103s 2s/step - loss: 13330.7852\n",
            "Epoch 98/300\n",
            "52/52 [==============================] - 64s 1s/step - loss: 13233.6973\n",
            "Epoch 99/300\n",
            "52/52 [==============================] - 64s 1s/step - loss: 13138.0107\n",
            "Epoch 100/300\n",
            "52/52 [==============================] - 64s 1s/step - loss: 13043.6953\n",
            "Epoch 101/300\n",
            "52/52 [==============================] - 66s 1s/step - loss: 12950.7461\n",
            "Epoch 102/300\n",
            "52/52 [==============================] - 64s 1s/step - loss: 12859.1465\n",
            "Epoch 103/300\n",
            "52/52 [==============================] - 64s 1s/step - loss: 12768.8691\n",
            "Epoch 104/300\n",
            "52/52 [==============================] - 64s 1s/step - loss: 12679.8594\n",
            "Epoch 105/300\n",
            "52/52 [==============================] - 66s 1s/step - loss: 12592.1641\n",
            "Epoch 106/300\n",
            "52/52 [==============================] - 93s 2s/step - loss: 12505.6719\n",
            "Epoch 107/300\n",
            "52/52 [==============================] - 80s 2s/step - loss: 12420.4189\n",
            "Epoch 108/300\n",
            "52/52 [==============================] - 64s 1s/step - loss: 12336.3848\n",
            "Epoch 109/300\n",
            "52/52 [==============================] - 64s 1s/step - loss: 12253.5020\n",
            "Epoch 110/300\n",
            "52/52 [==============================] - 64s 1s/step - loss: 12171.8613\n",
            "Epoch 111/300\n",
            "52/52 [==============================] - 64s 1s/step - loss: 12091.2803\n",
            "Epoch 112/300\n",
            "52/52 [==============================] - 64s 1s/step - loss: 12011.8389\n",
            "Epoch 113/300\n",
            "52/52 [==============================] - 64s 1s/step - loss: 11933.4932\n",
            "Epoch 114/300\n",
            "52/52 [==============================] - 63s 1s/step - loss: 11856.2490\n",
            "Epoch 115/300\n",
            "52/52 [==============================] - 65s 1s/step - loss: 11780.0664\n",
            "Epoch 116/300\n",
            "52/52 [==============================] - 104s 2s/step - loss: 11704.9102\n",
            "Epoch 117/300\n",
            "52/52 [==============================] - 65s 1s/step - loss: 11630.7666\n",
            "Epoch 118/300\n",
            "52/52 [==============================] - 64s 1s/step - loss: 11557.6748\n",
            "Epoch 119/300\n",
            "52/52 [==============================] - 64s 1s/step - loss: 11485.5029\n",
            "Epoch 120/300\n",
            "52/52 [==============================] - 64s 1s/step - loss: 11414.3564\n",
            "Epoch 121/300\n",
            "52/52 [==============================] - 64s 1s/step - loss: 11344.1182\n",
            "Epoch 122/300\n",
            "52/52 [==============================] - 64s 1s/step - loss: 11274.8496\n",
            "Epoch 123/300\n",
            "52/52 [==============================] - 64s 1s/step - loss: 11206.4736\n",
            "Epoch 124/300\n",
            "52/52 [==============================] - 64s 1s/step - loss: 11138.9893\n",
            "Epoch 125/300\n",
            "52/52 [==============================] - 64s 1s/step - loss: 11072.3799\n",
            "Epoch 126/300\n",
            "52/52 [==============================] - 106s 2s/step - loss: 11006.6777\n",
            "Epoch 127/300\n",
            "52/52 [==============================] - 65s 1s/step - loss: 10941.8076\n",
            "Epoch 128/300\n",
            "52/52 [==============================] - 64s 1s/step - loss: 10877.7822\n",
            "Epoch 129/300\n",
            "52/52 [==============================] - 64s 1s/step - loss: 10814.5625\n",
            "Epoch 130/300\n",
            "52/52 [==============================] - 65s 1s/step - loss: 10752.1543\n",
            "Epoch 131/300\n",
            "52/52 [==============================] - 65s 1s/step - loss: 10690.5010\n",
            "Epoch 132/300\n",
            "52/52 [==============================] - 64s 1s/step - loss: 10629.6836\n",
            "Epoch 133/300\n",
            "52/52 [==============================] - 68s 1s/step - loss: 10569.5898\n",
            "Epoch 134/300\n",
            "52/52 [==============================] - 64s 1s/step - loss: 10510.3154\n",
            "Epoch 135/300\n",
            "52/52 [==============================] - 64s 1s/step - loss: 10451.7148\n",
            "Epoch 136/300\n",
            "52/52 [==============================] - 73s 1s/step - loss: 10393.8594\n",
            "Epoch 137/300\n",
            "52/52 [==============================] - 63s 1s/step - loss: 10336.7119\n",
            "Epoch 138/300\n",
            "52/52 [==============================] - 63s 1s/step - loss: 10280.2725\n",
            "Epoch 139/300\n",
            "52/52 [==============================] - 63s 1s/step - loss: 10224.5430\n",
            "Epoch 140/300\n",
            "52/52 [==============================] - 63s 1s/step - loss: 10169.4609\n",
            "Epoch 141/300\n",
            "52/52 [==============================] - 64s 1s/step - loss: 10115.0264\n",
            "Epoch 142/300\n",
            "52/52 [==============================] - 64s 1s/step - loss: 10061.2852\n",
            "Epoch 143/300\n",
            "52/52 [==============================] - 64s 1s/step - loss: 10008.1572\n",
            "Epoch 144/300\n",
            "52/52 [==============================] - 65s 1s/step - loss: 9955.6426\n",
            "Epoch 145/300\n",
            "52/52 [==============================] - 106s 2s/step - loss: 9903.7910\n",
            "Epoch 146/300\n",
            "52/52 [==============================] - 64s 1s/step - loss: 9852.5117\n",
            "Epoch 147/300\n",
            "52/52 [==============================] - 64s 1s/step - loss: 9801.8809\n",
            "Epoch 148/300\n",
            "52/52 [==============================] - 64s 1s/step - loss: 9751.8359\n",
            "Epoch 149/300\n",
            "52/52 [==============================] - 64s 1s/step - loss: 9702.3887\n",
            "Epoch 150/300\n",
            "52/52 [==============================] - 64s 1s/step - loss: 9653.4873\n",
            "Epoch 151/300\n",
            "52/52 [==============================] - 63s 1s/step - loss: 9605.1260\n",
            "Epoch 152/300\n",
            "52/52 [==============================] - 66s 1s/step - loss: 9557.3311\n",
            "Epoch 153/300\n",
            "52/52 [==============================] - 63s 1s/step - loss: 9510.0664\n",
            "Epoch 154/300\n",
            "52/52 [==============================] - 63s 1s/step - loss: 9463.3740\n",
            "Epoch 155/300\n",
            "52/52 [==============================] - 103s 2s/step - loss: 9417.2217\n",
            "Epoch 156/300\n",
            "52/52 [==============================] - 63s 1s/step - loss: 9371.5723\n",
            "Epoch 157/300\n",
            "52/52 [==============================] - 63s 1s/step - loss: 9326.4238\n",
            "Epoch 158/300\n",
            "52/52 [==============================] - 63s 1s/step - loss: 9281.7842\n",
            "Epoch 159/300\n",
            "52/52 [==============================] - 63s 1s/step - loss: 9237.6396\n",
            "Epoch 160/300\n",
            "52/52 [==============================] - 63s 1s/step - loss: 9193.9688\n",
            "Epoch 161/300\n",
            "52/52 [==============================] - 64s 1s/step - loss: 9150.7910\n",
            "Epoch 162/300\n",
            "52/52 [==============================] - 63s 1s/step - loss: 9108.0615\n",
            "Epoch 163/300\n",
            "52/52 [==============================] - 65s 1s/step - loss: 9065.8311\n",
            "Epoch 164/300\n",
            "52/52 [==============================] - 63s 1s/step - loss: 9024.0391\n",
            "Epoch 165/300\n",
            "52/52 [==============================] - 104s 2s/step - loss: 8982.6846\n",
            "Epoch 166/300\n",
            "52/52 [==============================] - 64s 1s/step - loss: 8941.7959\n",
            "Epoch 167/300\n",
            "52/52 [==============================] - 64s 1s/step - loss: 8901.3379\n",
            "Epoch 168/300\n",
            "52/52 [==============================] - 63s 1s/step - loss: 8861.3252\n",
            "Epoch 169/300\n",
            "52/52 [==============================] - 64s 1s/step - loss: 8821.7324\n",
            "Epoch 170/300\n",
            "52/52 [==============================] - 64s 1s/step - loss: 8782.5410\n",
            "Epoch 171/300\n",
            "52/52 [==============================] - 67s 1s/step - loss: 8743.7568\n",
            "Epoch 172/300\n",
            "52/52 [==============================] - 63s 1s/step - loss: 8705.3604\n",
            "Epoch 173/300\n",
            "52/52 [==============================] - 63s 1s/step - loss: 8667.3838\n",
            "Epoch 174/300\n",
            "52/52 [==============================] - 63s 1s/step - loss: 8629.8008\n",
            "Epoch 175/300\n",
            "52/52 [==============================] - 103s 2s/step - loss: 8592.6299\n",
            "Epoch 176/300\n",
            "52/52 [==============================] - 64s 1s/step - loss: 8555.8301\n",
            "Epoch 177/300\n",
            "52/52 [==============================] - 64s 1s/step - loss: 8519.4238\n",
            "Epoch 178/300\n",
            "52/52 [==============================] - 63s 1s/step - loss: 8483.3916\n",
            "Epoch 179/300\n",
            "52/52 [==============================] - 63s 1s/step - loss: 8447.7031\n",
            "Epoch 180/300\n",
            "52/52 [==============================] - 63s 1s/step - loss: 8412.3779\n",
            "Epoch 181/300\n",
            "52/52 [==============================] - 63s 1s/step - loss: 8377.4326\n",
            "Epoch 182/300\n",
            "52/52 [==============================] - 64s 1s/step - loss: 8342.8105\n",
            "Epoch 183/300\n",
            "52/52 [==============================] - 65s 1s/step - loss: 8308.5586\n",
            "Epoch 184/300\n",
            "52/52 [==============================] - 83s 2s/step - loss: 8274.5986\n",
            "Epoch 185/300\n",
            "52/52 [==============================] - 87s 2s/step - loss: 8241.0088\n",
            "Epoch 186/300\n",
            "52/52 [==============================] - 64s 1s/step - loss: 8207.7314\n",
            "Epoch 187/300\n",
            "52/52 [==============================] - 64s 1s/step - loss: 8174.7754\n",
            "Epoch 188/300\n",
            "52/52 [==============================] - 65s 1s/step - loss: 8142.1504\n",
            "Epoch 189/300\n",
            "52/52 [==============================] - 68s 1s/step - loss: 8109.8594\n",
            "Epoch 190/300\n",
            "52/52 [==============================] - 64s 1s/step - loss: 8077.8516\n",
            "Epoch 191/300\n",
            "52/52 [==============================] - 64s 1s/step - loss: 8046.1885\n",
            "Epoch 192/300\n",
            "52/52 [==============================] - 63s 1s/step - loss: 8014.8325\n",
            "Epoch 193/300\n",
            "52/52 [==============================] - 63s 1s/step - loss: 7983.7715\n",
            "Epoch 194/300\n",
            "52/52 [==============================] - 105s 2s/step - loss: 7952.9951\n",
            "Epoch 195/300\n",
            "52/52 [==============================] - 64s 1s/step - loss: 7922.5024\n",
            "Epoch 196/300\n",
            "52/52 [==============================] - 63s 1s/step - loss: 7892.3008\n",
            "Epoch 197/300\n",
            "52/52 [==============================] - 64s 1s/step - loss: 7862.3716\n",
            "Epoch 198/300\n",
            "52/52 [==============================] - 63s 1s/step - loss: 7832.7573\n",
            "Epoch 199/300\n",
            "52/52 [==============================] - 64s 1s/step - loss: 7803.4180\n",
            "Epoch 200/300\n",
            "52/52 [==============================] - 64s 1s/step - loss: 7774.3364\n",
            "Epoch 201/300\n",
            "52/52 [==============================] - 64s 1s/step - loss: 7745.5381\n",
            "Epoch 202/300\n",
            "52/52 [==============================] - 64s 1s/step - loss: 7717.0073\n",
            "Epoch 203/300\n",
            "52/52 [==============================] - 65s 1s/step - loss: 7688.7246\n",
            "Epoch 204/300\n",
            "52/52 [==============================] - 105s 2s/step - loss: 7660.6899\n",
            "Epoch 205/300\n",
            "52/52 [==============================] - 65s 1s/step - loss: 7632.9243\n",
            "Epoch 206/300\n",
            "52/52 [==============================] - 65s 1s/step - loss: 7605.4028\n",
            "Epoch 207/300\n",
            "52/52 [==============================] - 64s 1s/step - loss: 7578.0967\n",
            "Epoch 208/300\n",
            "52/52 [==============================] - 64s 1s/step - loss: 7551.0732\n",
            "Epoch 209/300\n",
            "52/52 [==============================] - 64s 1s/step - loss: 7524.3188\n",
            "Epoch 210/300\n",
            "52/52 [==============================] - 69s 1s/step - loss: 7497.7964\n",
            "Epoch 211/300\n",
            "52/52 [==============================] - 64s 1s/step - loss: 7471.4917\n",
            "Epoch 212/300\n",
            "52/52 [==============================] - 64s 1s/step - loss: 7445.4258\n",
            "Epoch 213/300\n",
            "52/52 [==============================] - 64s 1s/step - loss: 7419.6069\n",
            "Epoch 214/300\n",
            "52/52 [==============================] - 104s 2s/step - loss: 7393.9873\n",
            "Epoch 215/300\n",
            "52/52 [==============================] - 64s 1s/step - loss: 7368.6055\n",
            "Epoch 216/300\n",
            "52/52 [==============================] - 64s 1s/step - loss: 7343.4458\n",
            "Epoch 217/300\n",
            "52/52 [==============================] - 63s 1s/step - loss: 7318.5073\n",
            "Epoch 218/300\n",
            "52/52 [==============================] - 64s 1s/step - loss: 7293.7695\n",
            "Epoch 219/300\n",
            "52/52 [==============================] - 65s 1s/step - loss: 7269.2437\n",
            "Epoch 220/300\n",
            "52/52 [==============================] - 64s 1s/step - loss: 7244.9668\n",
            "Epoch 221/300\n",
            "52/52 [==============================] - 64s 1s/step - loss: 7220.8691\n",
            "Epoch 222/300\n",
            "52/52 [==============================] - 63s 1s/step - loss: 7196.9780\n",
            "Epoch 223/300\n",
            "52/52 [==============================] - 70s 1s/step - loss: 7173.2944\n",
            "Epoch 224/300\n",
            "52/52 [==============================] - 96s 2s/step - loss: 7149.8320\n",
            "Epoch 225/300\n",
            "52/52 [==============================] - 64s 1s/step - loss: 7126.5576\n",
            "Epoch 226/300\n",
            "52/52 [==============================] - 63s 1s/step - loss: 7103.4932\n",
            "Epoch 227/300\n",
            "52/52 [==============================] - 62s 1s/step - loss: 7080.5977\n",
            "Epoch 228/300\n",
            "52/52 [==============================] - 63s 1s/step - loss: 7057.9009\n",
            "Epoch 229/300\n",
            "52/52 [==============================] - 65s 1s/step - loss: 7035.3823\n",
            "Epoch 230/300\n",
            "52/52 [==============================] - 63s 1s/step - loss: 7013.0361\n",
            "Epoch 231/300\n",
            "52/52 [==============================] - 63s 1s/step - loss: 6990.8892\n",
            "Epoch 232/300\n",
            "52/52 [==============================] - 63s 1s/step - loss: 6968.9087\n",
            "Epoch 233/300\n",
            "52/52 [==============================] - 81s 2s/step - loss: 6947.1182\n",
            "Epoch 234/300\n",
            "52/52 [==============================] - 82s 2s/step - loss: 6925.5078\n",
            "Epoch 235/300\n",
            "52/52 [==============================] - 63s 1s/step - loss: 6904.0688\n",
            "Epoch 236/300\n",
            "52/52 [==============================] - 63s 1s/step - loss: 6882.8281\n",
            "Epoch 237/300\n",
            "52/52 [==============================] - 64s 1s/step - loss: 6861.7451\n",
            "Epoch 238/300\n",
            "52/52 [==============================] - 63s 1s/step - loss: 6840.8350\n",
            "Epoch 239/300\n",
            "52/52 [==============================] - 64s 1s/step - loss: 6820.1016\n",
            "Epoch 240/300\n",
            "52/52 [==============================] - 64s 1s/step - loss: 6799.5293\n",
            "Epoch 241/300\n",
            "52/52 [==============================] - 64s 1s/step - loss: 6779.1118\n",
            "Epoch 242/300\n",
            "52/52 [==============================] - 64s 1s/step - loss: 6758.8501\n",
            "Epoch 243/300\n",
            "52/52 [==============================] - 101s 2s/step - loss: 6738.7402\n",
            "Epoch 244/300\n",
            "52/52 [==============================] - 70s 1s/step - loss: 6718.8188\n",
            "Epoch 245/300\n",
            "52/52 [==============================] - 64s 1s/step - loss: 6699.0361\n",
            "Epoch 246/300\n",
            "52/52 [==============================] - 64s 1s/step - loss: 6679.4219\n",
            "Epoch 247/300\n",
            "52/52 [==============================] - 64s 1s/step - loss: 6659.9541\n",
            "Epoch 248/300\n",
            "52/52 [==============================] - 63s 1s/step - loss: 6640.6387\n",
            "Epoch 249/300\n",
            "52/52 [==============================] - 63s 1s/step - loss: 6621.4722\n",
            "Epoch 250/300\n",
            "52/52 [==============================] - 65s 1s/step - loss: 6602.4370\n",
            "Epoch 251/300\n",
            "52/52 [==============================] - 64s 1s/step - loss: 6583.5562\n",
            "Epoch 252/300\n",
            "52/52 [==============================] - 64s 1s/step - loss: 6564.8140\n",
            "Epoch 253/300\n",
            "52/52 [==============================] - 107s 2s/step - loss: 6546.2290\n",
            "Epoch 254/300\n",
            "52/52 [==============================] - 65s 1s/step - loss: 6527.7871\n",
            "Epoch 255/300\n",
            "52/52 [==============================] - 64s 1s/step - loss: 6509.4556\n",
            "Epoch 256/300\n",
            "52/52 [==============================] - 64s 1s/step - loss: 6491.2827\n",
            "Epoch 257/300\n",
            "52/52 [==============================] - 64s 1s/step - loss: 6473.2495\n",
            "Epoch 258/300\n",
            "52/52 [==============================] - 64s 1s/step - loss: 6455.3384\n",
            "Epoch 259/300\n",
            "52/52 [==============================] - 65s 1s/step - loss: 6437.5654\n",
            "Epoch 260/300\n",
            "52/52 [==============================] - 64s 1s/step - loss: 6419.9326\n",
            "Epoch 261/300\n",
            "52/52 [==============================] - 68s 1s/step - loss: 6402.4141\n",
            "Epoch 262/300\n",
            "52/52 [==============================] - 64s 1s/step - loss: 6385.0317\n",
            "Epoch 263/300\n",
            "52/52 [==============================] - 105s 2s/step - loss: 6367.7554\n",
            "Epoch 264/300\n",
            "52/52 [==============================] - 66s 1s/step - loss: 6350.6270\n",
            "Epoch 265/300\n",
            "52/52 [==============================] - 65s 1s/step - loss: 6333.6362\n",
            "Epoch 266/300\n",
            "52/52 [==============================] - 64s 1s/step - loss: 6316.7573\n",
            "Epoch 267/300\n",
            "52/52 [==============================] - 63s 1s/step - loss: 6300.0078\n",
            "Epoch 268/300\n",
            "52/52 [==============================] - 64s 1s/step - loss: 6283.3818\n",
            "Epoch 269/300\n",
            "52/52 [==============================] - 63s 1s/step - loss: 6266.8721\n",
            "Epoch 270/300\n",
            "52/52 [==============================] - 63s 1s/step - loss: 6250.4946\n",
            "Epoch 271/300\n",
            "52/52 [==============================] - 63s 1s/step - loss: 6234.2173\n",
            "Epoch 272/300\n",
            "52/52 [==============================] - 67s 1s/step - loss: 6218.0630\n",
            "Epoch 273/300\n",
            "52/52 [==============================] - 100s 2s/step - loss: 6202.0166\n",
            "Epoch 274/300\n",
            "52/52 [==============================] - 63s 1s/step - loss: 6186.0811\n",
            "Epoch 275/300\n",
            "52/52 [==============================] - 63s 1s/step - loss: 6170.2393\n",
            "Epoch 276/300\n",
            "52/52 [==============================] - 63s 1s/step - loss: 6154.5371\n",
            "Epoch 277/300\n",
            "52/52 [==============================] - 63s 1s/step - loss: 6138.9336\n",
            "Epoch 278/300\n",
            "52/52 [==============================] - 63s 1s/step - loss: 6123.4556\n",
            "Epoch 279/300\n",
            "52/52 [==============================] - 65s 1s/step - loss: 6108.0879\n",
            "Epoch 280/300\n",
            "52/52 [==============================] - 63s 1s/step - loss: 6092.8198\n",
            "Epoch 281/300\n",
            "52/52 [==============================] - 63s 1s/step - loss: 6077.6514\n",
            "Epoch 282/300\n",
            "52/52 [==============================] - 75s 1s/step - loss: 6062.5859\n",
            "Epoch 283/300\n",
            "52/52 [==============================] - 95s 2s/step - loss: 6047.6235\n",
            "Epoch 284/300\n",
            "52/52 [==============================] - 63s 1s/step - loss: 6032.7607\n",
            "Epoch 285/300\n",
            "52/52 [==============================] - 63s 1s/step - loss: 6018.0063\n",
            "Epoch 286/300\n",
            "52/52 [==============================] - 63s 1s/step - loss: 6003.3701\n",
            "Epoch 287/300\n",
            "52/52 [==============================] - 63s 1s/step - loss: 5988.8179\n",
            "Epoch 288/300\n",
            "52/52 [==============================] - 63s 1s/step - loss: 5974.3638\n",
            "Epoch 289/300\n",
            "52/52 [==============================] - 62s 1s/step - loss: 5960.0146\n",
            "Epoch 290/300\n",
            "52/52 [==============================] - 63s 1s/step - loss: 5945.7383\n",
            "Epoch 291/300\n",
            "52/52 [==============================] - 62s 1s/step - loss: 5931.5732\n",
            "Epoch 292/300\n",
            "52/52 [==============================] - 78s 2s/step - loss: 5917.5083\n",
            "Epoch 293/300\n",
            "52/52 [==============================] - 85s 2s/step - loss: 5903.5337\n",
            "Epoch 294/300\n",
            "52/52 [==============================] - 64s 1s/step - loss: 5889.6440\n",
            "Epoch 295/300\n",
            "52/52 [==============================] - 64s 1s/step - loss: 5875.8442\n",
            "Epoch 296/300\n",
            "52/52 [==============================] - 64s 1s/step - loss: 5862.1504\n",
            "Epoch 297/300\n",
            "52/52 [==============================] - 64s 1s/step - loss: 5848.5479\n",
            "Epoch 298/300\n",
            "52/52 [==============================] - 68s 1s/step - loss: 5835.0073\n",
            "Epoch 299/300\n",
            "52/52 [==============================] - 64s 1s/step - loss: 5821.5522\n",
            "Epoch 300/300\n",
            "52/52 [==============================] - 64s 1s/step - loss: 5808.2173\n"
          ]
        },
        {
          "data": {
            "text/plain": [
              "<tensorflow.python.keras.callbacks.History at 0x7c4f03886380>"
            ]
          },
          "execution_count": 16,
          "metadata": {},
          "output_type": "execute_result"
        }
      ],
      "source": [
        "model.fit(X_train,\n",
        "          batch_size=int(X_train.shape[0] / 50),\n",
        "          epochs=300, # Number of training epochs\n",
        "          verbose=True # Displays a progress bar.\n",
        "          )"
      ]
    },
    {
      "cell_type": "markdown",
      "id": "42faef6c",
      "metadata": {
        "id": "42faef6c",
        "papermill": {
          "duration": 1.002175,
          "end_time": "2024-11-20T17:14:32.709590",
          "exception": false,
          "start_time": "2024-11-20T17:14:31.707415",
          "status": "completed"
        },
        "tags": []
      },
      "source": [
        "## Evaluating knowledge embeddings\n",
        "\n",
        "AmpliGraph aims to follow scikit-learn's ease-of-use design philosophy and simplify everything down to **`fit`**, **`evaluate`**, and **`predict`** functions.\n",
        "\n",
        "However, there are some knowledge graph specific steps we must take to ensure our model can be trained and evaluated correctly. The first of these is defining the filter that will be used to ensure that no negative statements generated by the corruption procedure are actually positives. This is simply can be done by concatenating our train and test sets. Now when negative triples are generated by the corruption strategy, we can check that they aren't actually true statements."
      ]
    },
    {
      "cell_type": "markdown",
      "id": "7ae24017",
      "metadata": {
        "id": "7ae24017",
        "papermill": {
          "duration": 0.997215,
          "end_time": "2024-11-20T17:14:34.662581",
          "exception": false,
          "start_time": "2024-11-20T17:14:33.665366",
          "status": "completed"
        },
        "tags": []
      },
      "source": [
        "For this we'll use method `evaluate` of model object:\n",
        "\n",
        "- **`X_valid`** - the data to evaluate on. We're going to use our test set to evaluate.\n",
        "- **`use_filter`** - will filter out the false negatives generated by the corruption strategy.\n",
        "- **`corrupt_side`** - specifies approach for triple corruption. 's,o' option means t True, then subj and obj are corrupted separately during evaluation.\n",
        "- **`verbose`** - displays a progress bar."
      ]
    },
    {
      "cell_type": "code",
      "execution_count": null,
      "id": "ede8af0b",
      "metadata": {
        "execution": {
          "iopub.execute_input": "2024-11-20T17:14:36.568980Z",
          "iopub.status.busy": "2024-11-20T17:14:36.568396Z",
          "iopub.status.idle": "2024-11-20T17:23:04.179491Z",
          "shell.execute_reply": "2024-11-20T17:23:04.178388Z"
        },
        "id": "ede8af0b",
        "outputId": "a47f0e33-a152-4953-e623-79707e6751e2",
        "papermill": {
          "duration": 508.524605,
          "end_time": "2024-11-20T17:23:04.182380",
          "exception": false,
          "start_time": "2024-11-20T17:14:35.657775",
          "status": "completed"
        },
        "tags": []
      },
      "outputs": [
        {
          "name": "stdout",
          "output_type": "stream",
          "text": [
            "1001/1001 [==============================] - 507s 507ms/step\n"
          ]
        }
      ],
      "source": [
        "ranks = model.evaluate(X_valid,\n",
        "                      use_filter={'train': X_train,\n",
        "                                  'test': X_valid},\n",
        "                      corrupt_side='s,o',\n",
        "                      verbose=True)"
      ]
    },
    {
      "cell_type": "markdown",
      "id": "e5c0e76d",
      "metadata": {
        "id": "e5c0e76d",
        "papermill": {
          "duration": 0.960351,
          "end_time": "2024-11-20T17:23:06.187236",
          "exception": false,
          "start_time": "2024-11-20T17:23:05.226885",
          "status": "completed"
        },
        "tags": []
      },
      "source": [
        "We're going to use the mrr_score (mean reciprocal rank) and hits_at_n_score functions.\n",
        "\n",
        "- **mrr_score**: The function computes the mean of the reciprocal of elements of a vector of rankings ranks.\n",
        "- **hits_at_n_score**: The function computes how many elements of a vector of rankings ranks make it to the top n positions."
      ]
    },
    {
      "cell_type": "code",
      "execution_count": null,
      "id": "e737a1d9",
      "metadata": {
        "execution": {
          "iopub.execute_input": "2024-11-20T17:23:08.249170Z",
          "iopub.status.busy": "2024-11-20T17:23:08.248716Z",
          "iopub.status.idle": "2024-11-20T17:23:08.258711Z",
          "shell.execute_reply": "2024-11-20T17:23:08.257356Z"
        },
        "id": "e737a1d9",
        "outputId": "9f97673a-fddc-4371-af2d-71e2b1cf6a14",
        "papermill": {
          "duration": 1.046977,
          "end_time": "2024-11-20T17:23:08.260791",
          "exception": false,
          "start_time": "2024-11-20T17:23:07.213814",
          "status": "completed"
        },
        "tags": []
      },
      "outputs": [
        {
          "name": "stdout",
          "output_type": "stream",
          "text": [
            "MRR: 0.30\n",
            "MR: 2996.97\n",
            "Hits@10: 0.41\n",
            "Hits@3: 0.34\n",
            "Hits@1: 0.22\n"
          ]
        }
      ],
      "source": [
        "from ampligraph.evaluation import mr_score, mrr_score, hits_at_n_score\n",
        "\n",
        "mr = mr_score(ranks)\n",
        "mrr = mrr_score(ranks)\n",
        "\n",
        "print(\"MRR: %.2f\" % (mrr))\n",
        "print(\"MR: %.2f\" % (mr))\n",
        "\n",
        "hits_10 = hits_at_n_score(ranks, n=10)\n",
        "print(\"Hits@10: %.2f\" % (hits_10))\n",
        "hits_3 = hits_at_n_score(ranks, n=3)\n",
        "print(\"Hits@3: %.2f\" % (hits_3))\n",
        "hits_1 = hits_at_n_score(ranks, n=1)\n",
        "print(\"Hits@1: %.2f\" % (hits_1))"
      ]
    },
    {
      "cell_type": "markdown",
      "id": "d92191bc",
      "metadata": {
        "id": "d92191bc",
        "papermill": {
          "duration": 1.04158,
          "end_time": "2024-11-20T17:23:10.335429",
          "exception": false,
          "start_time": "2024-11-20T17:23:09.293849",
          "status": "completed"
        },
        "tags": []
      },
      "source": [
        "We can interpret these results by stating that the model will rank the correct entity within the top-3 possibilities 34% of the time.\n",
        "\n",
        "By themselves, these metrics are not enough to conclude the usefulness of the embeddings in a downstream task, but they suggest that the embeddings have learned a reasonable representation enough to consider using them in more tasks."
      ]
    },
    {
      "cell_type": "markdown",
      "id": "7a805f08",
      "metadata": {
        "id": "7a805f08",
        "papermill": {
          "duration": 1.032531,
          "end_time": "2024-11-20T17:23:12.332219",
          "exception": false,
          "start_time": "2024-11-20T17:23:11.299688",
          "status": "completed"
        },
        "tags": []
      },
      "source": [
        "## Clustering and embedding visualization"
      ]
    },
    {
      "cell_type": "markdown",
      "id": "fd0fe9c0",
      "metadata": {
        "id": "fd0fe9c0",
        "papermill": {
          "duration": 0.971175,
          "end_time": "2024-11-20T17:23:14.361263",
          "exception": false,
          "start_time": "2024-11-20T17:23:13.390088",
          "status": "completed"
        },
        "tags": []
      },
      "source": [
        "To evaluate the subjective quality of the embeddings, we can visualise the embeddings on 2D space and also cluster them on the original space. We can compare the clustered embeddings with natural clusters, in this case the continent where the team is from, so that we have a ground truth to evaluate the clustering quality both qualitatively and quantitatively.\n",
        "\n",
        "Requirements:\n",
        "\n",
        "* seaborn\n",
        "* adjustText\n",
        "* incf.countryutils\n",
        "\n",
        "For seaborn and adjustText, simply install them with `pip install seaborn adjustText`.\n",
        "\n",
        "For incf.countryutils, do the following steps:\n",
        "```bash\n",
        "git clone https://github.com/wyldebeast-wunderliebe/incf.countryutils.git\n",
        "cd incf.countryutils\n",
        "pip install .```"
      ]
    },
    {
      "cell_type": "code",
      "execution_count": null,
      "id": "8132051e",
      "metadata": {
        "execution": {
          "iopub.execute_input": "2024-11-20T17:23:16.431495Z",
          "iopub.status.busy": "2024-11-20T17:23:16.431123Z",
          "iopub.status.idle": "2024-11-20T17:23:32.282038Z",
          "shell.execute_reply": "2024-11-20T17:23:32.280508Z"
        },
        "id": "8132051e",
        "outputId": "17aa8057-215f-434b-ba99-6273208aa8f4",
        "papermill": {
          "duration": 16.886636,
          "end_time": "2024-11-20T17:23:32.284697",
          "exception": false,
          "start_time": "2024-11-20T17:23:15.398061",
          "status": "completed"
        },
        "tags": []
      },
      "outputs": [
        {
          "name": "stdout",
          "output_type": "stream",
          "text": [
            "Cloning into 'incf.countryutils'...\r\n",
            "remote: Enumerating objects: 132, done.\u001b[K\r\n",
            "remote: Counting objects: 100% (45/45), done.\u001b[K\r\n",
            "remote: Compressing objects: 100% (27/27), done.\u001b[K\r\n",
            "remote: Total 132 (delta 20), reused 39 (delta 16), pack-reused 87 (from 1)\u001b[K\r\n",
            "Receiving objects: 100% (132/132), 66.24 KiB | 11.04 MiB/s, done.\r\n",
            "Resolving deltas: 100% (58/58), done.\r\n",
            "Processing /kaggle/working/incf.countryutils\r\n",
            "  Preparing metadata (setup.py) ... \u001b[?25l-\b \bdone\r\n",
            "\u001b[?25hRequirement already satisfied: setuptools in /opt/conda/lib/python3.10/site-packages (from incf.countryutils==1.2) (70.0.0)\r\n",
            "Building wheels for collected packages: incf.countryutils\r\n",
            "  Building wheel for incf.countryutils (setup.py) ... \u001b[?25l-\b \b\\\b \bdone\r\n",
            "\u001b[?25h  Created wheel for incf.countryutils: filename=incf.countryutils-1.2-py3-none-any.whl size=25701 sha256=b954eede029d75c27d2043e483a748f45ebc4e999559ee6f886236a6033d83bf\r\n",
            "  Stored in directory: /tmp/pip-ephem-wheel-cache-v0cvm19e/wheels/85/d8/f8/1c1edf5312ef76d4a9163230beb3fbcde6825c623243fa4087\r\n",
            "Successfully built incf.countryutils\r\n",
            "Installing collected packages: incf.countryutils\r\n",
            "Successfully installed incf.countryutils-1.2\r\n"
          ]
        }
      ],
      "source": [
        "!git clone https://github.com/wyldebeast-wunderliebe/incf.countryutils.git\n",
        "!cd incf.countryutils && pip install ."
      ]
    },
    {
      "cell_type": "code",
      "execution_count": null,
      "id": "9ca41417",
      "metadata": {
        "execution": {
          "iopub.execute_input": "2024-11-20T17:23:34.326665Z",
          "iopub.status.busy": "2024-11-20T17:23:34.325330Z",
          "iopub.status.idle": "2024-11-20T17:23:44.973150Z",
          "shell.execute_reply": "2024-11-20T17:23:44.971677Z"
        },
        "id": "9ca41417",
        "outputId": "1f24b6cc-c64a-477f-c0fb-f46921da9a64",
        "papermill": {
          "duration": 11.644442,
          "end_time": "2024-11-20T17:23:44.975751",
          "exception": false,
          "start_time": "2024-11-20T17:23:33.331309",
          "status": "completed"
        },
        "tags": []
      },
      "outputs": [
        {
          "name": "stdout",
          "output_type": "stream",
          "text": [
            "Collecting adjustText\r\n",
            "  Downloading adjustText-1.3.0-py3-none-any.whl.metadata (3.1 kB)\r\n",
            "Requirement already satisfied: numpy in /opt/conda/lib/python3.10/site-packages (from adjustText) (1.26.4)\r\n",
            "Requirement already satisfied: matplotlib in /opt/conda/lib/python3.10/site-packages (from adjustText) (3.7.5)\r\n",
            "Requirement already satisfied: scipy in /opt/conda/lib/python3.10/site-packages (from adjustText) (1.10.0)\r\n",
            "Requirement already satisfied: contourpy>=1.0.1 in /opt/conda/lib/python3.10/site-packages (from matplotlib->adjustText) (1.2.1)\r\n",
            "Requirement already satisfied: cycler>=0.10 in /opt/conda/lib/python3.10/site-packages (from matplotlib->adjustText) (0.12.1)\r\n",
            "Requirement already satisfied: fonttools>=4.22.0 in /opt/conda/lib/python3.10/site-packages (from matplotlib->adjustText) (4.53.0)\r\n",
            "Requirement already satisfied: kiwisolver>=1.0.1 in /opt/conda/lib/python3.10/site-packages (from matplotlib->adjustText) (1.4.5)\r\n",
            "Requirement already satisfied: packaging>=20.0 in /opt/conda/lib/python3.10/site-packages (from matplotlib->adjustText) (21.3)\r\n",
            "Requirement already satisfied: pillow>=6.2.0 in /opt/conda/lib/python3.10/site-packages (from matplotlib->adjustText) (10.3.0)\r\n",
            "Requirement already satisfied: pyparsing>=2.3.1 in /opt/conda/lib/python3.10/site-packages (from matplotlib->adjustText) (3.1.2)\r\n",
            "Requirement already satisfied: python-dateutil>=2.7 in /opt/conda/lib/python3.10/site-packages (from matplotlib->adjustText) (2.9.0.post0)\r\n",
            "Requirement already satisfied: six>=1.5 in /opt/conda/lib/python3.10/site-packages (from python-dateutil>=2.7->matplotlib->adjustText) (1.16.0)\r\n",
            "Downloading adjustText-1.3.0-py3-none-any.whl (13 kB)\r\n",
            "Installing collected packages: adjustText\r\n",
            "Successfully installed adjustText-1.3.0\r\n"
          ]
        }
      ],
      "source": [
        "!pip install adjustText"
      ]
    },
    {
      "cell_type": "code",
      "execution_count": null,
      "id": "66848969",
      "metadata": {
        "execution": {
          "iopub.execute_input": "2024-11-20T17:23:47.058742Z",
          "iopub.status.busy": "2024-11-20T17:23:47.058183Z",
          "iopub.status.idle": "2024-11-20T17:23:48.333805Z",
          "shell.execute_reply": "2024-11-20T17:23:48.332690Z"
        },
        "id": "66848969",
        "papermill": {
          "duration": 2.326577,
          "end_time": "2024-11-20T17:23:48.336215",
          "exception": false,
          "start_time": "2024-11-20T17:23:46.009638",
          "status": "completed"
        },
        "tags": []
      },
      "outputs": [],
      "source": [
        "from sklearn.decomposition import PCA\n",
        "import matplotlib.pyplot as plt\n",
        "import seaborn as sns\n",
        "from adjustText import adjust_text\n",
        "from incf.countryutils import transformations\n",
        "%matplotlib inline"
      ]
    },
    {
      "cell_type": "markdown",
      "id": "31a9bc0c",
      "metadata": {
        "id": "31a9bc0c",
        "papermill": {
          "duration": 1.029486,
          "end_time": "2024-11-20T17:23:50.329585",
          "exception": false,
          "start_time": "2024-11-20T17:23:49.300099",
          "status": "completed"
        },
        "tags": []
      },
      "source": [
        "We create a map from the team ID (e.g. \"TeamBrazil\") to the team name (e.g. \"Brazil\") for visualization purposes."
      ]
    },
    {
      "cell_type": "code",
      "execution_count": null,
      "id": "699c1d45",
      "metadata": {
        "execution": {
          "iopub.execute_input": "2024-11-20T17:23:52.340134Z",
          "iopub.status.busy": "2024-11-20T17:23:52.339440Z",
          "iopub.status.idle": "2024-11-20T17:23:52.391604Z",
          "shell.execute_reply": "2024-11-20T17:23:52.390093Z"
        },
        "id": "699c1d45",
        "papermill": {
          "duration": 1.029206,
          "end_time": "2024-11-20T17:23:52.394016",
          "exception": false,
          "start_time": "2024-11-20T17:23:51.364810",
          "status": "completed"
        },
        "tags": []
      },
      "outputs": [],
      "source": [
        "id_to_name_map = {**dict(zip(df.home_team_id, df.home_team)), **dict(zip(df.away_team_id, df.away_team))}"
      ]
    },
    {
      "cell_type": "markdown",
      "id": "4b302766",
      "metadata": {
        "id": "4b302766",
        "papermill": {
          "duration": 1.031015,
          "end_time": "2024-11-20T17:23:54.502845",
          "exception": false,
          "start_time": "2024-11-20T17:23:53.471830",
          "status": "completed"
        },
        "tags": []
      },
      "source": [
        "We now create a dictionary with the embeddings of all teams:"
      ]
    },
    {
      "cell_type": "code",
      "execution_count": null,
      "id": "e7b7f86c",
      "metadata": {
        "execution": {
          "iopub.execute_input": "2024-11-20T17:23:56.489970Z",
          "iopub.status.busy": "2024-11-20T17:23:56.489371Z",
          "iopub.status.idle": "2024-11-20T17:23:56.516592Z",
          "shell.execute_reply": "2024-11-20T17:23:56.515456Z"
        },
        "id": "e7b7f86c",
        "papermill": {
          "duration": 0.994385,
          "end_time": "2024-11-20T17:23:56.518937",
          "exception": false,
          "start_time": "2024-11-20T17:23:55.524552",
          "status": "completed"
        },
        "scrolled": true,
        "tags": []
      },
      "outputs": [],
      "source": [
        "teams = pd.concat((df.home_team_id[df[\"train\"]], df.away_team_id[df[\"train\"]])).unique()\n",
        "team_embeddings = dict(zip(teams, model.get_embeddings(teams)))"
      ]
    },
    {
      "cell_type": "markdown",
      "id": "a4e6c498",
      "metadata": {
        "id": "a4e6c498",
        "papermill": {
          "duration": 1.028921,
          "end_time": "2024-11-20T17:23:58.576847",
          "exception": false,
          "start_time": "2024-11-20T17:23:57.547926",
          "status": "completed"
        },
        "tags": []
      },
      "source": [
        "We use PCA to project the embeddings from the 200 space into 2D space:"
      ]
    },
    {
      "cell_type": "code",
      "execution_count": null,
      "id": "d12383c2",
      "metadata": {
        "execution": {
          "iopub.execute_input": "2024-11-20T17:24:00.660179Z",
          "iopub.status.busy": "2024-11-20T17:24:00.659049Z",
          "iopub.status.idle": "2024-11-20T17:24:00.699892Z",
          "shell.execute_reply": "2024-11-20T17:24:00.697954Z"
        },
        "id": "d12383c2",
        "papermill": {
          "duration": 1.09098,
          "end_time": "2024-11-20T17:24:00.704906",
          "exception": false,
          "start_time": "2024-11-20T17:23:59.613926",
          "status": "completed"
        },
        "tags": []
      },
      "outputs": [],
      "source": [
        "embeddings_2d = PCA(n_components=2).fit_transform(np.array([i for i in team_embeddings.values()]))"
      ]
    },
    {
      "cell_type": "markdown",
      "id": "24e8d5f1",
      "metadata": {
        "id": "24e8d5f1",
        "papermill": {
          "duration": 1.048085,
          "end_time": "2024-11-20T17:24:02.844061",
          "exception": false,
          "start_time": "2024-11-20T17:24:01.795976",
          "status": "completed"
        },
        "tags": []
      },
      "source": [
        "We will cluster the teams embeddings on its original 200-dimensional space using the `find_clusters` in our discovery API:"
      ]
    },
    {
      "cell_type": "code",
      "execution_count": null,
      "id": "37763647",
      "metadata": {
        "execution": {
          "iopub.execute_input": "2024-11-20T17:24:04.894479Z",
          "iopub.status.busy": "2024-11-20T17:24:04.894079Z",
          "iopub.status.idle": "2024-11-20T17:24:07.884107Z",
          "shell.execute_reply": "2024-11-20T17:24:07.881392Z"
        },
        "id": "37763647",
        "papermill": {
          "duration": 3.954582,
          "end_time": "2024-11-20T17:24:07.889010",
          "exception": false,
          "start_time": "2024-11-20T17:24:03.934428",
          "status": "completed"
        },
        "tags": []
      },
      "outputs": [],
      "source": [
        "from ampligraph.discovery import find_clusters\n",
        "from sklearn.cluster import KMeans\n",
        "\n",
        "clustering_algorithm = KMeans(n_clusters=6, n_init=50, max_iter=500, random_state=0)\n",
        "clusters = find_clusters(teams, model, clustering_algorithm, mode='e')"
      ]
    },
    {
      "cell_type": "markdown",
      "id": "a5185ea4",
      "metadata": {
        "id": "a5185ea4",
        "papermill": {
          "duration": 1.037576,
          "end_time": "2024-11-20T17:24:10.026084",
          "exception": false,
          "start_time": "2024-11-20T17:24:08.988508",
          "status": "completed"
        },
        "tags": []
      },
      "source": [
        "This helper function uses the `incf.countryutils` library to translate country names to their corresponding continents."
      ]
    },
    {
      "cell_type": "code",
      "execution_count": null,
      "id": "c2e62cfe",
      "metadata": {
        "execution": {
          "iopub.execute_input": "2024-11-20T17:24:12.035803Z",
          "iopub.status.busy": "2024-11-20T17:24:12.034241Z",
          "iopub.status.idle": "2024-11-20T17:24:12.041236Z",
          "shell.execute_reply": "2024-11-20T17:24:12.039959Z"
        },
        "id": "c2e62cfe",
        "papermill": {
          "duration": 0.978799,
          "end_time": "2024-11-20T17:24:12.043586",
          "exception": false,
          "start_time": "2024-11-20T17:24:11.064787",
          "status": "completed"
        },
        "tags": []
      },
      "outputs": [],
      "source": [
        "def cn_to_ctn(country):\n",
        "    try:\n",
        "        return transformations.cn_to_ctn(id_to_name_map[country])\n",
        "    except KeyError:\n",
        "        return \"unk\""
      ]
    },
    {
      "cell_type": "markdown",
      "id": "cf0e9ad5",
      "metadata": {
        "id": "cf0e9ad5",
        "papermill": {
          "duration": 1.070468,
          "end_time": "2024-11-20T17:24:14.147240",
          "exception": false,
          "start_time": "2024-11-20T17:24:13.076772",
          "status": "completed"
        },
        "tags": []
      },
      "source": [
        "This dataframe contains for each team their projected embeddings to 2D space via PCA, their continent and the KMeans cluster. This will be used alongisde Seaborn to make the visualizations."
      ]
    },
    {
      "cell_type": "code",
      "execution_count": null,
      "id": "52a7814e",
      "metadata": {
        "execution": {
          "iopub.execute_input": "2024-11-20T17:24:16.125803Z",
          "iopub.status.busy": "2024-11-20T17:24:16.125399Z",
          "iopub.status.idle": "2024-11-20T17:24:16.135218Z",
          "shell.execute_reply": "2024-11-20T17:24:16.134051Z"
        },
        "id": "52a7814e",
        "papermill": {
          "duration": 1.038483,
          "end_time": "2024-11-20T17:24:16.137397",
          "exception": false,
          "start_time": "2024-11-20T17:24:15.098914",
          "status": "completed"
        },
        "tags": []
      },
      "outputs": [],
      "source": [
        "plot_df = pd.DataFrame({\"teams\": teams,\n",
        "                        \"embedding1\": embeddings_2d[:, 0],\n",
        "                        \"embedding2\": embeddings_2d[:, 1],\n",
        "                        \"continent\": pd.Series(teams).apply(cn_to_ctn),\n",
        "                        \"cluster\": \"cluster\" + pd.Series(clusters).astype(str)})"
      ]
    },
    {
      "cell_type": "markdown",
      "id": "16d84dca",
      "metadata": {
        "id": "16d84dca",
        "papermill": {
          "duration": 0.951373,
          "end_time": "2024-11-20T17:24:18.119505",
          "exception": false,
          "start_time": "2024-11-20T17:24:17.168132",
          "status": "completed"
        },
        "tags": []
      },
      "source": [
        "We plot the results on a 2D scatter plot, coloring the teams by the continent or cluster and also displaying some individual team names.\n",
        "\n",
        "We always display the names of the top 20 teams (according to [FIFA rankings](https://en.wikipedia.org/wiki/FIFA_World_Rankings)) and a random subset of the rest."
      ]
    },
    {
      "cell_type": "code",
      "execution_count": null,
      "id": "821f4c0d",
      "metadata": {
        "execution": {
          "iopub.execute_input": "2024-11-20T17:24:20.186238Z",
          "iopub.status.busy": "2024-11-20T17:24:20.185779Z",
          "iopub.status.idle": "2024-11-20T17:24:20.194181Z",
          "shell.execute_reply": "2024-11-20T17:24:20.193098Z"
        },
        "id": "821f4c0d",
        "papermill": {
          "duration": 1.047755,
          "end_time": "2024-11-20T17:24:20.196069",
          "exception": false,
          "start_time": "2024-11-20T17:24:19.148314",
          "status": "completed"
        },
        "tags": []
      },
      "outputs": [],
      "source": [
        "top20teams = [\"TeamBelgium\", \"TeamFrance\", \"TeamBrazil\", \"TeamEngland\", \"TeamPortugal\", \"TeamCroatia\", \"TeamSpain\",\n",
        "              \"TeamUruguay\", \"TeamSwitzerland\", \"TeamDenmark\", \"TeamArgentina\", \"TeamGermany\", \"TeamColombia\",\n",
        "              \"TeamItaly\", \"TeamNetherlands\", \"TeamChile\", \"TeamSweden\", \"TeamMexico\", \"TeamPoland\", \"TeamIran\"]\n",
        "\n",
        "def plot_clusters(hue):\n",
        "    np.random.seed(0)\n",
        "    plt.figure(figsize=(12, 12))\n",
        "    plt.title(\"{} embeddings\".format(hue).capitalize())\n",
        "    ax = sns.scatterplot(data=plot_df[plot_df.continent!=\"unk\"], x=\"embedding1\", y=\"embedding2\", hue=hue)\n",
        "    texts = []\n",
        "    for i, point in plot_df.iterrows():\n",
        "        if point[\"teams\"] in top20teams or np.random.random() < 0.1:\n",
        "            texts.append(plt.text(point['embedding1']+0.02, point['embedding2']+0.01, str(point[\"teams\"])))\n",
        "    adjust_text(texts)"
      ]
    },
    {
      "cell_type": "markdown",
      "id": "e3adf2e1",
      "metadata": {
        "id": "e3adf2e1",
        "papermill": {
          "duration": 0.951804,
          "end_time": "2024-11-20T17:24:22.167321",
          "exception": false,
          "start_time": "2024-11-20T17:24:21.215517",
          "status": "completed"
        },
        "tags": []
      },
      "source": [
        "The first visualisation of the 2D embeddings shows the natural geographical clusters (continents), which can be seen as a form of the ground truth:"
      ]
    },
    {
      "cell_type": "code",
      "execution_count": null,
      "id": "ebb8b26c",
      "metadata": {
        "execution": {
          "iopub.execute_input": "2024-11-20T17:24:24.261998Z",
          "iopub.status.busy": "2024-11-20T17:24:24.261342Z",
          "iopub.status.idle": "2024-11-20T17:24:26.293725Z",
          "shell.execute_reply": "2024-11-20T17:24:26.292465Z"
        },
        "id": "ebb8b26c",
        "outputId": "b1a2fe5f-6e4b-494d-dc2c-ecb63dc04e31",
        "papermill": {
          "duration": 3.109567,
          "end_time": "2024-11-20T17:24:26.296310",
          "exception": false,
          "start_time": "2024-11-20T17:24:23.186743",
          "status": "completed"
        },
        "tags": []
      },
      "outputs": [
        {
          "data": {
            "image/png": "[encoded data removed]",
            "text/plain": [
              "<Figure size 1200x1200 with 1 Axes>"
            ]
          },
          "metadata": {},
          "output_type": "display_data"
        }
      ],
      "source": [
        "plot_clusters(\"continent\")"
      ]
    },
    {
      "cell_type": "markdown",
      "id": "5b501528",
      "metadata": {
        "id": "5b501528",
        "papermill": {
          "duration": 1.027949,
          "end_time": "2024-11-20T17:24:28.356723",
          "exception": false,
          "start_time": "2024-11-20T17:24:27.328774",
          "status": "completed"
        },
        "tags": []
      },
      "source": [
        "We can see above that the embeddings learned geographical similarities even though this information was not explicit on the original dataset.\n",
        "\n",
        "Now we plot the same 2D embeddings but with the clusters found by K-Means:"
      ]
    },
    {
      "cell_type": "code",
      "execution_count": null,
      "id": "bbd0918f",
      "metadata": {
        "execution": {
          "iopub.execute_input": "2024-11-20T17:24:30.339566Z",
          "iopub.status.busy": "2024-11-20T17:24:30.339151Z",
          "iopub.status.idle": "2024-11-20T17:24:32.276000Z",
          "shell.execute_reply": "2024-11-20T17:24:32.274803Z"
        },
        "id": "bbd0918f",
        "outputId": "800739b4-4d21-47bc-a3e9-58a17eaac1fc",
        "papermill": {
          "duration": 2.969369,
          "end_time": "2024-11-20T17:24:32.278604",
          "exception": false,
          "start_time": "2024-11-20T17:24:29.309235",
          "status": "completed"
        },
        "tags": []
      },
      "outputs": [
        {
          "data": {
            "image/png": "[encoded data removed]",
            "text/plain": [
              "<Figure size 1200x1200 with 1 Axes>"
            ]
          },
          "metadata": {},
          "output_type": "display_data"
        }
      ],
      "source": [
        "plot_clusters(\"cluster\")"
      ]
    },
    {
      "cell_type": "markdown",
      "id": "2f8846b2",
      "metadata": {
        "id": "2f8846b2",
        "papermill": {
          "duration": 0.988097,
          "end_time": "2024-11-20T17:24:34.320316",
          "exception": false,
          "start_time": "2024-11-20T17:24:33.332219",
          "status": "completed"
        },
        "tags": []
      },
      "source": [
        "We can see that K-Means found very similar cluster to the natural geographical clusters by the continents. This shows that on the 200-dimensional embedding space, similar teams appear close together, which can be captured by a clustering algorithm.\n",
        "\n",
        "Our evaluation of the clusters can be more objective by using a metric such as the [adjusted Rand score](https://scikit-learn.org/stable/modules/generated/sklearn.metrics.adjusted_rand_score.html), which varies from -1 to 1, where 0 is random labelling and 1 is a perfect match:"
      ]
    },
    {
      "cell_type": "code",
      "execution_count": null,
      "id": "61c38972",
      "metadata": {
        "execution": {
          "iopub.execute_input": "2024-11-20T17:24:36.396938Z",
          "iopub.status.busy": "2024-11-20T17:24:36.395953Z",
          "iopub.status.idle": "2024-11-20T17:24:36.406639Z",
          "shell.execute_reply": "2024-11-20T17:24:36.405366Z"
        },
        "id": "61c38972",
        "outputId": "8643031b-458e-4fa2-edae-bb5fadaf81eb",
        "papermill": {
          "duration": 1.050161,
          "end_time": "2024-11-20T17:24:36.408747",
          "exception": false,
          "start_time": "2024-11-20T17:24:35.358586",
          "status": "completed"
        },
        "tags": []
      },
      "outputs": [
        {
          "data": {
            "text/plain": [
              "0.4960460985737154"
            ]
          },
          "execution_count": 31,
          "metadata": {},
          "output_type": "execute_result"
        }
      ],
      "source": [
        "from sklearn import metrics\n",
        "metrics.adjusted_rand_score(plot_df.continent, plot_df.cluster)"
      ]
    },
    {
      "cell_type": "markdown",
      "id": "d811e653",
      "metadata": {
        "id": "d811e653",
        "papermill": {
          "duration": 0.96694,
          "end_time": "2024-11-20T17:24:38.411133",
          "exception": false,
          "start_time": "2024-11-20T17:24:37.444193",
          "status": "completed"
        },
        "tags": []
      },
      "source": [
        "## Classification\n",
        "\n",
        "We will use the knowledge embeddings to predict future matches as a classification problem.\n",
        "\n",
        "We can model it as a multiclass problem with three classes: home team wins, home team loses, draw.\n",
        "\n",
        "The embeddings are used directly as features to a XGBoost classifier.\n",
        "\n",
        "First we need to determine the target:"
      ]
    },
    {
      "cell_type": "code",
      "execution_count": null,
      "id": "eb89a1e2",
      "metadata": {
        "execution": {
          "iopub.execute_input": "2024-11-20T17:24:40.478203Z",
          "iopub.status.busy": "2024-11-20T17:24:40.477742Z",
          "iopub.status.idle": "2024-11-20T17:24:40.488669Z",
          "shell.execute_reply": "2024-11-20T17:24:40.487718Z"
        },
        "id": "eb89a1e2",
        "papermill": {
          "duration": 1.048629,
          "end_time": "2024-11-20T17:24:40.491095",
          "exception": false,
          "start_time": "2024-11-20T17:24:39.442466",
          "status": "completed"
        },
        "tags": []
      },
      "outputs": [],
      "source": [
        "df[\"results\"] = (df.home_score > df.away_score).astype(int) + \\\n",
        "                (df.home_score == df.away_score).astype(int)*2 + \\\n",
        "                (df.home_score < df.away_score).astype(int)*3 - 1"
      ]
    },
    {
      "cell_type": "code",
      "execution_count": null,
      "id": "2b3d1ca0",
      "metadata": {
        "execution": {
          "iopub.execute_input": "2024-11-20T17:24:42.476123Z",
          "iopub.status.busy": "2024-11-20T17:24:42.475150Z",
          "iopub.status.idle": "2024-11-20T17:24:42.486712Z",
          "shell.execute_reply": "2024-11-20T17:24:42.485520Z"
        },
        "id": "2b3d1ca0",
        "outputId": "e22116cd-cf74-4131-af13-907e7cffeb0b",
        "papermill": {
          "duration": 1.040159,
          "end_time": "2024-11-20T17:24:42.488649",
          "exception": false,
          "start_time": "2024-11-20T17:24:41.448490",
          "status": "completed"
        },
        "tags": []
      },
      "outputs": [
        {
          "data": {
            "text/plain": [
              "results\n",
              "0    0.486473\n",
              "2    0.282456\n",
              "1    0.231071\n",
              "Name: proportion, dtype: float64"
            ]
          },
          "execution_count": 33,
          "metadata": {},
          "output_type": "execute_result"
        }
      ],
      "source": [
        "df.results.value_counts(normalize=True)"
      ]
    },
    {
      "cell_type": "markdown",
      "id": "b8813768",
      "metadata": {
        "id": "b8813768",
        "papermill": {
          "duration": 0.965266,
          "end_time": "2024-11-20T17:24:44.518322",
          "exception": false,
          "start_time": "2024-11-20T17:24:43.553056",
          "status": "completed"
        },
        "tags": []
      },
      "source": [
        "### Original dataset"
      ]
    },
    {
      "cell_type": "markdown",
      "id": "c10505b1",
      "metadata": {
        "id": "c10505b1",
        "papermill": {
          "duration": 1.033757,
          "end_time": "2024-11-20T17:24:46.584650",
          "exception": false,
          "start_time": "2024-11-20T17:24:45.550893",
          "status": "completed"
        },
        "tags": []
      },
      "source": [
        "First install xgboost with `pip install xgboost`."
      ]
    },
    {
      "cell_type": "code",
      "execution_count": null,
      "id": "65883954",
      "metadata": {
        "execution": {
          "iopub.execute_input": "2024-11-20T17:24:48.573930Z",
          "iopub.status.busy": "2024-11-20T17:24:48.573518Z",
          "iopub.status.idle": "2024-11-20T17:24:59.118434Z",
          "shell.execute_reply": "2024-11-20T17:24:59.116889Z"
        },
        "id": "65883954",
        "outputId": "31b6b662-4a02-4040-828b-565e137e56b9",
        "papermill": {
          "duration": 11.507326,
          "end_time": "2024-11-20T17:24:59.121718",
          "exception": false,
          "start_time": "2024-11-20T17:24:47.614392",
          "status": "completed"
        },
        "tags": []
      },
      "outputs": [
        {
          "name": "stdout",
          "output_type": "stream",
          "text": [
            "Requirement already satisfied: xgboost in /opt/conda/lib/python3.10/site-packages (2.0.3)\r\n",
            "Requirement already satisfied: numpy in /opt/conda/lib/python3.10/site-packages (from xgboost) (1.26.4)\r\n",
            "Requirement already satisfied: scipy in /opt/conda/lib/python3.10/site-packages (from xgboost) (1.10.0)\r\n"
          ]
        }
      ],
      "source": [
        "!pip install xgboost"
      ]
    },
    {
      "cell_type": "code",
      "execution_count": null,
      "id": "a830dcc9",
      "metadata": {
        "execution": {
          "iopub.execute_input": "2024-11-20T17:25:01.191272Z",
          "iopub.status.busy": "2024-11-20T17:25:01.190384Z",
          "iopub.status.idle": "2024-11-20T17:25:01.211104Z",
          "shell.execute_reply": "2024-11-20T17:25:01.209722Z"
        },
        "id": "a830dcc9",
        "outputId": "be3eec13-13c5-48b0-a897-76407648f6b9",
        "papermill": {
          "duration": 1.057536,
          "end_time": "2024-11-20T17:25:01.213343",
          "exception": false,
          "start_time": "2024-11-20T17:25:00.155807",
          "status": "completed"
        },
        "tags": []
      },
      "outputs": [
        {
          "data": {
            "text/html": [
              "<div>\n",
              "<style scoped>\n",
              "    .dataframe tbody tr th:only-of-type {\n",
              "        vertical-align: middle;\n",
              "    }\n",
              "\n",
              "    .dataframe tbody tr th {\n",
              "        vertical-align: top;\n",
              "    }\n",
              "\n",
              "    .dataframe thead th {\n",
              "        text-align: right;\n",
              "    }\n",
              "</style>\n",
              "<table border=\"1\" class=\"dataframe\">\n",
              "  <thead>\n",
              "    <tr style=\"text-align: right;\">\n",
              "      <th></th>\n",
              "      <th>results</th>\n",
              "      <th>neutral</th>\n",
              "      <th>train</th>\n",
              "    </tr>\n",
              "  </thead>\n",
              "  <tbody>\n",
              "    <tr>\n",
              "      <th>0</th>\n",
              "      <td>1</td>\n",
              "      <td>False</td>\n",
              "      <td>True</td>\n",
              "    </tr>\n",
              "    <tr>\n",
              "      <th>1</th>\n",
              "      <td>0</td>\n",
              "      <td>False</td>\n",
              "      <td>True</td>\n",
              "    </tr>\n",
              "    <tr>\n",
              "      <th>2</th>\n",
              "      <td>0</td>\n",
              "      <td>False</td>\n",
              "      <td>True</td>\n",
              "    </tr>\n",
              "    <tr>\n",
              "      <th>3</th>\n",
              "      <td>1</td>\n",
              "      <td>False</td>\n",
              "      <td>True</td>\n",
              "    </tr>\n",
              "    <tr>\n",
              "      <th>4</th>\n",
              "      <td>0</td>\n",
              "      <td>False</td>\n",
              "      <td>True</td>\n",
              "    </tr>\n",
              "    <tr>\n",
              "      <th>...</th>\n",
              "      <td>...</td>\n",
              "      <td>...</td>\n",
              "      <td>...</td>\n",
              "    </tr>\n",
              "    <tr>\n",
              "      <th>40766</th>\n",
              "      <td>0</td>\n",
              "      <td>True</td>\n",
              "      <td>False</td>\n",
              "    </tr>\n",
              "    <tr>\n",
              "      <th>40767</th>\n",
              "      <td>1</td>\n",
              "      <td>True</td>\n",
              "      <td>False</td>\n",
              "    </tr>\n",
              "    <tr>\n",
              "      <th>40768</th>\n",
              "      <td>2</td>\n",
              "      <td>True</td>\n",
              "      <td>False</td>\n",
              "    </tr>\n",
              "    <tr>\n",
              "      <th>40769</th>\n",
              "      <td>0</td>\n",
              "      <td>True</td>\n",
              "      <td>False</td>\n",
              "    </tr>\n",
              "    <tr>\n",
              "      <th>40770</th>\n",
              "      <td>0</td>\n",
              "      <td>True</td>\n",
              "      <td>False</td>\n",
              "    </tr>\n",
              "  </tbody>\n",
              "</table>\n",
              "<p>40771 rows × 3 columns</p>\n",
              "</div>"
            ],
            "text/plain": [
              "       results neutral  train\n",
              "0            1   False   True\n",
              "1            0   False   True\n",
              "2            0   False   True\n",
              "3            1   False   True\n",
              "4            0   False   True\n",
              "...        ...     ...    ...\n",
              "40766        0    True  False\n",
              "40767        1    True  False\n",
              "40768        2    True  False\n",
              "40769        0    True  False\n",
              "40770        0    True  False\n",
              "\n",
              "[40771 rows x 3 columns]"
            ]
          },
          "execution_count": 35,
          "metadata": {},
          "output_type": "execute_result"
        }
      ],
      "source": [
        "new_df = df[[\"results\", \"neutral\", \"train\"]].copy()\n",
        "new_df"
      ]
    },
    {
      "cell_type": "code",
      "execution_count": null,
      "id": "479861e7",
      "metadata": {
        "execution": {
          "iopub.execute_input": "2024-11-20T17:25:03.293908Z",
          "iopub.status.busy": "2024-11-20T17:25:03.293518Z",
          "iopub.status.idle": "2024-11-20T17:25:03.300789Z",
          "shell.execute_reply": "2024-11-20T17:25:03.299574Z"
        },
        "id": "479861e7",
        "papermill": {
          "duration": 1.059532,
          "end_time": "2024-11-20T17:25:03.303104",
          "exception": false,
          "start_time": "2024-11-20T17:25:02.243572",
          "status": "completed"
        },
        "tags": []
      },
      "outputs": [],
      "source": [
        "new_df.neutral = new_df.neutral.astype(bool)"
      ]
    },
    {
      "cell_type": "markdown",
      "id": "c922baad",
      "metadata": {
        "id": "c922baad",
        "papermill": {
          "duration": 1.034954,
          "end_time": "2024-11-20T17:25:05.336232",
          "exception": false,
          "start_time": "2024-11-20T17:25:04.301278",
          "status": "completed"
        },
        "tags": []
      },
      "source": [
        "Split date:"
      ]
    },
    {
      "cell_type": "code",
      "execution_count": null,
      "id": "9062ade1",
      "metadata": {
        "execution": {
          "iopub.execute_input": "2024-11-20T17:25:07.332784Z",
          "iopub.status.busy": "2024-11-20T17:25:07.332367Z",
          "iopub.status.idle": "2024-11-20T17:25:07.414286Z",
          "shell.execute_reply": "2024-11-20T17:25:07.413095Z"
        },
        "id": "9062ade1",
        "papermill": {
          "duration": 1.039144,
          "end_time": "2024-11-20T17:25:07.416693",
          "exception": false,
          "start_time": "2024-11-20T17:25:06.377549",
          "status": "completed"
        },
        "tags": []
      },
      "outputs": [],
      "source": [
        "new_df[\"year\"] = df[\"date\"].apply(lambda x: int(x[:4]))\n",
        "new_df[\"month\"] = df[\"date\"].apply(lambda x: int(x[5:7]))\n",
        "new_df[\"day\"] = df[\"date\"].apply(lambda x: int(x[8:]))"
      ]
    },
    {
      "cell_type": "markdown",
      "id": "7a855155",
      "metadata": {
        "id": "7a855155",
        "papermill": {
          "duration": 1.03112,
          "end_time": "2024-11-20T17:25:09.467947",
          "exception": false,
          "start_time": "2024-11-20T17:25:08.436827",
          "status": "completed"
        },
        "tags": []
      },
      "source": [
        "Apply one hot encoding:"
      ]
    },
    {
      "cell_type": "code",
      "execution_count": null,
      "id": "e8eff0d9",
      "metadata": {
        "execution": {
          "iopub.execute_input": "2024-11-20T17:25:11.462276Z",
          "iopub.status.busy": "2024-11-20T17:25:11.461401Z",
          "iopub.status.idle": "2024-11-20T17:25:11.851048Z",
          "shell.execute_reply": "2024-11-20T17:25:11.849877Z"
        },
        "id": "e8eff0d9",
        "outputId": "bd0a644c-5613-404a-b2e0-450b44f45aa6",
        "papermill": {
          "duration": 1.349556,
          "end_time": "2024-11-20T17:25:11.853208",
          "exception": false,
          "start_time": "2024-11-20T17:25:10.503652",
          "status": "completed"
        },
        "tags": []
      },
      "outputs": [
        {
          "data": {
            "text/html": [
              "<div>\n",
              "<style scoped>\n",
              "    .dataframe tbody tr th:only-of-type {\n",
              "        vertical-align: middle;\n",
              "    }\n",
              "\n",
              "    .dataframe tbody tr th {\n",
              "        vertical-align: top;\n",
              "    }\n",
              "\n",
              "    .dataframe thead th {\n",
              "        text-align: right;\n",
              "    }\n",
              "</style>\n",
              "<table border=\"1\" class=\"dataframe\">\n",
              "  <thead>\n",
              "    <tr style=\"text-align: right;\">\n",
              "      <th></th>\n",
              "      <th>home_team_Abkhazia</th>\n",
              "      <th>home_team_Afghanistan</th>\n",
              "      <th>home_team_Albania</th>\n",
              "      <th>home_team_Alderney</th>\n",
              "      <th>home_team_Algeria</th>\n",
              "      <th>home_team_American Samoa</th>\n",
              "      <th>home_team_Andalusia</th>\n",
              "      <th>home_team_Andorra</th>\n",
              "      <th>home_team_Angola</th>\n",
              "      <th>home_team_Anguilla</th>\n",
              "      <th>...</th>\n",
              "      <th>country_Western Samoa</th>\n",
              "      <th>country_Yemen</th>\n",
              "      <th>country_Yemen AR</th>\n",
              "      <th>country_Yemen DPR</th>\n",
              "      <th>country_Yugoslavia</th>\n",
              "      <th>country_Zambia</th>\n",
              "      <th>country_Zanzibar</th>\n",
              "      <th>country_Zaïre</th>\n",
              "      <th>country_Zimbabwe</th>\n",
              "      <th>country_Éire</th>\n",
              "    </tr>\n",
              "  </thead>\n",
              "  <tbody>\n",
              "    <tr>\n",
              "      <th>0</th>\n",
              "      <td>False</td>\n",
              "      <td>False</td>\n",
              "      <td>False</td>\n",
              "      <td>False</td>\n",
              "      <td>False</td>\n",
              "      <td>False</td>\n",
              "      <td>False</td>\n",
              "      <td>False</td>\n",
              "      <td>False</td>\n",
              "      <td>False</td>\n",
              "      <td>...</td>\n",
              "      <td>False</td>\n",
              "      <td>False</td>\n",
              "      <td>False</td>\n",
              "      <td>False</td>\n",
              "      <td>False</td>\n",
              "      <td>False</td>\n",
              "      <td>False</td>\n",
              "      <td>False</td>\n",
              "      <td>False</td>\n",
              "      <td>False</td>\n",
              "    </tr>\n",
              "    <tr>\n",
              "      <th>1</th>\n",
              "      <td>False</td>\n",
              "      <td>False</td>\n",
              "      <td>False</td>\n",
              "      <td>False</td>\n",
              "      <td>False</td>\n",
              "      <td>False</td>\n",
              "      <td>False</td>\n",
              "      <td>False</td>\n",
              "      <td>False</td>\n",
              "      <td>False</td>\n",
              "      <td>...</td>\n",
              "      <td>False</td>\n",
              "      <td>False</td>\n",
              "      <td>False</td>\n",
              "      <td>False</td>\n",
              "      <td>False</td>\n",
              "      <td>False</td>\n",
              "      <td>False</td>\n",
              "      <td>False</td>\n",
              "      <td>False</td>\n",
              "      <td>False</td>\n",
              "    </tr>\n",
              "    <tr>\n",
              "      <th>2</th>\n",
              "      <td>False</td>\n",
              "      <td>False</td>\n",
              "      <td>False</td>\n",
              "      <td>False</td>\n",
              "      <td>False</td>\n",
              "      <td>False</td>\n",
              "      <td>False</td>\n",
              "      <td>False</td>\n",
              "      <td>False</td>\n",
              "      <td>False</td>\n",
              "      <td>...</td>\n",
              "      <td>False</td>\n",
              "      <td>False</td>\n",
              "      <td>False</td>\n",
              "      <td>False</td>\n",
              "      <td>False</td>\n",
              "      <td>False</td>\n",
              "      <td>False</td>\n",
              "      <td>False</td>\n",
              "      <td>False</td>\n",
              "      <td>False</td>\n",
              "    </tr>\n",
              "    <tr>\n",
              "      <th>3</th>\n",
              "      <td>False</td>\n",
              "      <td>False</td>\n",
              "      <td>False</td>\n",
              "      <td>False</td>\n",
              "      <td>False</td>\n",
              "      <td>False</td>\n",
              "      <td>False</td>\n",
              "      <td>False</td>\n",
              "      <td>False</td>\n",
              "      <td>False</td>\n",
              "      <td>...</td>\n",
              "      <td>False</td>\n",
              "      <td>False</td>\n",
              "      <td>False</td>\n",
              "      <td>False</td>\n",
              "      <td>False</td>\n",
              "      <td>False</td>\n",
              "      <td>False</td>\n",
              "      <td>False</td>\n",
              "      <td>False</td>\n",
              "      <td>False</td>\n",
              "    </tr>\n",
              "    <tr>\n",
              "      <th>4</th>\n",
              "      <td>False</td>\n",
              "      <td>False</td>\n",
              "      <td>False</td>\n",
              "      <td>False</td>\n",
              "      <td>False</td>\n",
              "      <td>False</td>\n",
              "      <td>False</td>\n",
              "      <td>False</td>\n",
              "      <td>False</td>\n",
              "      <td>False</td>\n",
              "      <td>...</td>\n",
              "      <td>False</td>\n",
              "      <td>False</td>\n",
              "      <td>False</td>\n",
              "      <td>False</td>\n",
              "      <td>False</td>\n",
              "      <td>False</td>\n",
              "      <td>False</td>\n",
              "      <td>False</td>\n",
              "      <td>False</td>\n",
              "      <td>False</td>\n",
              "    </tr>\n",
              "    <tr>\n",
              "      <th>...</th>\n",
              "      <td>...</td>\n",
              "      <td>...</td>\n",
              "      <td>...</td>\n",
              "      <td>...</td>\n",
              "      <td>...</td>\n",
              "      <td>...</td>\n",
              "      <td>...</td>\n",
              "      <td>...</td>\n",
              "      <td>...</td>\n",
              "      <td>...</td>\n",
              "      <td>...</td>\n",
              "      <td>...</td>\n",
              "      <td>...</td>\n",
              "      <td>...</td>\n",
              "      <td>...</td>\n",
              "      <td>...</td>\n",
              "      <td>...</td>\n",
              "      <td>...</td>\n",
              "      <td>...</td>\n",
              "      <td>...</td>\n",
              "      <td>...</td>\n",
              "    </tr>\n",
              "    <tr>\n",
              "      <th>40766</th>\n",
              "      <td>False</td>\n",
              "      <td>False</td>\n",
              "      <td>False</td>\n",
              "      <td>False</td>\n",
              "      <td>False</td>\n",
              "      <td>False</td>\n",
              "      <td>False</td>\n",
              "      <td>False</td>\n",
              "      <td>False</td>\n",
              "      <td>False</td>\n",
              "      <td>...</td>\n",
              "      <td>False</td>\n",
              "      <td>False</td>\n",
              "      <td>False</td>\n",
              "      <td>False</td>\n",
              "      <td>False</td>\n",
              "      <td>False</td>\n",
              "      <td>False</td>\n",
              "      <td>False</td>\n",
              "      <td>False</td>\n",
              "      <td>False</td>\n",
              "    </tr>\n",
              "    <tr>\n",
              "      <th>40767</th>\n",
              "      <td>False</td>\n",
              "      <td>False</td>\n",
              "      <td>False</td>\n",
              "      <td>False</td>\n",
              "      <td>False</td>\n",
              "      <td>False</td>\n",
              "      <td>False</td>\n",
              "      <td>False</td>\n",
              "      <td>False</td>\n",
              "      <td>False</td>\n",
              "      <td>...</td>\n",
              "      <td>False</td>\n",
              "      <td>False</td>\n",
              "      <td>False</td>\n",
              "      <td>False</td>\n",
              "      <td>False</td>\n",
              "      <td>False</td>\n",
              "      <td>False</td>\n",
              "      <td>False</td>\n",
              "      <td>False</td>\n",
              "      <td>False</td>\n",
              "    </tr>\n",
              "    <tr>\n",
              "      <th>40768</th>\n",
              "      <td>False</td>\n",
              "      <td>False</td>\n",
              "      <td>False</td>\n",
              "      <td>False</td>\n",
              "      <td>False</td>\n",
              "      <td>False</td>\n",
              "      <td>False</td>\n",
              "      <td>False</td>\n",
              "      <td>False</td>\n",
              "      <td>False</td>\n",
              "      <td>...</td>\n",
              "      <td>False</td>\n",
              "      <td>False</td>\n",
              "      <td>False</td>\n",
              "      <td>False</td>\n",
              "      <td>False</td>\n",
              "      <td>False</td>\n",
              "      <td>False</td>\n",
              "      <td>False</td>\n",
              "      <td>False</td>\n",
              "      <td>False</td>\n",
              "    </tr>\n",
              "    <tr>\n",
              "      <th>40769</th>\n",
              "      <td>False</td>\n",
              "      <td>False</td>\n",
              "      <td>False</td>\n",
              "      <td>False</td>\n",
              "      <td>True</td>\n",
              "      <td>False</td>\n",
              "      <td>False</td>\n",
              "      <td>False</td>\n",
              "      <td>False</td>\n",
              "      <td>False</td>\n",
              "      <td>...</td>\n",
              "      <td>False</td>\n",
              "      <td>False</td>\n",
              "      <td>False</td>\n",
              "      <td>False</td>\n",
              "      <td>False</td>\n",
              "      <td>False</td>\n",
              "      <td>False</td>\n",
              "      <td>False</td>\n",
              "      <td>False</td>\n",
              "      <td>False</td>\n",
              "    </tr>\n",
              "    <tr>\n",
              "      <th>40770</th>\n",
              "      <td>False</td>\n",
              "      <td>False</td>\n",
              "      <td>False</td>\n",
              "      <td>False</td>\n",
              "      <td>False</td>\n",
              "      <td>False</td>\n",
              "      <td>False</td>\n",
              "      <td>False</td>\n",
              "      <td>False</td>\n",
              "      <td>False</td>\n",
              "      <td>...</td>\n",
              "      <td>False</td>\n",
              "      <td>False</td>\n",
              "      <td>False</td>\n",
              "      <td>False</td>\n",
              "      <td>False</td>\n",
              "      <td>False</td>\n",
              "      <td>False</td>\n",
              "      <td>False</td>\n",
              "      <td>False</td>\n",
              "      <td>False</td>\n",
              "    </tr>\n",
              "  </tbody>\n",
              "</table>\n",
              "<p>40771 rows × 2946 columns</p>\n",
              "</div>"
            ],
            "text/plain": [
              "       home_team_Abkhazia  home_team_Afghanistan  home_team_Albania  \\\n",
              "0                   False                  False              False   \n",
              "1                   False                  False              False   \n",
              "2                   False                  False              False   \n",
              "3                   False                  False              False   \n",
              "4                   False                  False              False   \n",
              "...                   ...                    ...                ...   \n",
              "40766               False                  False              False   \n",
              "40767               False                  False              False   \n",
              "40768               False                  False              False   \n",
              "40769               False                  False              False   \n",
              "40770               False                  False              False   \n",
              "\n",
              "       home_team_Alderney  home_team_Algeria  home_team_American Samoa  \\\n",
              "0                   False              False                     False   \n",
              "1                   False              False                     False   \n",
              "2                   False              False                     False   \n",
              "3                   False              False                     False   \n",
              "4                   False              False                     False   \n",
              "...                   ...                ...                       ...   \n",
              "40766               False              False                     False   \n",
              "40767               False              False                     False   \n",
              "40768               False              False                     False   \n",
              "40769               False               True                     False   \n",
              "40770               False              False                     False   \n",
              "\n",
              "       home_team_Andalusia  home_team_Andorra  home_team_Angola  \\\n",
              "0                    False              False             False   \n",
              "1                    False              False             False   \n",
              "2                    False              False             False   \n",
              "3                    False              False             False   \n",
              "4                    False              False             False   \n",
              "...                    ...                ...               ...   \n",
              "40766                False              False             False   \n",
              "40767                False              False             False   \n",
              "40768                False              False             False   \n",
              "40769                False              False             False   \n",
              "40770                False              False             False   \n",
              "\n",
              "       home_team_Anguilla  ...  country_Western Samoa  country_Yemen  \\\n",
              "0                   False  ...                  False          False   \n",
              "1                   False  ...                  False          False   \n",
              "2                   False  ...                  False          False   \n",
              "3                   False  ...                  False          False   \n",
              "4                   False  ...                  False          False   \n",
              "...                   ...  ...                    ...            ...   \n",
              "40766               False  ...                  False          False   \n",
              "40767               False  ...                  False          False   \n",
              "40768               False  ...                  False          False   \n",
              "40769               False  ...                  False          False   \n",
              "40770               False  ...                  False          False   \n",
              "\n",
              "       country_Yemen AR  country_Yemen DPR  country_Yugoslavia  \\\n",
              "0                 False              False               False   \n",
              "1                 False              False               False   \n",
              "2                 False              False               False   \n",
              "3                 False              False               False   \n",
              "4                 False              False               False   \n",
              "...                 ...                ...                 ...   \n",
              "40766             False              False               False   \n",
              "40767             False              False               False   \n",
              "40768             False              False               False   \n",
              "40769             False              False               False   \n",
              "40770             False              False               False   \n",
              "\n",
              "       country_Zambia  country_Zanzibar  country_Zaïre  country_Zimbabwe  \\\n",
              "0               False             False          False             False   \n",
              "1               False             False          False             False   \n",
              "2               False             False          False             False   \n",
              "3               False             False          False             False   \n",
              "4               False             False          False             False   \n",
              "...               ...               ...            ...               ...   \n",
              "40766           False             False          False             False   \n",
              "40767           False             False          False             False   \n",
              "40768           False             False          False             False   \n",
              "40769           False             False          False             False   \n",
              "40770           False             False          False             False   \n",
              "\n",
              "       country_Éire  \n",
              "0             False  \n",
              "1             False  \n",
              "2             False  \n",
              "3             False  \n",
              "4             False  \n",
              "...             ...  \n",
              "40766         False  \n",
              "40767         False  \n",
              "40768         False  \n",
              "40769         False  \n",
              "40770         False  \n",
              "\n",
              "[40771 rows x 2946 columns]"
            ]
          },
          "execution_count": 38,
          "metadata": {},
          "output_type": "execute_result"
        }
      ],
      "source": [
        "encoded_cols = pd.get_dummies(df[[\"home_team\", \"away_team\", \"tournament\", \"city\", \"country\"]])\n",
        "encoded_cols"
      ]
    },
    {
      "cell_type": "code",
      "execution_count": null,
      "id": "432914a4",
      "metadata": {
        "execution": {
          "iopub.execute_input": "2024-11-20T17:25:13.971933Z",
          "iopub.status.busy": "2024-11-20T17:25:13.971265Z",
          "iopub.status.idle": "2024-11-20T17:25:14.310492Z",
          "shell.execute_reply": "2024-11-20T17:25:14.309405Z"
        },
        "id": "432914a4",
        "outputId": "7ffb1bc9-7afb-4144-9e53-970bfa42bd85",
        "papermill": {
          "duration": 1.423525,
          "end_time": "2024-11-20T17:25:14.312975",
          "exception": false,
          "start_time": "2024-11-20T17:25:12.889450",
          "status": "completed"
        },
        "tags": []
      },
      "outputs": [
        {
          "data": {
            "text/html": [
              "<div>\n",
              "<style scoped>\n",
              "    .dataframe tbody tr th:only-of-type {\n",
              "        vertical-align: middle;\n",
              "    }\n",
              "\n",
              "    .dataframe tbody tr th {\n",
              "        vertical-align: top;\n",
              "    }\n",
              "\n",
              "    .dataframe thead th {\n",
              "        text-align: right;\n",
              "    }\n",
              "</style>\n",
              "<table border=\"1\" class=\"dataframe\">\n",
              "  <thead>\n",
              "    <tr style=\"text-align: right;\">\n",
              "      <th></th>\n",
              "      <th>results</th>\n",
              "      <th>neutral</th>\n",
              "      <th>train</th>\n",
              "      <th>year</th>\n",
              "      <th>month</th>\n",
              "      <th>day</th>\n",
              "      <th>home_team_Abkhazia</th>\n",
              "      <th>home_team_Afghanistan</th>\n",
              "      <th>home_team_Albania</th>\n",
              "      <th>home_team_Alderney</th>\n",
              "      <th>...</th>\n",
              "      <th>country_Western Samoa</th>\n",
              "      <th>country_Yemen</th>\n",
              "      <th>country_Yemen AR</th>\n",
              "      <th>country_Yemen DPR</th>\n",
              "      <th>country_Yugoslavia</th>\n",
              "      <th>country_Zambia</th>\n",
              "      <th>country_Zanzibar</th>\n",
              "      <th>country_Zaïre</th>\n",
              "      <th>country_Zimbabwe</th>\n",
              "      <th>country_Éire</th>\n",
              "    </tr>\n",
              "  </thead>\n",
              "  <tbody>\n",
              "    <tr>\n",
              "      <th>0</th>\n",
              "      <td>1</td>\n",
              "      <td>True</td>\n",
              "      <td>True</td>\n",
              "      <td>1872</td>\n",
              "      <td>11</td>\n",
              "      <td>30</td>\n",
              "      <td>False</td>\n",
              "      <td>False</td>\n",
              "      <td>False</td>\n",
              "      <td>False</td>\n",
              "      <td>...</td>\n",
              "      <td>False</td>\n",
              "      <td>False</td>\n",
              "      <td>False</td>\n",
              "      <td>False</td>\n",
              "      <td>False</td>\n",
              "      <td>False</td>\n",
              "      <td>False</td>\n",
              "      <td>False</td>\n",
              "      <td>False</td>\n",
              "      <td>False</td>\n",
              "    </tr>\n",
              "    <tr>\n",
              "      <th>1</th>\n",
              "      <td>0</td>\n",
              "      <td>True</td>\n",
              "      <td>True</td>\n",
              "      <td>1873</td>\n",
              "      <td>3</td>\n",
              "      <td>8</td>\n",
              "      <td>False</td>\n",
              "      <td>False</td>\n",
              "      <td>False</td>\n",
              "      <td>False</td>\n",
              "      <td>...</td>\n",
              "      <td>False</td>\n",
              "      <td>False</td>\n",
              "      <td>False</td>\n",
              "      <td>False</td>\n",
              "      <td>False</td>\n",
              "      <td>False</td>\n",
              "      <td>False</td>\n",
              "      <td>False</td>\n",
              "      <td>False</td>\n",
              "      <td>False</td>\n",
              "    </tr>\n",
              "    <tr>\n",
              "      <th>2</th>\n",
              "      <td>0</td>\n",
              "      <td>True</td>\n",
              "      <td>True</td>\n",
              "      <td>1874</td>\n",
              "      <td>3</td>\n",
              "      <td>7</td>\n",
              "      <td>False</td>\n",
              "      <td>False</td>\n",
              "      <td>False</td>\n",
              "      <td>False</td>\n",
              "      <td>...</td>\n",
              "      <td>False</td>\n",
              "      <td>False</td>\n",
              "      <td>False</td>\n",
              "      <td>False</td>\n",
              "      <td>False</td>\n",
              "      <td>False</td>\n",
              "      <td>False</td>\n",
              "      <td>False</td>\n",
              "      <td>False</td>\n",
              "      <td>False</td>\n",
              "    </tr>\n",
              "    <tr>\n",
              "      <th>3</th>\n",
              "      <td>1</td>\n",
              "      <td>True</td>\n",
              "      <td>True</td>\n",
              "      <td>1875</td>\n",
              "      <td>3</td>\n",
              "      <td>6</td>\n",
              "      <td>False</td>\n",
              "      <td>False</td>\n",
              "      <td>False</td>\n",
              "      <td>False</td>\n",
              "      <td>...</td>\n",
              "      <td>False</td>\n",
              "      <td>False</td>\n",
              "      <td>False</td>\n",
              "      <td>False</td>\n",
              "      <td>False</td>\n",
              "      <td>False</td>\n",
              "      <td>False</td>\n",
              "      <td>False</td>\n",
              "      <td>False</td>\n",
              "      <td>False</td>\n",
              "    </tr>\n",
              "    <tr>\n",
              "      <th>4</th>\n",
              "      <td>0</td>\n",
              "      <td>True</td>\n",
              "      <td>True</td>\n",
              "      <td>1876</td>\n",
              "      <td>3</td>\n",
              "      <td>4</td>\n",
              "      <td>False</td>\n",
              "      <td>False</td>\n",
              "      <td>False</td>\n",
              "      <td>False</td>\n",
              "      <td>...</td>\n",
              "      <td>False</td>\n",
              "      <td>False</td>\n",
              "      <td>False</td>\n",
              "      <td>False</td>\n",
              "      <td>False</td>\n",
              "      <td>False</td>\n",
              "      <td>False</td>\n",
              "      <td>False</td>\n",
              "      <td>False</td>\n",
              "      <td>False</td>\n",
              "    </tr>\n",
              "    <tr>\n",
              "      <th>...</th>\n",
              "      <td>...</td>\n",
              "      <td>...</td>\n",
              "      <td>...</td>\n",
              "      <td>...</td>\n",
              "      <td>...</td>\n",
              "      <td>...</td>\n",
              "      <td>...</td>\n",
              "      <td>...</td>\n",
              "      <td>...</td>\n",
              "      <td>...</td>\n",
              "      <td>...</td>\n",
              "      <td>...</td>\n",
              "      <td>...</td>\n",
              "      <td>...</td>\n",
              "      <td>...</td>\n",
              "      <td>...</td>\n",
              "      <td>...</td>\n",
              "      <td>...</td>\n",
              "      <td>...</td>\n",
              "      <td>...</td>\n",
              "      <td>...</td>\n",
              "    </tr>\n",
              "    <tr>\n",
              "      <th>40766</th>\n",
              "      <td>0</td>\n",
              "      <td>True</td>\n",
              "      <td>False</td>\n",
              "      <td>2019</td>\n",
              "      <td>7</td>\n",
              "      <td>10</td>\n",
              "      <td>False</td>\n",
              "      <td>False</td>\n",
              "      <td>False</td>\n",
              "      <td>False</td>\n",
              "      <td>...</td>\n",
              "      <td>False</td>\n",
              "      <td>False</td>\n",
              "      <td>False</td>\n",
              "      <td>False</td>\n",
              "      <td>False</td>\n",
              "      <td>False</td>\n",
              "      <td>False</td>\n",
              "      <td>False</td>\n",
              "      <td>False</td>\n",
              "      <td>False</td>\n",
              "    </tr>\n",
              "    <tr>\n",
              "      <th>40767</th>\n",
              "      <td>1</td>\n",
              "      <td>True</td>\n",
              "      <td>False</td>\n",
              "      <td>2019</td>\n",
              "      <td>7</td>\n",
              "      <td>11</td>\n",
              "      <td>False</td>\n",
              "      <td>False</td>\n",
              "      <td>False</td>\n",
              "      <td>False</td>\n",
              "      <td>...</td>\n",
              "      <td>False</td>\n",
              "      <td>False</td>\n",
              "      <td>False</td>\n",
              "      <td>False</td>\n",
              "      <td>False</td>\n",
              "      <td>False</td>\n",
              "      <td>False</td>\n",
              "      <td>False</td>\n",
              "      <td>False</td>\n",
              "      <td>False</td>\n",
              "    </tr>\n",
              "    <tr>\n",
              "      <th>40768</th>\n",
              "      <td>2</td>\n",
              "      <td>True</td>\n",
              "      <td>False</td>\n",
              "      <td>2019</td>\n",
              "      <td>7</td>\n",
              "      <td>11</td>\n",
              "      <td>False</td>\n",
              "      <td>False</td>\n",
              "      <td>False</td>\n",
              "      <td>False</td>\n",
              "      <td>...</td>\n",
              "      <td>False</td>\n",
              "      <td>False</td>\n",
              "      <td>False</td>\n",
              "      <td>False</td>\n",
              "      <td>False</td>\n",
              "      <td>False</td>\n",
              "      <td>False</td>\n",
              "      <td>False</td>\n",
              "      <td>False</td>\n",
              "      <td>False</td>\n",
              "    </tr>\n",
              "    <tr>\n",
              "      <th>40769</th>\n",
              "      <td>0</td>\n",
              "      <td>True</td>\n",
              "      <td>False</td>\n",
              "      <td>2019</td>\n",
              "      <td>7</td>\n",
              "      <td>14</td>\n",
              "      <td>False</td>\n",
              "      <td>False</td>\n",
              "      <td>False</td>\n",
              "      <td>False</td>\n",
              "      <td>...</td>\n",
              "      <td>False</td>\n",
              "      <td>False</td>\n",
              "      <td>False</td>\n",
              "      <td>False</td>\n",
              "      <td>False</td>\n",
              "      <td>False</td>\n",
              "      <td>False</td>\n",
              "      <td>False</td>\n",
              "      <td>False</td>\n",
              "      <td>False</td>\n",
              "    </tr>\n",
              "    <tr>\n",
              "      <th>40770</th>\n",
              "      <td>0</td>\n",
              "      <td>True</td>\n",
              "      <td>False</td>\n",
              "      <td>2019</td>\n",
              "      <td>7</td>\n",
              "      <td>14</td>\n",
              "      <td>False</td>\n",
              "      <td>False</td>\n",
              "      <td>False</td>\n",
              "      <td>False</td>\n",
              "      <td>...</td>\n",
              "      <td>False</td>\n",
              "      <td>False</td>\n",
              "      <td>False</td>\n",
              "      <td>False</td>\n",
              "      <td>False</td>\n",
              "      <td>False</td>\n",
              "      <td>False</td>\n",
              "      <td>False</td>\n",
              "      <td>False</td>\n",
              "      <td>False</td>\n",
              "    </tr>\n",
              "  </tbody>\n",
              "</table>\n",
              "<p>40771 rows × 2952 columns</p>\n",
              "</div>"
            ],
            "text/plain": [
              "       results  neutral  train  year  month  day  home_team_Abkhazia  \\\n",
              "0            1     True   True  1872     11   30               False   \n",
              "1            0     True   True  1873      3    8               False   \n",
              "2            0     True   True  1874      3    7               False   \n",
              "3            1     True   True  1875      3    6               False   \n",
              "4            0     True   True  1876      3    4               False   \n",
              "...        ...      ...    ...   ...    ...  ...                 ...   \n",
              "40766        0     True  False  2019      7   10               False   \n",
              "40767        1     True  False  2019      7   11               False   \n",
              "40768        2     True  False  2019      7   11               False   \n",
              "40769        0     True  False  2019      7   14               False   \n",
              "40770        0     True  False  2019      7   14               False   \n",
              "\n",
              "       home_team_Afghanistan  home_team_Albania  home_team_Alderney  ...  \\\n",
              "0                      False              False               False  ...   \n",
              "1                      False              False               False  ...   \n",
              "2                      False              False               False  ...   \n",
              "3                      False              False               False  ...   \n",
              "4                      False              False               False  ...   \n",
              "...                      ...                ...                 ...  ...   \n",
              "40766                  False              False               False  ...   \n",
              "40767                  False              False               False  ...   \n",
              "40768                  False              False               False  ...   \n",
              "40769                  False              False               False  ...   \n",
              "40770                  False              False               False  ...   \n",
              "\n",
              "       country_Western Samoa  country_Yemen  country_Yemen AR  \\\n",
              "0                      False          False             False   \n",
              "1                      False          False             False   \n",
              "2                      False          False             False   \n",
              "3                      False          False             False   \n",
              "4                      False          False             False   \n",
              "...                      ...            ...               ...   \n",
              "40766                  False          False             False   \n",
              "40767                  False          False             False   \n",
              "40768                  False          False             False   \n",
              "40769                  False          False             False   \n",
              "40770                  False          False             False   \n",
              "\n",
              "       country_Yemen DPR  country_Yugoslavia  country_Zambia  \\\n",
              "0                  False               False           False   \n",
              "1                  False               False           False   \n",
              "2                  False               False           False   \n",
              "3                  False               False           False   \n",
              "4                  False               False           False   \n",
              "...                  ...                 ...             ...   \n",
              "40766              False               False           False   \n",
              "40767              False               False           False   \n",
              "40768              False               False           False   \n",
              "40769              False               False           False   \n",
              "40770              False               False           False   \n",
              "\n",
              "       country_Zanzibar  country_Zaïre  country_Zimbabwe  country_Éire  \n",
              "0                 False          False             False         False  \n",
              "1                 False          False             False         False  \n",
              "2                 False          False             False         False  \n",
              "3                 False          False             False         False  \n",
              "4                 False          False             False         False  \n",
              "...                 ...            ...               ...           ...  \n",
              "40766             False          False             False         False  \n",
              "40767             False          False             False         False  \n",
              "40768             False          False             False         False  \n",
              "40769             False          False             False         False  \n",
              "40770             False          False             False         False  \n",
              "\n",
              "[40771 rows x 2952 columns]"
            ]
          },
          "execution_count": 39,
          "metadata": {},
          "output_type": "execute_result"
        }
      ],
      "source": [
        "new_df = new_df.join(encoded_cols)\n",
        "new_df"
      ]
    },
    {
      "cell_type": "markdown",
      "id": "e5a7a466",
      "metadata": {
        "id": "e5a7a466",
        "papermill": {
          "duration": 1.030484,
          "end_time": "2024-11-20T17:25:16.301344",
          "exception": false,
          "start_time": "2024-11-20T17:25:15.270860",
          "status": "completed"
        },
        "tags": []
      },
      "source": [
        "Create a multiclass model:"
      ]
    },
    {
      "cell_type": "code",
      "execution_count": null,
      "id": "9c2d98b6",
      "metadata": {
        "execution": {
          "iopub.execute_input": "2024-11-20T17:25:18.369986Z",
          "iopub.status.busy": "2024-11-20T17:25:18.368938Z",
          "iopub.status.idle": "2024-11-20T17:25:18.578170Z",
          "shell.execute_reply": "2024-11-20T17:25:18.577118Z"
        },
        "id": "9c2d98b6",
        "papermill": {
          "duration": 1.250255,
          "end_time": "2024-11-20T17:25:18.580655",
          "exception": false,
          "start_time": "2024-11-20T17:25:17.330400",
          "status": "completed"
        },
        "tags": []
      },
      "outputs": [],
      "source": [
        "from xgboost import XGBClassifier"
      ]
    },
    {
      "cell_type": "code",
      "execution_count": null,
      "id": "626ceb1a",
      "metadata": {
        "execution": {
          "iopub.execute_input": "2024-11-20T17:25:20.572949Z",
          "iopub.status.busy": "2024-11-20T17:25:20.572516Z",
          "iopub.status.idle": "2024-11-20T17:25:20.577790Z",
          "shell.execute_reply": "2024-11-20T17:25:20.576760Z"
        },
        "id": "626ceb1a",
        "papermill": {
          "duration": 1.043073,
          "end_time": "2024-11-20T17:25:20.580204",
          "exception": false,
          "start_time": "2024-11-20T17:25:19.537131",
          "status": "completed"
        },
        "tags": []
      },
      "outputs": [],
      "source": [
        "clf_model = XGBClassifier(n_estimators=500, max_depth=5, objective=\"multi:softmax\")"
      ]
    },
    {
      "cell_type": "code",
      "execution_count": null,
      "id": "6eaf2435",
      "metadata": {
        "execution": {
          "iopub.execute_input": "2024-11-20T17:25:22.655611Z",
          "iopub.status.busy": "2024-11-20T17:25:22.655182Z",
          "iopub.status.idle": "2024-11-20T17:25:23.057111Z",
          "shell.execute_reply": "2024-11-20T17:25:23.055898Z"
        },
        "id": "6eaf2435",
        "papermill": {
          "duration": 1.442238,
          "end_time": "2024-11-20T17:25:23.059539",
          "exception": false,
          "start_time": "2024-11-20T17:25:21.617301",
          "status": "completed"
        },
        "tags": []
      },
      "outputs": [],
      "source": [
        "X_train = new_df[df[\"train\"]].drop([\"results\"], axis=1)\n",
        "y_train = new_df[df[\"train\"]].results\n",
        "X_val = new_df[~df[\"train\"]].drop([\"results\"], axis=1)\n",
        "y_val = new_df[~df[\"train\"]].results"
      ]
    },
    {
      "cell_type": "code",
      "execution_count": null,
      "id": "1633f974",
      "metadata": {
        "execution": {
          "iopub.execute_input": "2024-11-20T17:25:25.095435Z",
          "iopub.status.busy": "2024-11-20T17:25:25.094528Z",
          "iopub.status.idle": "2024-11-20T17:27:04.671375Z",
          "shell.execute_reply": "2024-11-20T17:27:04.669983Z"
        },
        "id": "1633f974",
        "outputId": "814bdeea-4ef6-4d2a-cc84-3731c4f59cf7",
        "papermill": {
          "duration": 101.674725,
          "end_time": "2024-11-20T17:27:05.726047",
          "exception": false,
          "start_time": "2024-11-20T17:25:24.051322",
          "status": "completed"
        },
        "tags": []
      },
      "outputs": [
        {
          "data": {
            "text/html": [
              "<style>#sk-container-id-1 {color: black;background-color: white;}#sk-container-id-1 pre{padding: 0;}#sk-container-id-1 div.sk-toggleable {background-color: white;}#sk-container-id-1 label.sk-toggleable__label {cursor: pointer;display: block;width: 100%;margin-bottom: 0;padding: 0.3em;box-sizing: border-box;text-align: center;}#sk-container-id-1 label.sk-toggleable__label-arrow:before {content: \"▸\";float: left;margin-right: 0.25em;color: #696969;}#sk-container-id-1 label.sk-toggleable__label-arrow:hover:before {color: black;}#sk-container-id-1 div.sk-estimator:hover label.sk-toggleable__label-arrow:before {color: black;}#sk-container-id-1 div.sk-toggleable__content {max-height: 0;max-width: 0;overflow: hidden;text-align: left;background-color: #f0f8ff;}#sk-container-id-1 div.sk-toggleable__content pre {margin: 0.2em;color: black;border-radius: 0.25em;background-color: #f0f8ff;}#sk-container-id-1 input.sk-toggleable__control:checked~div.sk-toggleable__content {max-height: 200px;max-width: 100%;overflow: auto;}#sk-container-id-1 input.sk-toggleable__control:checked~label.sk-toggleable__label-arrow:before {content: \"▾\";}#sk-container-id-1 div.sk-estimator input.sk-toggleable__control:checked~label.sk-toggleable__label {background-color: #d4ebff;}#sk-container-id-1 div.sk-label input.sk-toggleable__control:checked~label.sk-toggleable__label {background-color: #d4ebff;}#sk-container-id-1 input.sk-hidden--visually {border: 0;clip: rect(1px 1px 1px 1px);clip: rect(1px, 1px, 1px, 1px);height: 1px;margin: -1px;overflow: hidden;padding: 0;position: absolute;width: 1px;}#sk-container-id-1 div.sk-estimator {font-family: monospace;background-color: #f0f8ff;border: 1px dotted black;border-radius: 0.25em;box-sizing: border-box;margin-bottom: 0.5em;}#sk-container-id-1 div.sk-estimator:hover {background-color: #d4ebff;}#sk-container-id-1 div.sk-parallel-item::after {content: \"\";width: 100%;border-bottom: 1px solid gray;flex-grow: 1;}#sk-container-id-1 div.sk-label:hover label.sk-toggleable__label {background-color: #d4ebff;}#sk-container-id-1 div.sk-serial::before {content: \"\";position: absolute;border-left: 1px solid gray;box-sizing: border-box;top: 0;bottom: 0;left: 50%;z-index: 0;}#sk-container-id-1 div.sk-serial {display: flex;flex-direction: column;align-items: center;background-color: white;padding-right: 0.2em;padding-left: 0.2em;position: relative;}#sk-container-id-1 div.sk-item {position: relative;z-index: 1;}#sk-container-id-1 div.sk-parallel {display: flex;align-items: stretch;justify-content: center;background-color: white;position: relative;}#sk-container-id-1 div.sk-item::before, #sk-container-id-1 div.sk-parallel-item::before {content: \"\";position: absolute;border-left: 1px solid gray;box-sizing: border-box;top: 0;bottom: 0;left: 50%;z-index: -1;}#sk-container-id-1 div.sk-parallel-item {display: flex;flex-direction: column;z-index: 1;position: relative;background-color: white;}#sk-container-id-1 div.sk-parallel-item:first-child::after {align-self: flex-end;width: 50%;}#sk-container-id-1 div.sk-parallel-item:last-child::after {align-self: flex-start;width: 50%;}#sk-container-id-1 div.sk-parallel-item:only-child::after {width: 0;}#sk-container-id-1 div.sk-dashed-wrapped {border: 1px dashed gray;margin: 0 0.4em 0.5em 0.4em;box-sizing: border-box;padding-bottom: 0.4em;background-color: white;}#sk-container-id-1 div.sk-label label {font-family: monospace;font-weight: bold;display: inline-block;line-height: 1.2em;}#sk-container-id-1 div.sk-label-container {text-align: center;}#sk-container-id-1 div.sk-container {/* jupyter's `normalize.less` sets `[hidden] { display: none; }` but bootstrap.min.css set `[hidden] { display: none !important; }` so we also need the `!important` here to be able to override the default hidden behavior on the sphinx rendered scikit-learn.org. See: https://github.com/scikit-learn/scikit-learn/issues/21755 */display: inline-block !important;position: relative;}#sk-container-id-1 div.sk-text-repr-fallback {display: none;}</style><div id=\"sk-container-id-1\" class=\"sk-top-container\"><div class=\"sk-text-repr-fallback\"><pre>XGBClassifier(base_score=None, booster=None, callbacks=None,\n",
              "              colsample_bylevel=None, colsample_bynode=None,\n",
              "              colsample_bytree=None, device=None, early_stopping_rounds=None,\n",
              "              enable_categorical=False, eval_metric=None, feature_types=None,\n",
              "              gamma=None, grow_policy=None, importance_type=None,\n",
              "              interaction_constraints=None, learning_rate=None, max_bin=None,\n",
              "              max_cat_threshold=None, max_cat_to_onehot=None,\n",
              "              max_delta_step=None, max_depth=5, max_leaves=None,\n",
              "              min_child_weight=None, missing=nan, monotone_constraints=None,\n",
              "              multi_strategy=None, n_estimators=500, n_jobs=None,\n",
              "              num_parallel_tree=None, objective=&#x27;multi:softmax&#x27;, ...)</pre><b>In a Jupyter environment, please rerun this cell to show the HTML representation or trust the notebook. <br />On GitHub, the HTML representation is unable to render, please try loading this page with nbviewer.org.</b></div><div class=\"sk-container\" hidden><div class=\"sk-item\"><div class=\"sk-estimator sk-toggleable\"><input class=\"sk-toggleable__control sk-hidden--visually\" id=\"sk-estimator-id-1\" type=\"checkbox\" checked><label for=\"sk-estimator-id-1\" class=\"sk-toggleable__label sk-toggleable__label-arrow\">XGBClassifier</label><div class=\"sk-toggleable__content\"><pre>XGBClassifier(base_score=None, booster=None, callbacks=None,\n",
              "              colsample_bylevel=None, colsample_bynode=None,\n",
              "              colsample_bytree=None, device=None, early_stopping_rounds=None,\n",
              "              enable_categorical=False, eval_metric=None, feature_types=None,\n",
              "              gamma=None, grow_policy=None, importance_type=None,\n",
              "              interaction_constraints=None, learning_rate=None, max_bin=None,\n",
              "              max_cat_threshold=None, max_cat_to_onehot=None,\n",
              "              max_delta_step=None, max_depth=5, max_leaves=None,\n",
              "              min_child_weight=None, missing=nan, monotone_constraints=None,\n",
              "              multi_strategy=None, n_estimators=500, n_jobs=None,\n",
              "              num_parallel_tree=None, objective=&#x27;multi:softmax&#x27;, ...)</pre></div></div></div></div></div>"
            ],
            "text/plain": [
              "XGBClassifier(base_score=None, booster=None, callbacks=None,\n",
              "              colsample_bylevel=None, colsample_bynode=None,\n",
              "              colsample_bytree=None, device=None, early_stopping_rounds=None,\n",
              "              enable_categorical=False, eval_metric=None, feature_types=None,\n",
              "              gamma=None, grow_policy=None, importance_type=None,\n",
              "              interaction_constraints=None, learning_rate=None, max_bin=None,\n",
              "              max_cat_threshold=None, max_cat_to_onehot=None,\n",
              "              max_delta_step=None, max_depth=5, max_leaves=None,\n",
              "              min_child_weight=None, missing=nan, monotone_constraints=None,\n",
              "              multi_strategy=None, n_estimators=500, n_jobs=None,\n",
              "              num_parallel_tree=None, objective='multi:softmax', ...)"
            ]
          },
          "execution_count": 43,
          "metadata": {},
          "output_type": "execute_result"
        }
      ],
      "source": [
        "clf_model.fit(X_train, y_train, verbose=1)"
      ]
    },
    {
      "cell_type": "markdown",
      "id": "db269661",
      "metadata": {
        "id": "db269661",
        "papermill": {
          "duration": 1.048793,
          "end_time": "2024-11-20T17:27:07.754986",
          "exception": false,
          "start_time": "2024-11-20T17:27:06.706193",
          "status": "completed"
        },
        "tags": []
      },
      "source": [
        "Result"
      ]
    },
    {
      "cell_type": "code",
      "execution_count": null,
      "id": "268ba35e",
      "metadata": {
        "execution": {
          "iopub.execute_input": "2024-11-20T17:27:09.825749Z",
          "iopub.status.busy": "2024-11-20T17:27:09.825338Z",
          "iopub.status.idle": "2024-11-20T17:27:11.455549Z",
          "shell.execute_reply": "2024-11-20T17:27:11.453004Z"
        },
        "id": "268ba35e",
        "outputId": "394d39a3-8aa2-4a60-ff37-78792a569bcb",
        "papermill": {
          "duration": 2.629173,
          "end_time": "2024-11-20T17:27:11.458478",
          "exception": false,
          "start_time": "2024-11-20T17:27:08.829305",
          "status": "completed"
        },
        "tags": []
      },
      "outputs": [
        {
          "data": {
            "text/plain": [
              "0.5283765078109551"
            ]
          },
          "execution_count": 44,
          "metadata": {},
          "output_type": "execute_result"
        }
      ],
      "source": [
        "from sklearn import metrics\n",
        "metrics.accuracy_score(y_val, clf_model.predict(X_val))"
      ]
    },
    {
      "cell_type": "markdown",
      "id": "ffd553ad",
      "metadata": {
        "id": "ffd553ad",
        "papermill": {
          "duration": 1.106719,
          "end_time": "2024-11-20T17:27:13.640235",
          "exception": false,
          "start_time": "2024-11-20T17:27:12.533516",
          "status": "completed"
        },
        "tags": []
      },
      "source": [
        "### Graph embedings"
      ]
    },
    {
      "cell_type": "markdown",
      "id": "0bc52b56",
      "metadata": {
        "id": "0bc52b56",
        "papermill": {
          "duration": 2.535284,
          "end_time": "2024-11-20T17:27:17.230576",
          "exception": false,
          "start_time": "2024-11-20T17:27:14.695292",
          "status": "completed"
        },
        "tags": []
      },
      "source": [
        "Now we create a function that extracts the features (knowledge embeddings for home and away teams) and the target for a particular subset of the dataset:"
      ]
    },
    {
      "cell_type": "code",
      "execution_count": null,
      "id": "ed442439",
      "metadata": {
        "execution": {
          "iopub.execute_input": "2024-11-20T17:27:21.481169Z",
          "iopub.status.busy": "2024-11-20T17:27:21.479649Z",
          "iopub.status.idle": "2024-11-20T17:27:21.488161Z",
          "shell.execute_reply": "2024-11-20T17:27:21.486360Z"
        },
        "id": "ed442439",
        "papermill": {
          "duration": 1.416694,
          "end_time": "2024-11-20T17:27:21.490680",
          "exception": false,
          "start_time": "2024-11-20T17:27:20.073986",
          "status": "completed"
        },
        "tags": []
      },
      "outputs": [],
      "source": [
        "def get_features_target(mask):\n",
        "\n",
        "    def get_embeddings(team):\n",
        "        return team_embeddings.get(team, np.full(200, np.nan))\n",
        "\n",
        "    X = np.hstack((np.vstack(df[mask].home_team_id.apply(get_embeddings).values),\n",
        "                   np.vstack(df[mask].away_team_id.apply(get_embeddings).values)))\n",
        "    y = df[mask].results.values\n",
        "    return X, y"
      ]
    },
    {
      "cell_type": "code",
      "execution_count": null,
      "id": "94eddca8",
      "metadata": {
        "execution": {
          "iopub.execute_input": "2024-11-20T17:27:24.575215Z",
          "iopub.status.busy": "2024-11-20T17:27:24.574373Z",
          "iopub.status.idle": "2024-11-20T17:27:25.204044Z",
          "shell.execute_reply": "2024-11-20T17:27:25.202495Z"
        },
        "id": "94eddca8",
        "papermill": {
          "duration": 2.119904,
          "end_time": "2024-11-20T17:27:25.207406",
          "exception": false,
          "start_time": "2024-11-20T17:27:23.087502",
          "status": "completed"
        },
        "tags": []
      },
      "outputs": [],
      "source": [
        "clf_X_train, y_train = get_features_target((df[\"train\"]))\n",
        "clf_X_test, y_test = get_features_target((~df[\"train\"]))"
      ]
    },
    {
      "cell_type": "code",
      "execution_count": null,
      "id": "49e92d7b",
      "metadata": {
        "execution": {
          "iopub.execute_input": "2024-11-20T17:27:27.956602Z",
          "iopub.status.busy": "2024-11-20T17:27:27.955758Z",
          "iopub.status.idle": "2024-11-20T17:27:27.968989Z",
          "shell.execute_reply": "2024-11-20T17:27:27.965697Z"
        },
        "id": "49e92d7b",
        "outputId": "489dd96e-df7a-4852-baa1-ac8bb1a9dd69",
        "papermill": {
          "duration": 1.506684,
          "end_time": "2024-11-20T17:27:27.974237",
          "exception": false,
          "start_time": "2024-11-20T17:27:26.467553",
          "status": "completed"
        },
        "tags": []
      },
      "outputs": [
        {
          "data": {
            "text/plain": [
              "((35714, 400), (5057, 400))"
            ]
          },
          "execution_count": 47,
          "metadata": {},
          "output_type": "execute_result"
        }
      ],
      "source": [
        "clf_X_train.shape, clf_X_test.shape"
      ]
    },
    {
      "cell_type": "markdown",
      "id": "174048c2",
      "metadata": {
        "id": "174048c2",
        "papermill": {
          "duration": 1.365767,
          "end_time": "2024-11-20T17:27:30.948106",
          "exception": false,
          "start_time": "2024-11-20T17:27:29.582339",
          "status": "completed"
        },
        "tags": []
      },
      "source": [
        "Note that we have 200 features by team because the ComplEx model uses imaginary and real number for its embeddings, so we have twice as many parameters as defined by `k=100` in its model definition.\n",
        "\n",
        "We also have some missing information from the embeddings of the entities (i.e. teams) that only appear in the test set, which are unlikely to be correctly classified:"
      ]
    },
    {
      "cell_type": "code",
      "execution_count": null,
      "id": "698ce951",
      "metadata": {
        "execution": {
          "iopub.execute_input": "2024-11-20T17:27:33.814193Z",
          "iopub.status.busy": "2024-11-20T17:27:33.813762Z",
          "iopub.status.idle": "2024-11-20T17:27:33.823926Z",
          "shell.execute_reply": "2024-11-20T17:27:33.822785Z"
        },
        "id": "698ce951",
        "outputId": "c589c817-27e8-432f-bd1e-60408b967324",
        "papermill": {
          "duration": 1.380523,
          "end_time": "2024-11-20T17:27:33.826277",
          "exception": false,
          "start_time": "2024-11-20T17:27:32.445754",
          "status": "completed"
        },
        "tags": []
      },
      "outputs": [
        {
          "data": {
            "text/plain": [
              "105.0"
            ]
          },
          "execution_count": 48,
          "metadata": {},
          "output_type": "execute_result"
        }
      ],
      "source": [
        "np.isnan(clf_X_test).sum()/clf_X_test.shape[1]"
      ]
    },
    {
      "cell_type": "markdown",
      "id": "69d37805",
      "metadata": {
        "id": "69d37805",
        "papermill": {
          "duration": 1.148818,
          "end_time": "2024-11-20T17:27:36.082874",
          "exception": false,
          "start_time": "2024-11-20T17:27:34.934056",
          "status": "completed"
        },
        "tags": []
      },
      "source": [
        "Create a multiclass model with 500 estimators:"
      ]
    },
    {
      "cell_type": "code",
      "execution_count": null,
      "id": "97f97761",
      "metadata": {
        "execution": {
          "iopub.execute_input": "2024-11-20T17:27:38.465353Z",
          "iopub.status.busy": "2024-11-20T17:27:38.463060Z",
          "iopub.status.idle": "2024-11-20T17:27:38.475906Z",
          "shell.execute_reply": "2024-11-20T17:27:38.474450Z"
        },
        "id": "97f97761",
        "papermill": {
          "duration": 1.240162,
          "end_time": "2024-11-20T17:27:38.479986",
          "exception": false,
          "start_time": "2024-11-20T17:27:37.239824",
          "status": "completed"
        },
        "tags": []
      },
      "outputs": [],
      "source": [
        "clf_model = XGBClassifier(n_estimators=500, max_depth=5, objective=\"multi:softmax\")"
      ]
    },
    {
      "cell_type": "markdown",
      "id": "db821a8e",
      "metadata": {
        "id": "db821a8e",
        "papermill": {
          "duration": 2.418567,
          "end_time": "2024-11-20T17:27:42.563278",
          "exception": false,
          "start_time": "2024-11-20T17:27:40.144711",
          "status": "completed"
        },
        "tags": []
      },
      "source": [
        "Fit the model using all of the training samples:"
      ]
    },
    {
      "cell_type": "code",
      "execution_count": null,
      "id": "5ffc6480",
      "metadata": {
        "execution": {
          "iopub.execute_input": "2024-11-20T17:27:45.004117Z",
          "iopub.status.busy": "2024-11-20T17:27:45.003674Z",
          "iopub.status.idle": "2024-11-20T17:29:04.538726Z",
          "shell.execute_reply": "2024-11-20T17:29:04.537581Z"
        },
        "id": "5ffc6480",
        "outputId": "f1880522-6598-40e9-93d7-1ba110868956",
        "papermill": {
          "duration": 81.808167,
          "end_time": "2024-11-20T17:29:05.513491",
          "exception": false,
          "start_time": "2024-11-20T17:27:43.705324",
          "status": "completed"
        },
        "tags": []
      },
      "outputs": [
        {
          "data": {
            "text/html": [
              "<style>#sk-container-id-2 {color: black;background-color: white;}#sk-container-id-2 pre{padding: 0;}#sk-container-id-2 div.sk-toggleable {background-color: white;}#sk-container-id-2 label.sk-toggleable__label {cursor: pointer;display: block;width: 100%;margin-bottom: 0;padding: 0.3em;box-sizing: border-box;text-align: center;}#sk-container-id-2 label.sk-toggleable__label-arrow:before {content: \"▸\";float: left;margin-right: 0.25em;color: #696969;}#sk-container-id-2 label.sk-toggleable__label-arrow:hover:before {color: black;}#sk-container-id-2 div.sk-estimator:hover label.sk-toggleable__label-arrow:before {color: black;}#sk-container-id-2 div.sk-toggleable__content {max-height: 0;max-width: 0;overflow: hidden;text-align: left;background-color: #f0f8ff;}#sk-container-id-2 div.sk-toggleable__content pre {margin: 0.2em;color: black;border-radius: 0.25em;background-color: #f0f8ff;}#sk-container-id-2 input.sk-toggleable__control:checked~div.sk-toggleable__content {max-height: 200px;max-width: 100%;overflow: auto;}#sk-container-id-2 input.sk-toggleable__control:checked~label.sk-toggleable__label-arrow:before {content: \"▾\";}#sk-container-id-2 div.sk-estimator input.sk-toggleable__control:checked~label.sk-toggleable__label {background-color: #d4ebff;}#sk-container-id-2 div.sk-label input.sk-toggleable__control:checked~label.sk-toggleable__label {background-color: #d4ebff;}#sk-container-id-2 input.sk-hidden--visually {border: 0;clip: rect(1px 1px 1px 1px);clip: rect(1px, 1px, 1px, 1px);height: 1px;margin: -1px;overflow: hidden;padding: 0;position: absolute;width: 1px;}#sk-container-id-2 div.sk-estimator {font-family: monospace;background-color: #f0f8ff;border: 1px dotted black;border-radius: 0.25em;box-sizing: border-box;margin-bottom: 0.5em;}#sk-container-id-2 div.sk-estimator:hover {background-color: #d4ebff;}#sk-container-id-2 div.sk-parallel-item::after {content: \"\";width: 100%;border-bottom: 1px solid gray;flex-grow: 1;}#sk-container-id-2 div.sk-label:hover label.sk-toggleable__label {background-color: #d4ebff;}#sk-container-id-2 div.sk-serial::before {content: \"\";position: absolute;border-left: 1px solid gray;box-sizing: border-box;top: 0;bottom: 0;left: 50%;z-index: 0;}#sk-container-id-2 div.sk-serial {display: flex;flex-direction: column;align-items: center;background-color: white;padding-right: 0.2em;padding-left: 0.2em;position: relative;}#sk-container-id-2 div.sk-item {position: relative;z-index: 1;}#sk-container-id-2 div.sk-parallel {display: flex;align-items: stretch;justify-content: center;background-color: white;position: relative;}#sk-container-id-2 div.sk-item::before, #sk-container-id-2 div.sk-parallel-item::before {content: \"\";position: absolute;border-left: 1px solid gray;box-sizing: border-box;top: 0;bottom: 0;left: 50%;z-index: -1;}#sk-container-id-2 div.sk-parallel-item {display: flex;flex-direction: column;z-index: 1;position: relative;background-color: white;}#sk-container-id-2 div.sk-parallel-item:first-child::after {align-self: flex-end;width: 50%;}#sk-container-id-2 div.sk-parallel-item:last-child::after {align-self: flex-start;width: 50%;}#sk-container-id-2 div.sk-parallel-item:only-child::after {width: 0;}#sk-container-id-2 div.sk-dashed-wrapped {border: 1px dashed gray;margin: 0 0.4em 0.5em 0.4em;box-sizing: border-box;padding-bottom: 0.4em;background-color: white;}#sk-container-id-2 div.sk-label label {font-family: monospace;font-weight: bold;display: inline-block;line-height: 1.2em;}#sk-container-id-2 div.sk-label-container {text-align: center;}#sk-container-id-2 div.sk-container {/* jupyter's `normalize.less` sets `[hidden] { display: none; }` but bootstrap.min.css set `[hidden] { display: none !important; }` so we also need the `!important` here to be able to override the default hidden behavior on the sphinx rendered scikit-learn.org. See: https://github.com/scikit-learn/scikit-learn/issues/21755 */display: inline-block !important;position: relative;}#sk-container-id-2 div.sk-text-repr-fallback {display: none;}</style><div id=\"sk-container-id-2\" class=\"sk-top-container\"><div class=\"sk-text-repr-fallback\"><pre>XGBClassifier(base_score=None, booster=None, callbacks=None,\n",
              "              colsample_bylevel=None, colsample_bynode=None,\n",
              "              colsample_bytree=None, device=None, early_stopping_rounds=None,\n",
              "              enable_categorical=False, eval_metric=None, feature_types=None,\n",
              "              gamma=None, grow_policy=None, importance_type=None,\n",
              "              interaction_constraints=None, learning_rate=None, max_bin=None,\n",
              "              max_cat_threshold=None, max_cat_to_onehot=None,\n",
              "              max_delta_step=None, max_depth=5, max_leaves=None,\n",
              "              min_child_weight=None, missing=nan, monotone_constraints=None,\n",
              "              multi_strategy=None, n_estimators=500, n_jobs=None,\n",
              "              num_parallel_tree=None, objective=&#x27;multi:softmax&#x27;, ...)</pre><b>In a Jupyter environment, please rerun this cell to show the HTML representation or trust the notebook. <br />On GitHub, the HTML representation is unable to render, please try loading this page with nbviewer.org.</b></div><div class=\"sk-container\" hidden><div class=\"sk-item\"><div class=\"sk-estimator sk-toggleable\"><input class=\"sk-toggleable__control sk-hidden--visually\" id=\"sk-estimator-id-2\" type=\"checkbox\" checked><label for=\"sk-estimator-id-2\" class=\"sk-toggleable__label sk-toggleable__label-arrow\">XGBClassifier</label><div class=\"sk-toggleable__content\"><pre>XGBClassifier(base_score=None, booster=None, callbacks=None,\n",
              "              colsample_bylevel=None, colsample_bynode=None,\n",
              "              colsample_bytree=None, device=None, early_stopping_rounds=None,\n",
              "              enable_categorical=False, eval_metric=None, feature_types=None,\n",
              "              gamma=None, grow_policy=None, importance_type=None,\n",
              "              interaction_constraints=None, learning_rate=None, max_bin=None,\n",
              "              max_cat_threshold=None, max_cat_to_onehot=None,\n",
              "              max_delta_step=None, max_depth=5, max_leaves=None,\n",
              "              min_child_weight=None, missing=nan, monotone_constraints=None,\n",
              "              multi_strategy=None, n_estimators=500, n_jobs=None,\n",
              "              num_parallel_tree=None, objective=&#x27;multi:softmax&#x27;, ...)</pre></div></div></div></div></div>"
            ],
            "text/plain": [
              "XGBClassifier(base_score=None, booster=None, callbacks=None,\n",
              "              colsample_bylevel=None, colsample_bynode=None,\n",
              "              colsample_bytree=None, device=None, early_stopping_rounds=None,\n",
              "              enable_categorical=False, eval_metric=None, feature_types=None,\n",
              "              gamma=None, grow_policy=None, importance_type=None,\n",
              "              interaction_constraints=None, learning_rate=None, max_bin=None,\n",
              "              max_cat_threshold=None, max_cat_to_onehot=None,\n",
              "              max_delta_step=None, max_depth=5, max_leaves=None,\n",
              "              min_child_weight=None, missing=nan, monotone_constraints=None,\n",
              "              multi_strategy=None, n_estimators=500, n_jobs=None,\n",
              "              num_parallel_tree=None, objective='multi:softmax', ...)"
            ]
          },
          "execution_count": 50,
          "metadata": {},
          "output_type": "execute_result"
        }
      ],
      "source": [
        "clf_model.fit(clf_X_train, y_train)"
      ]
    },
    {
      "cell_type": "markdown",
      "id": "8e45cc4a",
      "metadata": {
        "id": "8e45cc4a",
        "papermill": {
          "duration": 1.060984,
          "end_time": "2024-11-20T17:29:07.669642",
          "exception": false,
          "start_time": "2024-11-20T17:29:06.608658",
          "status": "completed"
        },
        "tags": []
      },
      "source": [
        "The baseline accuracy for this problem is 47%, as that is the frequency of the most frequent class (home team wins):"
      ]
    },
    {
      "cell_type": "code",
      "execution_count": null,
      "id": "a57504d9",
      "metadata": {
        "execution": {
          "iopub.execute_input": "2024-11-20T17:29:09.694753Z",
          "iopub.status.busy": "2024-11-20T17:29:09.694324Z",
          "iopub.status.idle": "2024-11-20T17:29:09.707283Z",
          "shell.execute_reply": "2024-11-20T17:29:09.706106Z"
        },
        "id": "a57504d9",
        "outputId": "1d6546dc-85a0-4ad7-e3a6-d7a1e2e4b5a3",
        "papermill": {
          "duration": 0.987727,
          "end_time": "2024-11-20T17:29:09.709475",
          "exception": false,
          "start_time": "2024-11-20T17:29:08.721748",
          "status": "completed"
        },
        "tags": []
      },
      "outputs": [
        {
          "data": {
            "text/plain": [
              "results\n",
              "0    0.471030\n",
              "2    0.287325\n",
              "1    0.241645\n",
              "Name: proportion, dtype: float64"
            ]
          },
          "execution_count": 51,
          "metadata": {},
          "output_type": "execute_result"
        }
      ],
      "source": [
        "df[~df[\"train\"]].results.value_counts(normalize=True)"
      ]
    },
    {
      "cell_type": "code",
      "execution_count": null,
      "id": "d7944117",
      "metadata": {
        "execution": {
          "iopub.execute_input": "2024-11-20T17:29:11.808836Z",
          "iopub.status.busy": "2024-11-20T17:29:11.808004Z",
          "iopub.status.idle": "2024-11-20T17:29:11.904148Z",
          "shell.execute_reply": "2024-11-20T17:29:11.901364Z"
        },
        "id": "d7944117",
        "outputId": "edc20b5d-6172-4419-ed77-03c4fa004faf",
        "papermill": {
          "duration": 1.153963,
          "end_time": "2024-11-20T17:29:11.907424",
          "exception": false,
          "start_time": "2024-11-20T17:29:10.753461",
          "status": "completed"
        },
        "tags": []
      },
      "outputs": [
        {
          "data": {
            "text/plain": [
              "0.527783270713862"
            ]
          },
          "execution_count": 52,
          "metadata": {},
          "output_type": "execute_result"
        }
      ],
      "source": [
        "metrics.accuracy_score(y_test, clf_model.predict(clf_X_test))"
      ]
    },
    {
      "cell_type": "markdown",
      "id": "c5750af9",
      "metadata": {
        "id": "c5750af9",
        "papermill": {
          "duration": 1.06853,
          "end_time": "2024-11-20T17:29:13.945278",
          "exception": false,
          "start_time": "2024-11-20T17:29:12.876748",
          "status": "completed"
        },
        "tags": []
      },
      "source": [
        "In conclusion, while the baseline for this classification problem was 47%, with just the knowledge embeddings alone we were able to build a classifier that achieves **53%** accuracy.\n",
        "\n",
        "As future work, we could add more features to the model (not embeddings related) and tune the model hyper-parameters."
      ]
    },
    {
      "cell_type": "markdown",
      "id": "5f1226fb",
      "metadata": {
        "id": "5f1226fb",
        "papermill": {
          "duration": 1.041268,
          "end_time": "2024-11-20T17:29:16.027743",
          "exception": false,
          "start_time": "2024-11-20T17:29:14.986475",
          "status": "completed"
        },
        "tags": []
      },
      "source": [
        "## Link prediction"
      ]
    },
    {
      "cell_type": "markdown",
      "id": "cca16f44",
      "metadata": {
        "id": "cca16f44",
        "papermill": {
          "duration": 1.040429,
          "end_time": "2024-11-20T17:29:18.045762",
          "exception": false,
          "start_time": "2024-11-20T17:29:17.005333",
          "status": "completed"
        },
        "tags": []
      },
      "source": [
        "Link prediction allows us to infer missing links in a graph.\n",
        "\n",
        "In our case, we're going to predict match result.\n",
        "Choose match that exist in train dataset."
      ]
    },
    {
      "cell_type": "code",
      "execution_count": null,
      "id": "44dbd2b7",
      "metadata": {
        "execution": {
          "iopub.execute_input": "2024-11-20T17:29:20.149736Z",
          "iopub.status.busy": "2024-11-20T17:29:20.149347Z",
          "iopub.status.idle": "2024-11-20T17:29:23.570736Z",
          "shell.execute_reply": "2024-11-20T17:29:23.569739Z"
        },
        "id": "44dbd2b7",
        "papermill": {
          "duration": 4.477945,
          "end_time": "2024-11-20T17:29:23.573142",
          "exception": false,
          "start_time": "2024-11-20T17:29:19.095197",
          "status": "completed"
        },
        "tags": []
      },
      "outputs": [],
      "source": [
        "X_train, X_valid = train_test_split_no_unseen(np.array(triples), test_size=10000)"
      ]
    },
    {
      "cell_type": "code",
      "execution_count": null,
      "id": "4ba7fe39",
      "metadata": {
        "execution": {
          "iopub.execute_input": "2024-11-20T17:29:25.594689Z",
          "iopub.status.busy": "2024-11-20T17:29:25.594315Z",
          "iopub.status.idle": "2024-11-20T17:29:25.816564Z",
          "shell.execute_reply": "2024-11-20T17:29:25.815308Z"
        },
        "id": "4ba7fe39",
        "outputId": "9679f636-f081-47bc-d464-6a4d3c6bfc26",
        "papermill": {
          "duration": 1.267607,
          "end_time": "2024-11-20T17:29:25.818732",
          "exception": false,
          "start_time": "2024-11-20T17:29:24.551125",
          "status": "completed"
        },
        "tags": []
      },
      "outputs": [
        {
          "name": "stdout",
          "output_type": "stream",
          "text": [
            "          subject     predicate              object\n",
            "102407  Match1324    awayScores                   1\n",
            "116179  Match1324     inCountry       CountryBrazil\n",
            "126093  Match1324    homeScores                   4\n",
            "158124  Match1324  inTournament  TournamentFriendly\n",
            "172564  Match1324        inCity    CityRioDeJaneiro\n",
            "266651  Match1324     isNeutral               False\n"
          ]
        }
      ],
      "source": [
        "df = pd.DataFrame(X_train,columns = ['subject','predicate','object'])\n",
        "matchSubject = \"Match1324\"\n",
        "print(df[df.subject==matchSubject])"
      ]
    },
    {
      "cell_type": "markdown",
      "id": "03c91add",
      "metadata": {
        "id": "03c91add",
        "papermill": {
          "duration": 0.979962,
          "end_time": "2024-11-20T17:29:27.859115",
          "exception": false,
          "start_time": "2024-11-20T17:29:26.879153",
          "status": "completed"
        },
        "tags": []
      },
      "source": [
        "Remove result for this match from train dataframe."
      ]
    },
    {
      "cell_type": "code",
      "execution_count": null,
      "id": "dd9df8e9",
      "metadata": {
        "execution": {
          "iopub.execute_input": "2024-11-20T17:29:29.991236Z",
          "iopub.status.busy": "2024-11-20T17:29:29.990812Z",
          "iopub.status.idle": "2024-11-20T17:29:30.164465Z",
          "shell.execute_reply": "2024-11-20T17:29:30.162718Z"
        },
        "id": "dd9df8e9",
        "papermill": {
          "duration": 1.245427,
          "end_time": "2024-11-20T17:29:30.167139",
          "exception": false,
          "start_time": "2024-11-20T17:29:28.921712",
          "status": "completed"
        },
        "tags": []
      },
      "outputs": [],
      "source": [
        "dfFiltered = np.array(df[(df.subject!=matchSubject) | ((df.subject==matchSubject) & ~df.predicate.isin([\"homeScores\",\"awayScores\"]))])"
      ]
    },
    {
      "cell_type": "markdown",
      "id": "d5a26ea6",
      "metadata": {
        "id": "d5a26ea6",
        "papermill": {
          "duration": 1.056927,
          "end_time": "2024-11-20T17:29:32.219384",
          "exception": false,
          "start_time": "2024-11-20T17:29:31.162457",
          "status": "completed"
        },
        "tags": []
      },
      "source": [
        "Fit model on triples without results for current match."
      ]
    },
    {
      "cell_type": "code",
      "execution_count": null,
      "id": "1b2bb4aa",
      "metadata": {
        "execution": {
          "iopub.execute_input": "2024-11-20T17:29:34.402667Z",
          "iopub.status.busy": "2024-11-20T17:29:34.402244Z",
          "iopub.status.idle": "2024-11-20T18:40:35.854773Z",
          "shell.execute_reply": "2024-11-20T18:40:35.852735Z"
        },
        "id": "1b2bb4aa",
        "outputId": "318ce38c-db3e-4eff-b9b3-5ab66c2be448",
        "papermill": {
          "duration": 4265.994837,
          "end_time": "2024-11-20T18:40:39.282784",
          "exception": false,
          "start_time": "2024-11-20T17:29:33.287947",
          "status": "completed"
        },
        "tags": []
      },
      "outputs": [
        {
          "name": "stdout",
          "output_type": "stream",
          "text": [
            "Epoch 1/100\n",
            "384/384 [==============================] - 41s 108ms/step - loss: 5672.3242\n",
            "Epoch 2/100\n",
            "384/384 [==============================] - 41s 106ms/step - loss: 5542.9214\n",
            "Epoch 3/100\n",
            "384/384 [==============================] - 41s 106ms/step - loss: 5419.5327\n",
            "Epoch 4/100\n",
            "384/384 [==============================] - 42s 111ms/step - loss: 5301.7891\n",
            "Epoch 5/100\n",
            "384/384 [==============================] - 42s 111ms/step - loss: 5189.2979\n",
            "Epoch 6/100\n",
            "384/384 [==============================] - 41s 108ms/step - loss: 5081.7212\n",
            "Epoch 7/100\n",
            "384/384 [==============================] - 41s 106ms/step - loss: 4978.7417\n",
            "Epoch 8/100\n",
            "384/384 [==============================] - 41s 107ms/step - loss: 4880.0381\n",
            "Epoch 9/100\n",
            "384/384 [==============================] - 41s 106ms/step - loss: 4785.3955\n",
            "Epoch 10/100\n",
            "384/384 [==============================] - 41s 106ms/step - loss: 4694.5400\n",
            "Epoch 11/100\n",
            "384/384 [==============================] - 41s 107ms/step - loss: 4607.2554\n",
            "Epoch 12/100\n",
            "384/384 [==============================] - 41s 107ms/step - loss: 4523.3296\n",
            "Epoch 13/100\n",
            "384/384 [==============================] - 40s 105ms/step - loss: 4442.5845\n",
            "Epoch 14/100\n",
            "384/384 [==============================] - 41s 106ms/step - loss: 4364.8257\n",
            "Epoch 15/100\n",
            "384/384 [==============================] - 42s 110ms/step - loss: 4289.9062\n",
            "Epoch 16/100\n",
            "384/384 [==============================] - 45s 117ms/step - loss: 4217.6509\n",
            "Epoch 17/100\n",
            "384/384 [==============================] - 42s 108ms/step - loss: 4147.9448\n",
            "Epoch 18/100\n",
            "384/384 [==============================] - 41s 107ms/step - loss: 4080.6362\n",
            "Epoch 19/100\n",
            "384/384 [==============================] - 42s 109ms/step - loss: 4015.6162\n",
            "Epoch 20/100\n",
            "384/384 [==============================] - 41s 107ms/step - loss: 3952.7656\n",
            "Epoch 21/100\n",
            "384/384 [==============================] - 41s 107ms/step - loss: 3891.9773\n",
            "Epoch 22/100\n",
            "384/384 [==============================] - 41s 107ms/step - loss: 3833.1467\n",
            "Epoch 23/100\n",
            "384/384 [==============================] - 42s 109ms/step - loss: 3776.1802\n",
            "Epoch 24/100\n",
            "384/384 [==============================] - 42s 109ms/step - loss: 3720.9944\n",
            "Epoch 25/100\n",
            "384/384 [==============================] - 42s 109ms/step - loss: 3667.5193\n",
            "Epoch 26/100\n",
            "384/384 [==============================] - 42s 108ms/step - loss: 3615.6492\n",
            "Epoch 27/100\n",
            "384/384 [==============================] - 42s 108ms/step - loss: 3565.3276\n",
            "Epoch 28/100\n",
            "384/384 [==============================] - 41s 106ms/step - loss: 3516.4824\n",
            "Epoch 29/100\n",
            "384/384 [==============================] - 41s 107ms/step - loss: 3469.0630\n",
            "Epoch 30/100\n",
            "384/384 [==============================] - 41s 107ms/step - loss: 3422.9968\n",
            "Epoch 31/100\n",
            "384/384 [==============================] - 42s 108ms/step - loss: 3378.2178\n",
            "Epoch 32/100\n",
            "384/384 [==============================] - 42s 109ms/step - loss: 3334.6934\n",
            "Epoch 33/100\n",
            "384/384 [==============================] - 42s 109ms/step - loss: 3292.3687\n",
            "Epoch 34/100\n",
            "384/384 [==============================] - 41s 107ms/step - loss: 3251.1868\n",
            "Epoch 35/100\n",
            "384/384 [==============================] - 41s 107ms/step - loss: 3211.0938\n",
            "Epoch 36/100\n",
            "384/384 [==============================] - 42s 108ms/step - loss: 3172.0579\n",
            "Epoch 37/100\n",
            "384/384 [==============================] - 41s 108ms/step - loss: 3134.0347\n",
            "Epoch 38/100\n",
            "384/384 [==============================] - 41s 107ms/step - loss: 3096.9863\n",
            "Epoch 39/100\n",
            "384/384 [==============================] - 41s 107ms/step - loss: 3060.8772\n",
            "Epoch 40/100\n",
            "384/384 [==============================] - 42s 109ms/step - loss: 3025.6729\n",
            "Epoch 41/100\n",
            "384/384 [==============================] - 42s 109ms/step - loss: 2991.3320\n",
            "Epoch 42/100\n",
            "384/384 [==============================] - 41s 108ms/step - loss: 2957.8284\n",
            "Epoch 43/100\n",
            "384/384 [==============================] - 41s 107ms/step - loss: 2925.1316\n",
            "Epoch 44/100\n",
            "384/384 [==============================] - 41s 107ms/step - loss: 2893.2300\n",
            "Epoch 45/100\n",
            "384/384 [==============================] - 42s 108ms/step - loss: 2862.0642\n",
            "Epoch 46/100\n",
            "384/384 [==============================] - 42s 110ms/step - loss: 2831.6265\n",
            "Epoch 47/100\n",
            "384/384 [==============================] - 41s 108ms/step - loss: 2801.8804\n",
            "Epoch 48/100\n",
            "384/384 [==============================] - 42s 109ms/step - loss: 2772.8125\n",
            "Epoch 49/100\n",
            "384/384 [==============================] - 42s 110ms/step - loss: 2744.4050\n",
            "Epoch 50/100\n",
            "384/384 [==============================] - 42s 109ms/step - loss: 2716.6292\n",
            "Epoch 51/100\n",
            "384/384 [==============================] - 42s 109ms/step - loss: 2689.4600\n",
            "Epoch 52/100\n",
            "384/384 [==============================] - 42s 109ms/step - loss: 2662.8796\n",
            "Epoch 53/100\n",
            "384/384 [==============================] - 42s 108ms/step - loss: 2636.8711\n",
            "Epoch 54/100\n",
            "384/384 [==============================] - 42s 109ms/step - loss: 2611.4165\n",
            "Epoch 55/100\n",
            "384/384 [==============================] - 43s 112ms/step - loss: 2586.5010\n",
            "Epoch 56/100\n",
            "384/384 [==============================] - 42s 109ms/step - loss: 2562.0974\n",
            "Epoch 57/100\n",
            "384/384 [==============================] - 42s 110ms/step - loss: 2538.1978\n",
            "Epoch 58/100\n",
            "384/384 [==============================] - 42s 109ms/step - loss: 2514.7874\n",
            "Epoch 59/100\n",
            "384/384 [==============================] - 41s 108ms/step - loss: 2491.8521\n",
            "Epoch 60/100\n",
            "384/384 [==============================] - 41s 108ms/step - loss: 2469.3765\n",
            "Epoch 61/100\n",
            "384/384 [==============================] - 41s 108ms/step - loss: 2447.3450\n",
            "Epoch 62/100\n",
            "384/384 [==============================] - 43s 111ms/step - loss: 2425.7405\n",
            "Epoch 63/100\n",
            "384/384 [==============================] - 41s 106ms/step - loss: 2404.5598\n",
            "Epoch 64/100\n",
            "384/384 [==============================] - 40s 105ms/step - loss: 2383.7957\n",
            "Epoch 65/100\n",
            "384/384 [==============================] - 41s 106ms/step - loss: 2363.4209\n",
            "Epoch 66/100\n",
            "384/384 [==============================] - 42s 111ms/step - loss: 2343.4324\n",
            "Epoch 67/100\n",
            "384/384 [==============================] - 42s 109ms/step - loss: 2323.8152\n",
            "Epoch 68/100\n",
            "384/384 [==============================] - 43s 111ms/step - loss: 2304.5601\n",
            "Epoch 69/100\n",
            "384/384 [==============================] - 42s 108ms/step - loss: 2285.6541\n",
            "Epoch 70/100\n",
            "384/384 [==============================] - 41s 107ms/step - loss: 2267.0996\n",
            "Epoch 71/100\n",
            "384/384 [==============================] - 41s 108ms/step - loss: 2248.8740\n",
            "Epoch 72/100\n",
            "384/384 [==============================] - 41s 107ms/step - loss: 2230.9717\n",
            "Epoch 73/100\n",
            "384/384 [==============================] - 41s 106ms/step - loss: 2213.3923\n",
            "Epoch 74/100\n",
            "384/384 [==============================] - 41s 106ms/step - loss: 2196.1152\n",
            "Epoch 75/100\n",
            "384/384 [==============================] - 42s 110ms/step - loss: 2179.1455\n",
            "Epoch 76/100\n",
            "384/384 [==============================] - 41s 106ms/step - loss: 2162.4639\n",
            "Epoch 77/100\n",
            "384/384 [==============================] - 41s 106ms/step - loss: 2146.0684\n",
            "Epoch 78/100\n",
            "384/384 [==============================] - 41s 107ms/step - loss: 2129.9502\n",
            "Epoch 79/100\n",
            "384/384 [==============================] - 41s 108ms/step - loss: 2114.1021\n",
            "Epoch 80/100\n",
            "384/384 [==============================] - 41s 106ms/step - loss: 2098.5176\n",
            "Epoch 81/100\n",
            "384/384 [==============================] - 40s 105ms/step - loss: 2083.1909\n",
            "Epoch 82/100\n",
            "384/384 [==============================] - 41s 108ms/step - loss: 2068.1145\n",
            "Epoch 83/100\n",
            "384/384 [==============================] - 42s 108ms/step - loss: 2053.2849\n",
            "Epoch 84/100\n",
            "384/384 [==============================] - 41s 105ms/step - loss: 2038.6945\n",
            "Epoch 85/100\n",
            "384/384 [==============================] - 41s 107ms/step - loss: 2024.3402\n",
            "Epoch 86/100\n",
            "384/384 [==============================] - 41s 107ms/step - loss: 2010.2092\n",
            "Epoch 87/100\n",
            "384/384 [==============================] - 41s 106ms/step - loss: 1996.3044\n",
            "Epoch 88/100\n",
            "384/384 [==============================] - 40s 105ms/step - loss: 1982.6171\n",
            "Epoch 89/100\n",
            "384/384 [==============================] - 40s 105ms/step - loss: 1969.1378\n",
            "Epoch 90/100\n",
            "384/384 [==============================] - 40s 105ms/step - loss: 1955.8693\n",
            "Epoch 91/100\n",
            "384/384 [==============================] - 41s 107ms/step - loss: 1942.7988\n",
            "Epoch 92/100\n",
            "384/384 [==============================] - 41s 106ms/step - loss: 1929.9260\n",
            "Epoch 93/100\n",
            "384/384 [==============================] - 41s 107ms/step - loss: 1917.2523\n",
            "Epoch 94/100\n",
            "384/384 [==============================] - 41s 105ms/step - loss: 1904.7622\n",
            "Epoch 95/100\n",
            "384/384 [==============================] - 41s 107ms/step - loss: 1892.4604\n",
            "Epoch 96/100\n",
            "384/384 [==============================] - 41s 107ms/step - loss: 1880.3397\n",
            "Epoch 97/100\n",
            "384/384 [==============================] - 41s 107ms/step - loss: 1868.3950\n",
            "Epoch 98/100\n",
            "384/384 [==============================] - 41s 106ms/step - loss: 1856.6204\n",
            "Epoch 99/100\n",
            "384/384 [==============================] - 41s 106ms/step - loss: 1845.0166\n",
            "Epoch 100/100\n",
            "384/384 [==============================] - 41s 108ms/step - loss: 1833.5797\n"
          ]
        },
        {
          "data": {
            "text/plain": [
              "<tensorflow.python.keras.callbacks.History at 0x7c4f03886350>"
            ]
          },
          "execution_count": 56,
          "metadata": {},
          "output_type": "execute_result"
        }
      ],
      "source": [
        "model.fit(dfFiltered)"
      ]
    },
    {
      "cell_type": "markdown",
      "id": "8014f075",
      "metadata": {
        "id": "8014f075",
        "papermill": {
          "duration": 3.458151,
          "end_time": "2024-11-20T18:40:46.166947",
          "exception": false,
          "start_time": "2024-11-20T18:40:42.708796",
          "status": "completed"
        },
        "tags": []
      },
      "source": [
        "We can create a few statements for this match result."
      ]
    },
    {
      "cell_type": "code",
      "execution_count": null,
      "id": "b2e04c09",
      "metadata": {
        "execution": {
          "iopub.execute_input": "2024-11-20T18:40:52.888070Z",
          "iopub.status.busy": "2024-11-20T18:40:52.887448Z",
          "iopub.status.idle": "2024-11-20T18:40:52.897715Z",
          "shell.execute_reply": "2024-11-20T18:40:52.896728Z"
        },
        "id": "b2e04c09",
        "papermill": {
          "duration": 3.43613,
          "end_time": "2024-11-20T18:40:52.899926",
          "exception": false,
          "start_time": "2024-11-20T18:40:49.463796",
          "status": "completed"
        },
        "tags": []
      },
      "outputs": [],
      "source": [
        "statements = np.array([\n",
        "    [f'{matchSubject}', 'homeScores', '0'],\n",
        "    [f'{matchSubject}', 'homeScores', '1'],\n",
        "    [f'{matchSubject}', 'homeScores', '2'],\n",
        "    [f'{matchSubject}', 'homeScores', '3'],\n",
        "    [f'{matchSubject}', 'homeScores', '4'],\n",
        "    [f'{matchSubject}', 'awayScores', '0'],\n",
        "    [f'{matchSubject}', 'awayScores', '1'],\n",
        "    [f'{matchSubject}', 'awayScores', '2'],\n",
        "    [f'{matchSubject}', 'awayScores', '3'],\n",
        "    [f'{matchSubject}', 'awayScores', '4']\n",
        "])"
      ]
    },
    {
      "cell_type": "markdown",
      "id": "0df11088",
      "metadata": {
        "id": "0df11088",
        "papermill": {
          "duration": 3.468705,
          "end_time": "2024-11-20T18:40:59.812505",
          "exception": false,
          "start_time": "2024-11-20T18:40:56.343800",
          "status": "completed"
        },
        "tags": []
      },
      "source": [
        "Unite the triplets of the graph and the proposed statements."
      ]
    },
    {
      "cell_type": "code",
      "execution_count": null,
      "id": "cac20cde",
      "metadata": {
        "execution": {
          "iopub.execute_input": "2024-11-20T18:41:06.703837Z",
          "iopub.status.busy": "2024-11-20T18:41:06.703430Z",
          "iopub.status.idle": "2024-11-20T18:41:08.386059Z",
          "shell.execute_reply": "2024-11-20T18:41:08.384870Z"
        },
        "id": "cac20cde",
        "outputId": "95ac463e-064a-4fa2-d214-ceb9c099430e",
        "papermill": {
          "duration": 5.028038,
          "end_time": "2024-11-20T18:41:08.388485",
          "exception": false,
          "start_time": "2024-11-20T18:41:03.360447",
          "status": "completed"
        },
        "tags": []
      },
      "outputs": [
        {
          "data": {
            "text/plain": [
              "array([['Match33087', 'isNeutral', 'False'],\n",
              "       ['TeamWales', 'isAwayTeamIn', 'Match5782'],\n",
              "       ['Match5992', 'awayScores', '5'],\n",
              "       ...,\n",
              "       ['Match14640', 'inCountry', 'CountryChad'],\n",
              "       ['Match21824', 'isNeutral', 'False'],\n",
              "       ['Match11653', 'homeScores', '1']], dtype='<U48')"
            ]
          },
          "execution_count": 58,
          "metadata": {},
          "output_type": "execute_result"
        }
      ],
      "source": [
        "statements_filter = np.array(list({tuple(i) for i in np.vstack((dfFiltered, statements))}))\n",
        "statements_filter"
      ]
    },
    {
      "cell_type": "code",
      "execution_count": null,
      "id": "7b4ed1b0",
      "metadata": {
        "execution": {
          "iopub.execute_input": "2024-11-20T18:41:15.232187Z",
          "iopub.status.busy": "2024-11-20T18:41:15.231757Z",
          "iopub.status.idle": "2024-11-20T18:41:17.487418Z",
          "shell.execute_reply": "2024-11-20T18:41:17.486295Z"
        },
        "id": "7b4ed1b0",
        "outputId": "620cf83f-d954-4c0e-af72-e2b01c6e8783",
        "papermill": {
          "duration": 5.700893,
          "end_time": "2024-11-20T18:41:17.489906",
          "exception": false,
          "start_time": "2024-11-20T18:41:11.789013",
          "status": "completed"
        },
        "tags": []
      },
      "outputs": [
        {
          "name": "stdout",
          "output_type": "stream",
          "text": [
            "2/2 [==============================] - 2s 1s/step\n"
          ]
        }
      ],
      "source": [
        "ranks = model.evaluate(statements,\n",
        "                      use_filter={'train': dfFiltered,\n",
        "                                  'test': statements},\n",
        "                      corrupt_side='s,o',\n",
        "                      verbose=True)"
      ]
    },
    {
      "cell_type": "code",
      "execution_count": null,
      "id": "85083b81",
      "metadata": {
        "execution": {
          "iopub.execute_input": "2024-11-20T18:41:24.317739Z",
          "iopub.status.busy": "2024-11-20T18:41:24.317335Z",
          "iopub.status.idle": "2024-11-20T18:41:24.572625Z",
          "shell.execute_reply": "2024-11-20T18:41:24.571421Z"
        },
        "id": "85083b81",
        "outputId": "27ad6355-10b2-4cdc-d6b1-f91d62770250",
        "papermill": {
          "duration": 3.706124,
          "end_time": "2024-11-20T18:41:24.574841",
          "exception": false,
          "start_time": "2024-11-20T18:41:20.868717",
          "status": "completed"
        },
        "tags": []
      },
      "outputs": [
        {
          "data": {
            "text/plain": [
              "array([-0.5846524 ,  0.08066474, -0.48785803,  1.5089438 ,  5.684367  ,\n",
              "       -0.4420216 ,  2.5865698 ,  2.0160317 ,  1.2500255 , -0.39739496],\n",
              "      dtype=float32)"
            ]
          },
          "execution_count": 60,
          "metadata": {},
          "output_type": "execute_result"
        }
      ],
      "source": [
        "scores = model.predict(statements)\n",
        "scores"
      ]
    },
    {
      "cell_type": "markdown",
      "id": "98e06e2b",
      "metadata": {
        "id": "98e06e2b",
        "papermill": {
          "duration": 3.398156,
          "end_time": "2024-11-20T18:41:31.269253",
          "exception": false,
          "start_time": "2024-11-20T18:41:27.871097",
          "status": "completed"
        },
        "tags": []
      },
      "source": [
        "Present the result of predictions."
      ]
    },
    {
      "cell_type": "code",
      "execution_count": null,
      "id": "988f4325",
      "metadata": {
        "execution": {
          "iopub.execute_input": "2024-11-20T18:41:38.252368Z",
          "iopub.status.busy": "2024-11-20T18:41:38.251327Z",
          "iopub.status.idle": "2024-11-20T18:41:38.279993Z",
          "shell.execute_reply": "2024-11-20T18:41:38.278875Z"
        },
        "id": "988f4325",
        "outputId": "a409611a-a83b-4af2-92e1-277261c82fb4",
        "papermill": {
          "duration": 3.454874,
          "end_time": "2024-11-20T18:41:38.282133",
          "exception": false,
          "start_time": "2024-11-20T18:41:34.827259",
          "status": "completed"
        },
        "tags": []
      },
      "outputs": [
        {
          "data": {
            "text/html": [
              "<div>\n",
              "<style scoped>\n",
              "    .dataframe tbody tr th:only-of-type {\n",
              "        vertical-align: middle;\n",
              "    }\n",
              "\n",
              "    .dataframe tbody tr th {\n",
              "        vertical-align: top;\n",
              "    }\n",
              "\n",
              "    .dataframe thead th {\n",
              "        text-align: right;\n",
              "    }\n",
              "</style>\n",
              "<table border=\"1\" class=\"dataframe\">\n",
              "  <thead>\n",
              "    <tr style=\"text-align: right;\">\n",
              "      <th></th>\n",
              "      <th>statement</th>\n",
              "      <th>rank</th>\n",
              "      <th>score</th>\n",
              "      <th>prob</th>\n",
              "    </tr>\n",
              "  </thead>\n",
              "  <tbody>\n",
              "    <tr>\n",
              "      <th>0</th>\n",
              "      <td>Match1324 homeScores 0</td>\n",
              "      <td>[24323, 37191]</td>\n",
              "      <td>-0.584652</td>\n",
              "      <td>0.357863</td>\n",
              "    </tr>\n",
              "    <tr>\n",
              "      <th>2</th>\n",
              "      <td>Match1324 homeScores 2</td>\n",
              "      <td>[25271, 36315]</td>\n",
              "      <td>-0.487858</td>\n",
              "      <td>0.380398</td>\n",
              "    </tr>\n",
              "    <tr>\n",
              "      <th>5</th>\n",
              "      <td>Match1324 awayScores 0</td>\n",
              "      <td>[18691, 33323]</td>\n",
              "      <td>-0.442022</td>\n",
              "      <td>0.391259</td>\n",
              "    </tr>\n",
              "    <tr>\n",
              "      <th>9</th>\n",
              "      <td>Match1324 awayScores 4</td>\n",
              "      <td>[32198, 31962]</td>\n",
              "      <td>-0.397395</td>\n",
              "      <td>0.401938</td>\n",
              "    </tr>\n",
              "    <tr>\n",
              "      <th>1</th>\n",
              "      <td>Match1324 homeScores 1</td>\n",
              "      <td>[20895, 10848]</td>\n",
              "      <td>0.080665</td>\n",
              "      <td>0.520155</td>\n",
              "    </tr>\n",
              "    <tr>\n",
              "      <th>8</th>\n",
              "      <td>Match1324 awayScores 3</td>\n",
              "      <td>[23953, 86]</td>\n",
              "      <td>1.250026</td>\n",
              "      <td>0.777304</td>\n",
              "    </tr>\n",
              "    <tr>\n",
              "      <th>3</th>\n",
              "      <td>Match1324 homeScores 3</td>\n",
              "      <td>[22831, 67]</td>\n",
              "      <td>1.508944</td>\n",
              "      <td>0.818905</td>\n",
              "    </tr>\n",
              "    <tr>\n",
              "      <th>7</th>\n",
              "      <td>Match1324 awayScores 2</td>\n",
              "      <td>[17498, 22]</td>\n",
              "      <td>2.016032</td>\n",
              "      <td>0.882470</td>\n",
              "    </tr>\n",
              "    <tr>\n",
              "      <th>6</th>\n",
              "      <td>Match1324 awayScores 1</td>\n",
              "      <td>[12518, 6]</td>\n",
              "      <td>2.586570</td>\n",
              "      <td>0.929992</td>\n",
              "    </tr>\n",
              "    <tr>\n",
              "      <th>4</th>\n",
              "      <td>Match1324 homeScores 4</td>\n",
              "      <td>[16943, 1]</td>\n",
              "      <td>5.684367</td>\n",
              "      <td>0.996613</td>\n",
              "    </tr>\n",
              "  </tbody>\n",
              "</table>\n",
              "</div>"
            ],
            "text/plain": [
              "                statement            rank     score      prob\n",
              "0  Match1324 homeScores 0  [24323, 37191] -0.584652  0.357863\n",
              "2  Match1324 homeScores 2  [25271, 36315] -0.487858  0.380398\n",
              "5  Match1324 awayScores 0  [18691, 33323] -0.442022  0.391259\n",
              "9  Match1324 awayScores 4  [32198, 31962] -0.397395  0.401938\n",
              "1  Match1324 homeScores 1  [20895, 10848]  0.080665  0.520155\n",
              "8  Match1324 awayScores 3     [23953, 86]  1.250026  0.777304\n",
              "3  Match1324 homeScores 3     [22831, 67]  1.508944  0.818905\n",
              "7  Match1324 awayScores 2     [17498, 22]  2.016032  0.882470\n",
              "6  Match1324 awayScores 1      [12518, 6]  2.586570  0.929992\n",
              "4  Match1324 homeScores 4      [16943, 1]  5.684367  0.996613"
            ]
          },
          "execution_count": 61,
          "metadata": {},
          "output_type": "execute_result"
        }
      ],
      "source": [
        "from scipy.special import expit\n",
        "probs = expit(scores)\n",
        "\n",
        "pd.DataFrame(list(zip([' '.join(x) for x in statements],\n",
        "                      ranks,\n",
        "                      np.squeeze(scores),\n",
        "                      np.squeeze(probs))),\n",
        "             columns=['statement', 'rank', 'score', 'prob']).sort_values(\"prob\")"
      ]
    }
  ],
  "metadata": {
    "colab": {
      "provenance": []
    },
    "kaggle": {
      "accelerator": "none",
      "dataSources": [],
      "isGpuEnabled": false,
      "isInternetEnabled": true,
      "language": "python",
      "sourceType": "notebook"
    },
    "kernelspec": {
      "display_name": "Python 3",
      "name": "python3"
    },
    "language_info": {
      "codemirror_mode": {
        "name": "ipython",
        "version": 3
      },
      "file_extension": ".py",
      "mimetype": "text/x-python",
      "name": "python",
      "nbconvert_exporter": "python",
      "pygments_lexer": "ipython3",
      "version": "3.10.14"
    },
    "papermill": {
      "default_parameters": {},
      "duration": 25910.650274,
      "end_time": "2024-11-20T18:41:44.705790",
      "environment_variables": {},
      "exception": null,
      "input_path": "__notebook__.ipynb",
      "output_path": "__notebook__.ipynb",
      "parameters": {},
      "start_time": "2024-11-20T11:29:54.055516",
      "version": "2.6.0"
    }
  },
  "nbformat": 4,
  "nbformat_minor": 5
}